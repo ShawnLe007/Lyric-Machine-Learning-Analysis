{
 "cells": [
  {
   "cell_type": "code",
   "execution_count": 34,
   "metadata": {
    "colab": {
     "autoexec": {
      "startup": false,
      "wait_interval": 0
     },
     "base_uri": "https://localhost:8080/",
     "height": 52,
     "output_extras": [
      {
       "item_id": 1
      },
      {
       "item_id": 2
      }
     ]
    },
    "colab_type": "code",
    "collapsed": true,
    "executionInfo": {
     "elapsed": 1838120,
     "status": "ok",
     "timestamp": 1512351312774,
     "user": {
      "displayName": "Shawn Le",
      "photoUrl": "https://lh3.googleusercontent.com/a/default-user=s128",
      "userId": "108080468386679540347"
     },
     "user_tz": 480
    },
    "id": "yJJV42Q88Cwe",
    "outputId": "09afec8a-324e-44b9-e27c-fa02f4b3e273"
   },
   "outputs": [],
   "source": [
    "import pandas as pd\n",
    "from sklearn.utils import shuffle"
   ]
  },
  {
   "cell_type": "code",
   "execution_count": 35,
   "metadata": {
    "colab": {
     "autoexec": {
      "startup": false,
      "wait_interval": 0
     },
     "base_uri": "https://localhost:8080/",
     "height": 851,
     "output_extras": [
      {
       "item_id": 1
      }
     ]
    },
    "colab_type": "code",
    "executionInfo": {
     "elapsed": 479,
     "status": "error",
     "timestamp": 1512349064535,
     "user": {
      "displayName": "Shawn Le",
      "photoUrl": "https://lh3.googleusercontent.com/a/default-user=s128",
      "userId": "108080468386679540347"
     },
     "user_tz": 480
    },
    "id": "TcS3BUKk8Cwj",
    "outputId": "93ddd2b1-adba-4fe5-9dfc-8f42640cb12a"
   },
   "outputs": [],
   "source": [
    "# store csv into panda\n",
    "df = pd.read_csv(\"lyrics.csv\")"
   ]
  },
  {
   "cell_type": "code",
   "execution_count": 36,
   "metadata": {},
   "outputs": [
    {
     "name": "stdout",
     "output_type": "stream",
     "text": [
      "# of columns: 362237\n",
      "\n",
      "# of columns: 6\n",
      "\n"
     ]
    },
    {
     "data": {
      "text/html": [
       "<div>\n",
       "<style>\n",
       "    .dataframe thead tr:only-child th {\n",
       "        text-align: right;\n",
       "    }\n",
       "\n",
       "    .dataframe thead th {\n",
       "        text-align: left;\n",
       "    }\n",
       "\n",
       "    .dataframe tbody tr th {\n",
       "        vertical-align: top;\n",
       "    }\n",
       "</style>\n",
       "<table border=\"1\" class=\"dataframe\">\n",
       "  <thead>\n",
       "    <tr style=\"text-align: right;\">\n",
       "      <th></th>\n",
       "      <th>index</th>\n",
       "      <th>song</th>\n",
       "      <th>year</th>\n",
       "      <th>artist</th>\n",
       "      <th>genre</th>\n",
       "      <th>lyrics</th>\n",
       "    </tr>\n",
       "  </thead>\n",
       "  <tbody>\n",
       "    <tr>\n",
       "      <th>0</th>\n",
       "      <td>0</td>\n",
       "      <td>ego-remix</td>\n",
       "      <td>2009</td>\n",
       "      <td>beyonce-knowles</td>\n",
       "      <td>Pop</td>\n",
       "      <td>Oh baby, how you doing?\\nYou know I'm gonna cu...</td>\n",
       "    </tr>\n",
       "    <tr>\n",
       "      <th>1</th>\n",
       "      <td>1</td>\n",
       "      <td>then-tell-me</td>\n",
       "      <td>2009</td>\n",
       "      <td>beyonce-knowles</td>\n",
       "      <td>Pop</td>\n",
       "      <td>playin' everything so easy,\\nit's like you see...</td>\n",
       "    </tr>\n",
       "    <tr>\n",
       "      <th>2</th>\n",
       "      <td>2</td>\n",
       "      <td>honesty</td>\n",
       "      <td>2009</td>\n",
       "      <td>beyonce-knowles</td>\n",
       "      <td>Pop</td>\n",
       "      <td>If you search\\nFor tenderness\\nIt isn't hard t...</td>\n",
       "    </tr>\n",
       "    <tr>\n",
       "      <th>3</th>\n",
       "      <td>3</td>\n",
       "      <td>you-are-my-rock</td>\n",
       "      <td>2009</td>\n",
       "      <td>beyonce-knowles</td>\n",
       "      <td>Pop</td>\n",
       "      <td>Oh oh oh I, oh oh oh I\\n[Verse 1:]\\nIf I wrote...</td>\n",
       "    </tr>\n",
       "    <tr>\n",
       "      <th>4</th>\n",
       "      <td>4</td>\n",
       "      <td>black-culture</td>\n",
       "      <td>2009</td>\n",
       "      <td>beyonce-knowles</td>\n",
       "      <td>Pop</td>\n",
       "      <td>Party the people, the people the party it's po...</td>\n",
       "    </tr>\n",
       "  </tbody>\n",
       "</table>\n",
       "</div>"
      ],
      "text/plain": [
       "   index             song  year           artist genre  \\\n",
       "0      0        ego-remix  2009  beyonce-knowles   Pop   \n",
       "1      1     then-tell-me  2009  beyonce-knowles   Pop   \n",
       "2      2          honesty  2009  beyonce-knowles   Pop   \n",
       "3      3  you-are-my-rock  2009  beyonce-knowles   Pop   \n",
       "4      4    black-culture  2009  beyonce-knowles   Pop   \n",
       "\n",
       "                                              lyrics  \n",
       "0  Oh baby, how you doing?\\nYou know I'm gonna cu...  \n",
       "1  playin' everything so easy,\\nit's like you see...  \n",
       "2  If you search\\nFor tenderness\\nIt isn't hard t...  \n",
       "3  Oh oh oh I, oh oh oh I\\n[Verse 1:]\\nIf I wrote...  \n",
       "4  Party the people, the people the party it's po...  "
      ]
     },
     "execution_count": 36,
     "metadata": {},
     "output_type": "execute_result"
    }
   ],
   "source": [
    "# check shape of panda\n",
    "print(\"# of columns: {}\\n\".format(df.shape[0]))\n",
    "print(\"# of columns: {}\\n\".format(df.shape[1]))\n",
    "# check how data is organized\n",
    "df.head()"
   ]
  },
  {
   "cell_type": "code",
   "execution_count": 37,
   "metadata": {},
   "outputs": [
    {
     "name": "stdout",
     "output_type": "stream",
     "text": [
      "# of columns: 266556\n",
      "\n",
      "# of columns: 5\n",
      "\n"
     ]
    },
    {
     "data": {
      "text/html": [
       "<div>\n",
       "<style>\n",
       "    .dataframe thead tr:only-child th {\n",
       "        text-align: right;\n",
       "    }\n",
       "\n",
       "    .dataframe thead th {\n",
       "        text-align: left;\n",
       "    }\n",
       "\n",
       "    .dataframe tbody tr th {\n",
       "        vertical-align: top;\n",
       "    }\n",
       "</style>\n",
       "<table border=\"1\" class=\"dataframe\">\n",
       "  <thead>\n",
       "    <tr style=\"text-align: right;\">\n",
       "      <th></th>\n",
       "      <th>song</th>\n",
       "      <th>year</th>\n",
       "      <th>artist</th>\n",
       "      <th>genre</th>\n",
       "      <th>lyrics</th>\n",
       "    </tr>\n",
       "  </thead>\n",
       "  <tbody>\n",
       "    <tr>\n",
       "      <th>0</th>\n",
       "      <td>ego-remix</td>\n",
       "      <td>2009</td>\n",
       "      <td>beyonce-knowles</td>\n",
       "      <td>Pop</td>\n",
       "      <td>Oh baby, how you doing?\\nYou know I'm gonna cu...</td>\n",
       "    </tr>\n",
       "    <tr>\n",
       "      <th>1</th>\n",
       "      <td>then-tell-me</td>\n",
       "      <td>2009</td>\n",
       "      <td>beyonce-knowles</td>\n",
       "      <td>Pop</td>\n",
       "      <td>playin' everything so easy,\\nit's like you see...</td>\n",
       "    </tr>\n",
       "    <tr>\n",
       "      <th>2</th>\n",
       "      <td>honesty</td>\n",
       "      <td>2009</td>\n",
       "      <td>beyonce-knowles</td>\n",
       "      <td>Pop</td>\n",
       "      <td>If you search\\nFor tenderness\\nIt isn't hard t...</td>\n",
       "    </tr>\n",
       "    <tr>\n",
       "      <th>3</th>\n",
       "      <td>you-are-my-rock</td>\n",
       "      <td>2009</td>\n",
       "      <td>beyonce-knowles</td>\n",
       "      <td>Pop</td>\n",
       "      <td>Oh oh oh I, oh oh oh I\\n[Verse 1:]\\nIf I wrote...</td>\n",
       "    </tr>\n",
       "    <tr>\n",
       "      <th>4</th>\n",
       "      <td>black-culture</td>\n",
       "      <td>2009</td>\n",
       "      <td>beyonce-knowles</td>\n",
       "      <td>Pop</td>\n",
       "      <td>Party the people, the people the party it's po...</td>\n",
       "    </tr>\n",
       "  </tbody>\n",
       "</table>\n",
       "</div>"
      ],
      "text/plain": [
       "              song  year           artist genre  \\\n",
       "0        ego-remix  2009  beyonce-knowles   Pop   \n",
       "1     then-tell-me  2009  beyonce-knowles   Pop   \n",
       "2          honesty  2009  beyonce-knowles   Pop   \n",
       "3  you-are-my-rock  2009  beyonce-knowles   Pop   \n",
       "4    black-culture  2009  beyonce-knowles   Pop   \n",
       "\n",
       "                                              lyrics  \n",
       "0  Oh baby, how you doing?\\nYou know I'm gonna cu...  \n",
       "1  playin' everything so easy,\\nit's like you see...  \n",
       "2  If you search\\nFor tenderness\\nIt isn't hard t...  \n",
       "3  Oh oh oh I, oh oh oh I\\n[Verse 1:]\\nIf I wrote...  \n",
       "4  Party the people, the people the party it's po...  "
      ]
     },
     "execution_count": 37,
     "metadata": {},
     "output_type": "execute_result"
    }
   ],
   "source": [
    "# drop any row with missing data\n",
    "df = df.dropna()\n",
    "# drop column 'index'\n",
    "df = df.drop('index',1)\n",
    "# check shape of data frame\n",
    "print(\"# of columns: {}\\n\".format(df.shape[0]))\n",
    "print(\"# of columns: {}\\n\".format(df.shape[1]))\n",
    "# check how data is organized\n",
    "df.head()"
   ]
  },
  {
   "cell_type": "code",
   "execution_count": 38,
   "metadata": {},
   "outputs": [
    {
     "name": "stdout",
     "output_type": "stream",
     "text": [
      "# of unique songs: 187186\n",
      "\n",
      "['0-0' '0-0-0' '0-0-where-evil-dwells' ..., 'zzz-top' 'zzzonked' 'zzzzz']\n"
     ]
    }
   ],
   "source": [
    "# check the types of unique songs\n",
    "songs = df['song'].unique()\n",
    "# sort in descending order\n",
    "songs.sort()\n",
    "# display how many types of unique songs\n",
    "print(\"# of unique songs: {}\\n\".format(len(songs)))\n",
    "# print sorted array of unique songs\n",
    "print(songs)"
   ]
  },
  {
   "cell_type": "code",
   "execution_count": 39,
   "metadata": {},
   "outputs": [
    {
     "name": "stdout",
     "output_type": "stream",
     "text": [
      "# of unique years: 51\n",
      "\n",
      "[  67  112  702 1968 1970 1971 1972 1973 1974 1975 1976 1977 1978 1979 1980\n",
      " 1981 1982 1983 1984 1985 1986 1987 1988 1989 1990 1991 1992 1993 1994 1995\n",
      " 1996 1997 1998 1999 2000 2001 2002 2003 2004 2005 2006 2007 2008 2009 2010\n",
      " 2011 2012 2013 2014 2015 2016]\n"
     ]
    }
   ],
   "source": [
    "# check the types of unique years\n",
    "years = df['year'].unique()\n",
    "# sort in descending order\n",
    "years.sort()\n",
    "# display how many types of unique years\n",
    "print(\"# of unique years: {}\\n\".format(len(years)))\n",
    "# print sorted array of unique years\n",
    "print(years)"
   ]
  },
  {
   "cell_type": "code",
   "execution_count": 40,
   "metadata": {},
   "outputs": [
    {
     "name": "stdout",
     "output_type": "stream",
     "text": [
      "# of unique years: 48\n",
      "\n",
      "[1968 1970 1971 1972 1973 1974 1975 1976 1977 1978 1979 1980 1981 1982 1983\n",
      " 1984 1985 1986 1987 1988 1989 1990 1991 1992 1993 1994 1995 1996 1997 1998\n",
      " 1999 2000 2001 2002 2003 2004 2005 2006 2007 2008 2009 2010 2011 2012 2013\n",
      " 2014 2015 2016]\n"
     ]
    }
   ],
   "source": [
    "# delete years < 1900s\n",
    "df = df[(df['year'] > 1900)]\n",
    "# check the types of unique years left\n",
    "years = df['year'].unique()\n",
    "# sort in descending order\n",
    "years.sort()\n",
    "# display how many types of unique years\n",
    "print(\"# of unique years: {}\\n\".format(len(years)))\n",
    "# print sorted array of unique years\n",
    "print(years)"
   ]
  },
  {
   "cell_type": "code",
   "execution_count": 41,
   "metadata": {},
   "outputs": [
    {
     "name": "stdout",
     "output_type": "stream",
     "text": [
      "# of unique genre: 12\n",
      "\n",
      "['Country' 'Electronic' 'Folk' 'Hip-Hop' 'Indie' 'Jazz' 'Metal'\n",
      " 'Not Available' 'Other' 'Pop' 'R&B' 'Rock']\n"
     ]
    }
   ],
   "source": [
    "# check the types of unique genre\n",
    "genres = df['genre'].unique()\n",
    "# sort in descending order\n",
    "genres.sort()\n",
    "# display how many types of unique genres\n",
    "print(\"# of unique genre: {}\\n\".format(len(genres)))\n",
    "# print sorted array of unique genres\n",
    "print(genres)"
   ]
  },
  {
   "cell_type": "code",
   "execution_count": 42,
   "metadata": {
    "colab": {
     "autoexec": {
      "startup": false,
      "wait_interval": 0
     },
     "output_extras": [
      {}
     ]
    },
    "colab_type": "code",
    "id": "YZs4-kW68Cwq",
    "outputId": "c69b4e14-0a6a-40c7-b992-fc04a8301e99"
   },
   "outputs": [
    {
     "name": "stdout",
     "output_type": "stream",
     "text": [
      "# of unique genre: 10\n",
      "\n",
      "['Country' 'Electronic' 'Folk' 'Hip-Hop' 'Indie' 'Jazz' 'Metal' 'Pop' 'R&B'\n",
      " 'Rock']\n"
     ]
    }
   ],
   "source": [
    "# delete genres 'Not Available' and 'Other'\n",
    "df = df[(df['genre'] != 'Not Available') & (df['genre'] != 'Other')]\n",
    "# check how many types of unique genres left\n",
    "genres = df['genre'].unique()\n",
    "# sort in descending order\n",
    "genres.sort()\n",
    "# display how many types of unique genres\n",
    "print(\"# of unique genre: {}\\n\".format(len(genres)))\n",
    "# print sorted array of unique genres\n",
    "print(genres)"
   ]
  },
  {
   "cell_type": "code",
   "execution_count": 43,
   "metadata": {},
   "outputs": [
    {
     "name": "stdout",
     "output_type": "stream",
     "text": [
      "# of unique artists: 10104\n",
      "\n",
      "['009-sound-system' '047' '1-800-zombie' ..., 'the-grates'\n",
      " 'the-graveyard-boulevard' 'the-great-flood-catastrophe']\n"
     ]
    }
   ],
   "source": [
    "# check the types of unique artists\n",
    "artists = df['artist'].unique()\n",
    "# sort in descending order\n",
    "artists.sort()\n",
    "# display how many types of unique artists\n",
    "print(\"# of unique artists: {}\\n\".format(len(artists)))\n",
    "# print sorted array of unique artists\n",
    "print(artists)"
   ]
  },
  {
   "cell_type": "code",
   "execution_count": 44,
   "metadata": {},
   "outputs": [
    {
     "data": {
      "text/html": [
       "<div>\n",
       "<style>\n",
       "    .dataframe thead tr:only-child th {\n",
       "        text-align: right;\n",
       "    }\n",
       "\n",
       "    .dataframe thead th {\n",
       "        text-align: left;\n",
       "    }\n",
       "\n",
       "    .dataframe tbody tr th {\n",
       "        vertical-align: top;\n",
       "    }\n",
       "</style>\n",
       "<table border=\"1\" class=\"dataframe\">\n",
       "  <thead>\n",
       "    <tr style=\"text-align: right;\">\n",
       "      <th></th>\n",
       "      <th>song</th>\n",
       "      <th>year</th>\n",
       "      <th>artist</th>\n",
       "      <th>genre</th>\n",
       "      <th>lyrics</th>\n",
       "    </tr>\n",
       "  </thead>\n",
       "  <tbody>\n",
       "    <tr>\n",
       "      <th>0</th>\n",
       "      <td>ego-remix</td>\n",
       "      <td>2009</td>\n",
       "      <td>beyonce-knowles</td>\n",
       "      <td>Pop</td>\n",
       "      <td>Oh baby, how you doing?\\nYou know I'm gonna cu...</td>\n",
       "    </tr>\n",
       "    <tr>\n",
       "      <th>1</th>\n",
       "      <td>then-tell-me</td>\n",
       "      <td>2009</td>\n",
       "      <td>beyonce-knowles</td>\n",
       "      <td>Pop</td>\n",
       "      <td>playin' everything so easy,\\nit's like you see...</td>\n",
       "    </tr>\n",
       "    <tr>\n",
       "      <th>2</th>\n",
       "      <td>honesty</td>\n",
       "      <td>2009</td>\n",
       "      <td>beyonce-knowles</td>\n",
       "      <td>Pop</td>\n",
       "      <td>If you search\\nFor tenderness\\nIt isn't hard t...</td>\n",
       "    </tr>\n",
       "    <tr>\n",
       "      <th>3</th>\n",
       "      <td>you-are-my-rock</td>\n",
       "      <td>2009</td>\n",
       "      <td>beyonce-knowles</td>\n",
       "      <td>Pop</td>\n",
       "      <td>Oh oh oh I, oh oh oh I\\n[Verse 1:]\\nIf I wrote...</td>\n",
       "    </tr>\n",
       "    <tr>\n",
       "      <th>4</th>\n",
       "      <td>black-culture</td>\n",
       "      <td>2009</td>\n",
       "      <td>beyonce-knowles</td>\n",
       "      <td>Pop</td>\n",
       "      <td>Party the people, the people the party it's po...</td>\n",
       "    </tr>\n",
       "  </tbody>\n",
       "</table>\n",
       "</div>"
      ],
      "text/plain": [
       "              song  year           artist genre  \\\n",
       "0        ego-remix  2009  beyonce-knowles   Pop   \n",
       "1     then-tell-me  2009  beyonce-knowles   Pop   \n",
       "2          honesty  2009  beyonce-knowles   Pop   \n",
       "3  you-are-my-rock  2009  beyonce-knowles   Pop   \n",
       "4    black-culture  2009  beyonce-knowles   Pop   \n",
       "\n",
       "                                              lyrics  \n",
       "0  Oh baby, how you doing?\\nYou know I'm gonna cu...  \n",
       "1  playin' everything so easy,\\nit's like you see...  \n",
       "2  If you search\\nFor tenderness\\nIt isn't hard t...  \n",
       "3  Oh oh oh I, oh oh oh I\\n[Verse 1:]\\nIf I wrote...  \n",
       "4  Party the people, the people the party it's po...  "
      ]
     },
     "execution_count": 44,
     "metadata": {},
     "output_type": "execute_result"
    }
   ],
   "source": [
    "# check how data is organized\n",
    "df.head()"
   ]
  },
  {
   "cell_type": "code",
   "execution_count": 45,
   "metadata": {},
   "outputs": [],
   "source": [
    "from sklearn.model_selection import train_test_split\n",
    "# shuffle and split dataset into training dataset and testing dataset\n",
    "train, test = train_test_split(df, test_size=0.2)"
   ]
  },
  {
   "cell_type": "code",
   "execution_count": 46,
   "metadata": {},
   "outputs": [
    {
     "name": "stdout",
     "output_type": "stream",
     "text": [
      "# of columns: 189936\n",
      "\n",
      "# of columns: 5\n",
      "\n"
     ]
    },
    {
     "data": {
      "text/html": [
       "<div>\n",
       "<style>\n",
       "    .dataframe thead tr:only-child th {\n",
       "        text-align: right;\n",
       "    }\n",
       "\n",
       "    .dataframe thead th {\n",
       "        text-align: left;\n",
       "    }\n",
       "\n",
       "    .dataframe tbody tr th {\n",
       "        vertical-align: top;\n",
       "    }\n",
       "</style>\n",
       "<table border=\"1\" class=\"dataframe\">\n",
       "  <thead>\n",
       "    <tr style=\"text-align: right;\">\n",
       "      <th></th>\n",
       "      <th>song</th>\n",
       "      <th>year</th>\n",
       "      <th>artist</th>\n",
       "      <th>genre</th>\n",
       "      <th>lyrics</th>\n",
       "    </tr>\n",
       "  </thead>\n",
       "  <tbody>\n",
       "    <tr>\n",
       "      <th>221611</th>\n",
       "      <td>puppy-love</td>\n",
       "      <td>2009</td>\n",
       "      <td>donny-marie-osmond</td>\n",
       "      <td>Pop</td>\n",
       "      <td>And they called it puppy love\\nOh, I guess the...</td>\n",
       "    </tr>\n",
       "    <tr>\n",
       "      <th>168911</th>\n",
       "      <td>dirty-n-deep</td>\n",
       "      <td>2007</td>\n",
       "      <td>debbie-harry</td>\n",
       "      <td>Rock</td>\n",
       "      <td>Throw down your sweet sixteen\\nLil Kim can do ...</td>\n",
       "    </tr>\n",
       "    <tr>\n",
       "      <th>97578</th>\n",
       "      <td>three-of-a-perfect-pair</td>\n",
       "      <td>2006</td>\n",
       "      <td>adrian-belew</td>\n",
       "      <td>Rock</td>\n",
       "      <td>She is susceptible\\nHe is impossible\\nThey hav...</td>\n",
       "    </tr>\n",
       "    <tr>\n",
       "      <th>8731</th>\n",
       "      <td>what-do-you-got</td>\n",
       "      <td>2007</td>\n",
       "      <td>50-cent</td>\n",
       "      <td>Hip-Hop</td>\n",
       "      <td>(Chorus) (Sampled Eminem)\\nBig and some Pac an...</td>\n",
       "    </tr>\n",
       "    <tr>\n",
       "      <th>323110</th>\n",
       "      <td>the-new-sad</td>\n",
       "      <td>2006</td>\n",
       "      <td>barenaked-ladies</td>\n",
       "      <td>Rock</td>\n",
       "      <td>Everybody knows that happy is the new sad\\nSo ...</td>\n",
       "    </tr>\n",
       "  </tbody>\n",
       "</table>\n",
       "</div>"
      ],
      "text/plain": [
       "                           song  year              artist    genre  \\\n",
       "221611               puppy-love  2009  donny-marie-osmond      Pop   \n",
       "168911             dirty-n-deep  2007        debbie-harry     Rock   \n",
       "97578   three-of-a-perfect-pair  2006        adrian-belew     Rock   \n",
       "8731            what-do-you-got  2007             50-cent  Hip-Hop   \n",
       "323110              the-new-sad  2006    barenaked-ladies     Rock   \n",
       "\n",
       "                                                   lyrics  \n",
       "221611  And they called it puppy love\\nOh, I guess the...  \n",
       "168911  Throw down your sweet sixteen\\nLil Kim can do ...  \n",
       "97578   She is susceptible\\nHe is impossible\\nThey hav...  \n",
       "8731    (Chorus) (Sampled Eminem)\\nBig and some Pac an...  \n",
       "323110  Everybody knows that happy is the new sad\\nSo ...  "
      ]
     },
     "execution_count": 46,
     "metadata": {},
     "output_type": "execute_result"
    }
   ],
   "source": [
    "# check shape of train panda\n",
    "print(\"# of columns: {}\\n\".format(train.shape[0]))\n",
    "print(\"# of columns: {}\\n\".format(train.shape[1]))\n",
    "# check how train data is organized\n",
    "train.head()"
   ]
  },
  {
   "cell_type": "code",
   "execution_count": 47,
   "metadata": {
    "colab": {
     "autoexec": {
      "startup": false,
      "wait_interval": 0
     }
    },
    "colab_type": "code",
    "id": "90-03EV98Cwu"
   },
   "outputs": [
    {
     "name": "stdout",
     "output_type": "stream",
     "text": [
      "# of columns: 47484\n",
      "\n",
      "# of columns: 5\n",
      "\n"
     ]
    },
    {
     "data": {
      "text/html": [
       "<div>\n",
       "<style>\n",
       "    .dataframe thead tr:only-child th {\n",
       "        text-align: right;\n",
       "    }\n",
       "\n",
       "    .dataframe thead th {\n",
       "        text-align: left;\n",
       "    }\n",
       "\n",
       "    .dataframe tbody tr th {\n",
       "        vertical-align: top;\n",
       "    }\n",
       "</style>\n",
       "<table border=\"1\" class=\"dataframe\">\n",
       "  <thead>\n",
       "    <tr style=\"text-align: right;\">\n",
       "      <th></th>\n",
       "      <th>song</th>\n",
       "      <th>year</th>\n",
       "      <th>artist</th>\n",
       "      <th>genre</th>\n",
       "      <th>lyrics</th>\n",
       "    </tr>\n",
       "  </thead>\n",
       "  <tbody>\n",
       "    <tr>\n",
       "      <th>108553</th>\n",
       "      <td>thanks-prayer</td>\n",
       "      <td>2007</td>\n",
       "      <td>en-vogue</td>\n",
       "      <td>Pop</td>\n",
       "      <td>Father,\\nYou've given us so many blessings\\nSo...</td>\n",
       "    </tr>\n",
       "    <tr>\n",
       "      <th>138326</th>\n",
       "      <td>rock-wit-cha</td>\n",
       "      <td>2011</td>\n",
       "      <td>bobby-v</td>\n",
       "      <td>Hip-Hop</td>\n",
       "      <td>Wake up girl, I want some more\\nEvery time I l...</td>\n",
       "    </tr>\n",
       "    <tr>\n",
       "      <th>70166</th>\n",
       "      <td>the-grave</td>\n",
       "      <td>2006</td>\n",
       "      <td>don-mclean</td>\n",
       "      <td>Rock</td>\n",
       "      <td>The grave that they dug him had flowers\\nGathe...</td>\n",
       "    </tr>\n",
       "    <tr>\n",
       "      <th>327546</th>\n",
       "      <td>alone-again</td>\n",
       "      <td>2007</td>\n",
       "      <td>doro-pesch</td>\n",
       "      <td>Rock</td>\n",
       "      <td>Alone again, alone again\\nI'm in the twilight ...</td>\n",
       "    </tr>\n",
       "    <tr>\n",
       "      <th>178409</th>\n",
       "      <td>burning-heretics</td>\n",
       "      <td>2006</td>\n",
       "      <td>apoptygma-berzerk</td>\n",
       "      <td>Pop</td>\n",
       "      <td>\"The holy inquisition finds you guilty of here...</td>\n",
       "    </tr>\n",
       "  </tbody>\n",
       "</table>\n",
       "</div>"
      ],
      "text/plain": [
       "                    song  year             artist    genre  \\\n",
       "108553     thanks-prayer  2007           en-vogue      Pop   \n",
       "138326      rock-wit-cha  2011            bobby-v  Hip-Hop   \n",
       "70166          the-grave  2006         don-mclean     Rock   \n",
       "327546       alone-again  2007         doro-pesch     Rock   \n",
       "178409  burning-heretics  2006  apoptygma-berzerk      Pop   \n",
       "\n",
       "                                                   lyrics  \n",
       "108553  Father,\\nYou've given us so many blessings\\nSo...  \n",
       "138326  Wake up girl, I want some more\\nEvery time I l...  \n",
       "70166   The grave that they dug him had flowers\\nGathe...  \n",
       "327546  Alone again, alone again\\nI'm in the twilight ...  \n",
       "178409  \"The holy inquisition finds you guilty of here...  "
      ]
     },
     "execution_count": 47,
     "metadata": {},
     "output_type": "execute_result"
    }
   ],
   "source": [
    "# check shape of test panda\n",
    "print(\"# of columns: {}\\n\".format(test.shape[0]))\n",
    "print(\"# of columns: {}\\n\".format(test.shape[1]))\n",
    "# check how test data is organized\n",
    "test.head()"
   ]
  },
  {
   "cell_type": "code",
   "execution_count": null,
   "metadata": {
    "colab": {
     "autoexec": {
      "startup": false,
      "wait_interval": 0
     }
    },
    "colab_type": "code",
    "collapsed": true,
    "id": "t0TObI9l8Cww"
   },
   "outputs": [],
   "source": []
  },
  {
   "cell_type": "code",
   "execution_count": null,
   "metadata": {
    "colab": {
     "autoexec": {
      "startup": false,
      "wait_interval": 0
     },
     "output_extras": [
      {}
     ]
    },
    "colab_type": "code",
    "id": "2ddjUfxW8Cwz",
    "outputId": "0999d2c6-c616-435f-d990-5abd94f83a08"
   },
   "outputs": [],
   "source": []
  },
  {
   "cell_type": "code",
   "execution_count": null,
   "metadata": {
    "colab": {
     "autoexec": {
      "startup": false,
      "wait_interval": 0
     }
    },
    "colab_type": "code",
    "collapsed": true,
    "id": "F_xU0f1a8Cw3"
   },
   "outputs": [],
   "source": []
  },
  {
   "cell_type": "code",
   "execution_count": null,
   "metadata": {
    "colab": {
     "autoexec": {
      "startup": false,
      "wait_interval": 0
     },
     "base_uri": "https://localhost:8080/",
     "height": 34,
     "output_extras": [
      {
       "item_id": 1
      }
     ]
    },
    "colab_type": "code",
    "collapsed": true,
    "executionInfo": {
     "elapsed": 599,
     "status": "ok",
     "timestamp": 1512348865986,
     "user": {
      "displayName": "Shawn Le",
      "photoUrl": "https://lh3.googleusercontent.com/a/default-user=s128",
      "userId": "108080468386679540347"
     },
     "user_tz": 480
    },
    "id": "4fihuZE38Cw5",
    "outputId": "775804a2-ee95-4327-d3e9-98fdce9404e9"
   },
   "outputs": [],
   "source": [
    "\n"
   ]
  },
  {
   "cell_type": "code",
   "execution_count": null,
   "metadata": {
    "colab": {
     "autoexec": {
      "startup": false,
      "wait_interval": 0
     },
     "base_uri": "https://localhost:8080/",
     "height": 34,
     "output_extras": [
      {
       "item_id": 1
      }
     ]
    },
    "colab_type": "code",
    "collapsed": true,
    "executionInfo": {
     "elapsed": 240,
     "status": "ok",
     "timestamp": 1512347991035,
     "user": {
      "displayName": "Shawn Le",
      "photoUrl": "https://lh3.googleusercontent.com/a/default-user=s128",
      "userId": "108080468386679540347"
     },
     "user_tz": 480
    },
    "id": "CTOqHlgr9dFg",
    "outputId": "81ec0f1e-1f51-4828-b1b9-c89ad934a305"
   },
   "outputs": [],
   "source": []
  },
  {
   "cell_type": "code",
   "execution_count": null,
   "metadata": {
    "colab": {
     "autoexec": {
      "startup": false,
      "wait_interval": 0
     },
     "base_uri": "https://localhost:8080/",
     "height": 34,
     "output_extras": [
      {
       "item_id": 1
      }
     ]
    },
    "colab_type": "code",
    "collapsed": true,
    "executionInfo": {
     "elapsed": 600,
     "status": "ok",
     "timestamp": 1512347994627,
     "user": {
      "displayName": "Shawn Le",
      "photoUrl": "https://lh3.googleusercontent.com/a/default-user=s128",
      "userId": "108080468386679540347"
     },
     "user_tz": 480
    },
    "id": "dPYffRG49fcM",
    "outputId": "565f969d-a921-4495-bf90-50161894c7a3"
   },
   "outputs": [],
   "source": []
  },
  {
   "cell_type": "code",
   "execution_count": null,
   "metadata": {
    "colab": {
     "autoexec": {
      "startup": false,
      "wait_interval": 0
     },
     "base_uri": "https://localhost:8080/",
     "height": 119,
     "output_extras": [
      {
       "item_id": 1
      }
     ]
    },
    "colab_type": "code",
    "collapsed": true,
    "executionInfo": {
     "elapsed": 601,
     "status": "ok",
     "timestamp": 1512348158094,
     "user": {
      "displayName": "Shawn Le",
      "photoUrl": "https://lh3.googleusercontent.com/a/default-user=s128",
      "userId": "108080468386679540347"
     },
     "user_tz": 480
    },
    "id": "K_M9PFak9pNV",
    "outputId": "2be830ce-af6f-470a-8c77-1fc3f2cb3e88"
   },
   "outputs": [],
   "source": []
  },
  {
   "cell_type": "code",
   "execution_count": null,
   "metadata": {
    "colab": {
     "autoexec": {
      "startup": false,
      "wait_interval": 0
     },
     "base_uri": "https://localhost:8080/",
     "height": 34,
     "output_extras": [
      {
       "item_id": 1
      }
     ]
    },
    "colab_type": "code",
    "collapsed": true,
    "executionInfo": {
     "elapsed": 331,
     "status": "ok",
     "timestamp": 1512348211090,
     "user": {
      "displayName": "Shawn Le",
      "photoUrl": "https://lh3.googleusercontent.com/a/default-user=s128",
      "userId": "108080468386679540347"
     },
     "user_tz": 480
    },
    "id": "tbB4YHDF9x_0",
    "outputId": "9bc19501-1b0e-4187-c4cb-deea7129c3f8"
   },
   "outputs": [],
   "source": [
    "\n"
   ]
  },
  {
   "cell_type": "code",
   "execution_count": null,
   "metadata": {
    "colab": {
     "autoexec": {
      "startup": false,
      "wait_interval": 0
     }
    },
    "colab_type": "code",
    "collapsed": true,
    "id": "YXwwflqe9ykD"
   },
   "outputs": [],
   "source": []
  },
  {
   "cell_type": "code",
   "execution_count": null,
   "metadata": {
    "colab": {
     "autoexec": {
      "startup": false,
      "wait_interval": 0
     },
     "base_uri": "https://localhost:8080/",
     "height": 80,
     "output_extras": [
      {
       "item_id": 1
      }
     ]
    },
    "colab_type": "code",
    "collapsed": true,
    "executionInfo": {
     "elapsed": 25847,
     "status": "ok",
     "timestamp": 1512351400402,
     "user": {
      "displayName": "Shawn Le",
      "photoUrl": "https://lh3.googleusercontent.com/a/default-user=s128",
      "userId": "108080468386679540347"
     },
     "user_tz": 480
    },
    "id": "aEle1HOCsU0-",
    "outputId": "06293952-0663-403a-bdaf-c9a9065f0067"
   },
   "outputs": [],
   "source": []
  },
  {
   "cell_type": "code",
   "execution_count": null,
   "metadata": {
    "colab": {
     "autoexec": {
      "startup": false,
      "wait_interval": 0
     }
    },
    "colab_type": "code",
    "collapsed": true,
    "id": "FgedqxkEKmY-"
   },
   "outputs": [],
   "source": []
  }
 ],
 "metadata": {
  "colab": {
   "default_view": {},
   "name": "COGS 118B Final Project.ipynb",
   "provenance": [],
   "version": "0.3.2",
   "views": {}
  },
  "kernelspec": {
   "display_name": "Python 3",
   "language": "python",
   "name": "python3"
  },
  "language_info": {
   "codemirror_mode": {
    "name": "ipython",
    "version": 3
   },
   "file_extension": ".py",
   "mimetype": "text/x-python",
   "name": "python",
   "nbconvert_exporter": "python",
   "pygments_lexer": "ipython3",
   "version": "3.6.3"
  }
 },
 "nbformat": 4,
 "nbformat_minor": 1
}
