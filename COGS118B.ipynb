{
 "cells": [
  {
   "cell_type": "markdown",
   "metadata": {},
   "source": [
    "# Import Main Libraries"
   ]
  },
  {
   "cell_type": "code",
   "execution_count": null,
   "metadata": {
    "colab": {
     "autoexec": {
      "startup": false,
      "wait_interval": 0
     },
     "base_uri": "https://localhost:8080/",
     "height": 52,
     "output_extras": [
      {
       "item_id": 1
      },
      {
       "item_id": 2
      }
     ]
    },
    "colab_type": "code",
    "collapsed": true,
    "executionInfo": {
     "elapsed": 1838120,
     "status": "ok",
     "timestamp": 1512351312774,
     "user": {
      "displayName": "Shawn Le",
      "photoUrl": "https://lh3.googleusercontent.com/a/default-user=s128",
      "userId": "108080468386679540347"
     },
     "user_tz": 480
    },
    "id": "yJJV42Q88Cwe",
    "outputId": "09afec8a-324e-44b9-e27c-fa02f4b3e273"
   },
   "outputs": [],
   "source": [
    "import pandas as pd\n",
    "import seaborn as sns\n",
    "import matplotlib.pyplot as plt"
   ]
  },
  {
   "cell_type": "markdown",
   "metadata": {},
   "source": [
    "# Import Data"
   ]
  },
  {
   "cell_type": "code",
   "execution_count": null,
   "metadata": {
    "colab": {
     "autoexec": {
      "startup": false,
      "wait_interval": 0
     },
     "base_uri": "https://localhost:8080/",
     "height": 851,
     "output_extras": [
      {
       "item_id": 1
      }
     ]
    },
    "colab_type": "code",
    "collapsed": true,
    "executionInfo": {
     "elapsed": 479,
     "status": "error",
     "timestamp": 1512349064535,
     "user": {
      "displayName": "Shawn Le",
      "photoUrl": "https://lh3.googleusercontent.com/a/default-user=s128",
      "userId": "108080468386679540347"
     },
     "user_tz": 480
    },
    "id": "TcS3BUKk8Cwj",
    "outputId": "93ddd2b1-adba-4fe5-9dfc-8f42640cb12a"
   },
   "outputs": [],
   "source": [
    "# store csv into panda\n",
    "df = pd.read_csv(\"lyrics.csv\")"
   ]
  },
  {
   "cell_type": "code",
   "execution_count": null,
   "metadata": {},
   "outputs": [],
   "source": [
    "# display panda info\n",
    "df.info()\n",
    "# check shape of panda\n",
    "print(\"\\n# of rows: {}\".format(df.shape[0]))\n",
    "print(\"# of columns: {}\".format(df.shape[1]))\n",
    "# check how data is organized\n",
    "df.head()"
   ]
  },
  {
   "cell_type": "markdown",
   "metadata": {},
   "source": [
    "# Clean Data\n",
    "### Clean Data in General\n",
    "There are missing data in the lyrics section with only 266557 non-null object compared to 362237 non-null objects for others.\n",
    "We delete the index column as the order of the songs are not important."
   ]
  },
  {
   "cell_type": "code",
   "execution_count": null,
   "metadata": {},
   "outputs": [],
   "source": [
    "# drop any row with missing data\n",
    "df = df.dropna()\n",
    "# drop column 'index'\n",
    "df = df.drop('index',1)"
   ]
  },
  {
   "cell_type": "code",
   "execution_count": null,
   "metadata": {},
   "outputs": [],
   "source": [
    "# display panda info\n",
    "df.info()\n",
    "# check shape of data frame\n",
    "print(\"\\n# of rows: {}\".format(df.shape[0]))\n",
    "print(\"# of columns: {}\".format(df.shape[1]))\n",
    "# check how data is organized\n",
    "df.head()"
   ]
  },
  {
   "cell_type": "markdown",
   "metadata": {},
   "source": [
    "### Clean data by column 'songs'"
   ]
  },
  {
   "cell_type": "code",
   "execution_count": null,
   "metadata": {},
   "outputs": [],
   "source": [
    "# check the types of unique songs\n",
    "songs = df['song'].unique()\n",
    "# sort in descending order\n",
    "songs.sort()\n",
    "# display how many types of unique songs\n",
    "print(\"# of unique songs: {}\\n\".format(len(songs)))\n",
    "# print sorted array of unique songs\n",
    "print(songs)"
   ]
  },
  {
   "cell_type": "markdown",
   "metadata": {},
   "source": [
    "### Clean data by column 'years'"
   ]
  },
  {
   "cell_type": "code",
   "execution_count": null,
   "metadata": {},
   "outputs": [],
   "source": [
    "# check the types of unique years\n",
    "years = df['year'].unique()\n",
    "# sort in descending order\n",
    "years.sort()\n",
    "# display how many types of unique years\n",
    "print(\"# of unique years: {}\\n\".format(len(years)))\n",
    "# print sorted array of unique years\n",
    "print(years)"
   ]
  },
  {
   "cell_type": "markdown",
   "metadata": {},
   "source": [
    "As we can see from above, there are year 67, 112, 702.\n",
    "We delete these years as they are not after 1900s."
   ]
  },
  {
   "cell_type": "code",
   "execution_count": null,
   "metadata": {},
   "outputs": [],
   "source": [
    "# delete years < 1900s\n",
    "df = df[(df['year'] > 1900)]\n",
    "# check the types of unique years left\n",
    "years = df['year'].unique()\n",
    "# sort in descending order\n",
    "years.sort()\n",
    "# display how many types of unique years\n",
    "print(\"# of unique years: {}\\n\".format(len(years)))\n",
    "# print sorted array of unique years\n",
    "print(years)"
   ]
  },
  {
   "cell_type": "markdown",
   "metadata": {},
   "source": [
    "### Clean data by column 'artist'"
   ]
  },
  {
   "cell_type": "code",
   "execution_count": null,
   "metadata": {},
   "outputs": [],
   "source": [
    "# check the types of unique artists\n",
    "artists = df['artist'].unique()\n",
    "# sort in descending order\n",
    "artists.sort()\n",
    "# display how many types of unique artists\n",
    "print(\"# of unique artists: {}\\n\".format(len(artists)))\n",
    "# print sorted array of unique artists\n",
    "print(artists)"
   ]
  },
  {
   "cell_type": "markdown",
   "metadata": {},
   "source": [
    "### Clean data by column 'genre'"
   ]
  },
  {
   "cell_type": "code",
   "execution_count": null,
   "metadata": {},
   "outputs": [],
   "source": [
    "# check the types of unique genre\n",
    "genres = df['genre'].unique()\n",
    "# sort in descending order\n",
    "genres.sort()\n",
    "# display how many types of unique genres\n",
    "print(\"# of unique genre: {}\\n\".format(len(genres)))\n",
    "# print sorted array of unique genres\n",
    "print(genres)"
   ]
  },
  {
   "cell_type": "markdown",
   "metadata": {},
   "source": [
    "As we can see above, we have genre 'Not Available' and 'Other'.\n",
    "To simplify, we delete them out of the data set."
   ]
  },
  {
   "cell_type": "code",
   "execution_count": null,
   "metadata": {
    "colab": {
     "autoexec": {
      "startup": false,
      "wait_interval": 0
     },
     "output_extras": [
      {}
     ]
    },
    "colab_type": "code",
    "id": "YZs4-kW68Cwq",
    "outputId": "c69b4e14-0a6a-40c7-b992-fc04a8301e99"
   },
   "outputs": [],
   "source": [
    "# delete genres 'Not Available' and 'Other'\n",
    "df = df[(df['genre'] != 'Not Available') & (df['genre'] != 'Other')]\n",
    "# check how many types of unique genres left\n",
    "genres = df['genre'].unique()\n",
    "# sort in descending order\n",
    "genres.sort()\n",
    "# display how many types of unique genres\n",
    "print(\"# of unique genres: {}\\n\".format(len(genres)))\n",
    "# print sorted array of unique genres\n",
    "print(genres)"
   ]
  },
  {
   "cell_type": "markdown",
   "metadata": {},
   "source": [
    "### Clean data by column 'lyrics'"
   ]
  },
  {
   "cell_type": "code",
   "execution_count": null,
   "metadata": {},
   "outputs": [],
   "source": [
    "# check lyrics data\n",
    "df['lyrics'].head()"
   ]
  },
  {
   "cell_type": "code",
   "execution_count": null,
   "metadata": {},
   "outputs": [],
   "source": [
    "# Replace all \\n with space\n",
    "df = df.replace({'\\n':' '}, regex=True)"
   ]
  },
  {
   "cell_type": "code",
   "execution_count": null,
   "metadata": {},
   "outputs": [],
   "source": [
    "# check how data changed\n",
    "df['lyrics'].head()"
   ]
  },
  {
   "cell_type": "code",
   "execution_count": null,
   "metadata": {},
   "outputs": [],
   "source": [
    "# count the words in each song\n",
    "df['word_count'] = df['lyrics'].str.split().str.len()\n",
    "df.head()"
   ]
  },
  {
   "cell_type": "code",
   "execution_count": null,
   "metadata": {},
   "outputs": [],
   "source": [
    "# check some statistic based on word counts grouped by genre\n",
    "df['word_count'].groupby(df['genre']).describe()"
   ]
  },
  {
   "cell_type": "markdown",
   "metadata": {},
   "source": [
    "It's odd that there are songs with 1 word from the min section of every genre.\n",
    "Let's check what they are."
   ]
  },
  {
   "cell_type": "code",
   "execution_count": null,
   "metadata": {},
   "outputs": [],
   "source": [
    "# display the top songs with 1 word\n",
    "print(\"# of songs with 1 word: {}\".format(len(df.loc[df['word_count'] == 1])))\n",
    "df.loc[df['word_count'] == 1].head()"
   ]
  },
  {
   "cell_type": "markdown",
   "metadata": {},
   "source": [
    "The 1-worded songs are mostly instrumental.\n",
    "Let's delete them from the data set as they essentially don't have lyrics."
   ]
  },
  {
   "cell_type": "code",
   "execution_count": null,
   "metadata": {},
   "outputs": [],
   "source": [
    "# delete songs with 1 word\n",
    "df = df[df['word_count'] != 1]\n",
    "# review data\n",
    "df['word_count'].groupby(df['genre']).describe()"
   ]
  },
  {
   "cell_type": "markdown",
   "metadata": {},
   "source": [
    "There are still some songs with 2, 3 words.\n",
    "Let's check them if they have lyrics."
   ]
  },
  {
   "cell_type": "code",
   "execution_count": null,
   "metadata": {},
   "outputs": [],
   "source": [
    "# display the top songs with 2 words\n",
    "print(\"# of songs with 1 word: {}\".format(len(df.loc[df['word_count'] == 2])))\n",
    "df.loc[df['word_count'] == 2].head()"
   ]
  },
  {
   "cell_type": "code",
   "execution_count": null,
   "metadata": {},
   "outputs": [],
   "source": [
    "# display the top songs with 3 words\n",
    "print(\"# of songs with 3 words: {}\".format(len(df.loc[df['word_count'] == 3])))\n",
    "df.loc[df['word_count']  == 3].head()"
   ]
  },
  {
   "cell_type": "code",
   "execution_count": null,
   "metadata": {},
   "outputs": [],
   "source": [
    "# display the top songs with 3 words\n",
    "print(\"# of songs with 3 words: {}\".format(len(df.loc[df['word_count'] < 50])))"
   ]
  },
  {
   "cell_type": "code",
   "execution_count": null,
   "metadata": {},
   "outputs": [],
   "source": [
    "# check the proportion of songs with less 100 words compared to the entire data set\n",
    "print(\"# of songs < 50 words: {}\".format(len(df[df['word_count'] < 50])))\n",
    "print(\"# of total songs: {}\".format(len(df)))\n",
    "print(\"% of songs < 50 words: {}%\".format(len(df[df['word_count'] < 50])/len(df)*100))"
   ]
  },
  {
   "cell_type": "markdown",
   "metadata": {},
   "source": [
    "Since we are only eliminating about 3% of the entire data set by deleting songs less than 50 words, we will do this to simplify the data set."
   ]
  },
  {
   "cell_type": "code",
   "execution_count": null,
   "metadata": {},
   "outputs": [],
   "source": [
    "# delete songs with 1 word\n",
    "df = df[df['word_count'] > 50]\n",
    "# review data\n",
    "df['word_count'].groupby(df['genre']).describe()"
   ]
  },
  {
   "cell_type": "markdown",
   "metadata": {},
   "source": [
    "Let's now check the overall distribution of the songs."
   ]
  },
  {
   "cell_type": "code",
   "execution_count": null,
   "metadata": {},
   "outputs": [],
   "source": [
    "# check distribution of data set\n",
    "sns.violinplot(x=df[\"word_count\"])\n",
    "plt.show()"
   ]
  },
  {
   "cell_type": "markdown",
   "metadata": {},
   "source": [
    "The word count is extremely skewed to the right.\n",
    "Let's see what the lyrics are for some high word counts."
   ]
  },
  {
   "cell_type": "code",
   "execution_count": null,
   "metadata": {},
   "outputs": [],
   "source": [
    "# display the top songs with more then 8000 words\n",
    "print(\"# of songs with 1 word: {}\".format(len(df.loc[df['word_count'] > 8000])))\n",
    "df.loc[df['word_count'] > 8000].head()"
   ]
  },
  {
   "cell_type": "code",
   "execution_count": null,
   "metadata": {},
   "outputs": [],
   "source": [
    "# display the top songs with more then 5000 words\n",
    "print(\"# of songs with 1 word: {}\".format(len(df.loc[df['word_count'] > 5000])))\n",
    "df.loc[df['word_count'] > 5000].head()"
   ]
  },
  {
   "cell_type": "code",
   "execution_count": null,
   "metadata": {},
   "outputs": [],
   "source": [
    "# display the top songs with more then 1000 words\n",
    "print(\"# of songs with 1 word: {}\".format(len(df.loc[df['word_count'] > 1000])))\n",
    "df.loc[df['word_count'] > 1000].head()"
   ]
  },
  {
   "cell_type": "code",
   "execution_count": null,
   "metadata": {},
   "outputs": [],
   "source": [
    "# check the proportion of songs with less 100 words compared to the entire data set\n",
    "print(\"# of songs < 1000 words: {}\".format(len(df[df['word_count'] > 1000])))\n",
    "print(\"# of total songs: {}\".format(len(df)))\n",
    "print(\"% of songs < 1000 words: {}%\".format(len(df[df['word_count'] > 1000])/len(df)*100))"
   ]
  },
  {
   "cell_type": "markdown",
   "metadata": {},
   "source": [
    "Since there are only 0.25% of songs with 1000 words, let's eliminate them to simplify data set."
   ]
  },
  {
   "cell_type": "code",
   "execution_count": null,
   "metadata": {},
   "outputs": [],
   "source": [
    "# delete songs with more than 1000 worda\n",
    "df = df[df['word_count'] < 1000]\n",
    "# review data\n",
    "df['word_count'].groupby(df['genre']).describe()"
   ]
  },
  {
   "cell_type": "code",
   "execution_count": null,
   "metadata": {},
   "outputs": [],
   "source": [
    "# check distribution of data set\n",
    "sns.violinplot(x=df[\"word_count\"])\n",
    "plt.show()"
   ]
  },
  {
   "cell_type": "code",
   "execution_count": null,
   "metadata": {},
   "outputs": [],
   "source": [
    "plt.rc(\"figure\", figsize=(15, 6))\n",
    "sns.boxplot(x=\"genre\", y=\"word_count\", data=df)\n",
    "plt.show()"
   ]
  },
  {
   "cell_type": "code",
   "execution_count": null,
   "metadata": {},
   "outputs": [],
   "source": [
    "# display panda info\n",
    "df.info()\n",
    "# check shape of data frame\n",
    "print(\"# of rows: {}\\n\".format(df.shape[0]))\n",
    "print(\"# of columns: {}\\n\".format(df.shape[1]))\n",
    "# check how data is organized\n",
    "df.head()"
   ]
  },
  {
   "cell_type": "code",
   "execution_count": null,
   "metadata": {},
   "outputs": [],
   "source": [
    "genre = df.groupby(['genre']).count()\n",
    "genre"
   ]
  },
  {
   "cell_type": "code",
   "execution_count": null,
   "metadata": {},
   "outputs": [],
   "source": [
    "artist = df.groupby(['artist']).count()\n",
    "artist"
   ]
  },
  {
   "cell_type": "code",
   "execution_count": null,
   "metadata": {},
   "outputs": [],
   "source": []
  },
  {
   "cell_type": "code",
   "execution_count": null,
   "metadata": {
    "collapsed": true
   },
   "outputs": [],
   "source": []
  },
  {
   "cell_type": "code",
   "execution_count": null,
   "metadata": {
    "collapsed": true
   },
   "outputs": [],
   "source": [
    "from sklearn.model_selection import train_test_split\n",
    "# shuffle and split dataset into training dataset and testing dataset\n",
    "train, test = train_test_split(df, test_size=0.2)"
   ]
  },
  {
   "cell_type": "code",
   "execution_count": null,
   "metadata": {},
   "outputs": [],
   "source": [
    "# check shape of train panda\n",
    "print(\"# of rows: {}\\n\".format(train.shape[0]))\n",
    "print(\"# of columns: {}\\n\".format(train.shape[1]))\n",
    "# check how train data is organized\n",
    "train.head()"
   ]
  },
  {
   "cell_type": "code",
   "execution_count": null,
   "metadata": {
    "colab": {
     "autoexec": {
      "startup": false,
      "wait_interval": 0
     }
    },
    "colab_type": "code",
    "id": "90-03EV98Cwu"
   },
   "outputs": [],
   "source": [
    "# check shape of test panda\n",
    "print(\"# of rows: {}\\n\".format(test.shape[0]))\n",
    "print(\"# of columns: {}\\n\".format(test.shape[1]))\n",
    "# check how test data is organized\n",
    "test.head()"
   ]
  },
  {
   "cell_type": "code",
   "execution_count": null,
   "metadata": {
    "colab": {
     "autoexec": {
      "startup": false,
      "wait_interval": 0
     }
    },
    "colab_type": "code",
    "collapsed": true,
    "id": "t0TObI9l8Cww"
   },
   "outputs": [],
   "source": []
  },
  {
   "cell_type": "code",
   "execution_count": null,
   "metadata": {
    "colab": {
     "autoexec": {
      "startup": false,
      "wait_interval": 0
     },
     "output_extras": [
      {}
     ]
    },
    "colab_type": "code",
    "collapsed": true,
    "id": "2ddjUfxW8Cwz",
    "outputId": "0999d2c6-c616-435f-d990-5abd94f83a08"
   },
   "outputs": [],
   "source": []
  },
  {
   "cell_type": "code",
   "execution_count": null,
   "metadata": {
    "colab": {
     "autoexec": {
      "startup": false,
      "wait_interval": 0
     }
    },
    "colab_type": "code",
    "collapsed": true,
    "id": "F_xU0f1a8Cw3"
   },
   "outputs": [],
   "source": []
  },
  {
   "cell_type": "code",
   "execution_count": null,
   "metadata": {
    "colab": {
     "autoexec": {
      "startup": false,
      "wait_interval": 0
     },
     "base_uri": "https://localhost:8080/",
     "height": 34,
     "output_extras": [
      {
       "item_id": 1
      }
     ]
    },
    "colab_type": "code",
    "collapsed": true,
    "executionInfo": {
     "elapsed": 599,
     "status": "ok",
     "timestamp": 1512348865986,
     "user": {
      "displayName": "Shawn Le",
      "photoUrl": "https://lh3.googleusercontent.com/a/default-user=s128",
      "userId": "108080468386679540347"
     },
     "user_tz": 480
    },
    "id": "4fihuZE38Cw5",
    "outputId": "775804a2-ee95-4327-d3e9-98fdce9404e9"
   },
   "outputs": [],
   "source": [
    "\n"
   ]
  },
  {
   "cell_type": "code",
   "execution_count": null,
   "metadata": {
    "colab": {
     "autoexec": {
      "startup": false,
      "wait_interval": 0
     },
     "base_uri": "https://localhost:8080/",
     "height": 34,
     "output_extras": [
      {
       "item_id": 1
      }
     ]
    },
    "colab_type": "code",
    "collapsed": true,
    "executionInfo": {
     "elapsed": 240,
     "status": "ok",
     "timestamp": 1512347991035,
     "user": {
      "displayName": "Shawn Le",
      "photoUrl": "https://lh3.googleusercontent.com/a/default-user=s128",
      "userId": "108080468386679540347"
     },
     "user_tz": 480
    },
    "id": "CTOqHlgr9dFg",
    "outputId": "81ec0f1e-1f51-4828-b1b9-c89ad934a305"
   },
   "outputs": [],
   "source": []
  },
  {
   "cell_type": "code",
   "execution_count": null,
   "metadata": {
    "colab": {
     "autoexec": {
      "startup": false,
      "wait_interval": 0
     },
     "base_uri": "https://localhost:8080/",
     "height": 34,
     "output_extras": [
      {
       "item_id": 1
      }
     ]
    },
    "colab_type": "code",
    "collapsed": true,
    "executionInfo": {
     "elapsed": 600,
     "status": "ok",
     "timestamp": 1512347994627,
     "user": {
      "displayName": "Shawn Le",
      "photoUrl": "https://lh3.googleusercontent.com/a/default-user=s128",
      "userId": "108080468386679540347"
     },
     "user_tz": 480
    },
    "id": "dPYffRG49fcM",
    "outputId": "565f969d-a921-4495-bf90-50161894c7a3"
   },
   "outputs": [],
   "source": []
  },
  {
   "cell_type": "code",
   "execution_count": null,
   "metadata": {
    "colab": {
     "autoexec": {
      "startup": false,
      "wait_interval": 0
     },
     "base_uri": "https://localhost:8080/",
     "height": 119,
     "output_extras": [
      {
       "item_id": 1
      }
     ]
    },
    "colab_type": "code",
    "collapsed": true,
    "executionInfo": {
     "elapsed": 601,
     "status": "ok",
     "timestamp": 1512348158094,
     "user": {
      "displayName": "Shawn Le",
      "photoUrl": "https://lh3.googleusercontent.com/a/default-user=s128",
      "userId": "108080468386679540347"
     },
     "user_tz": 480
    },
    "id": "K_M9PFak9pNV",
    "outputId": "2be830ce-af6f-470a-8c77-1fc3f2cb3e88"
   },
   "outputs": [],
   "source": []
  },
  {
   "cell_type": "code",
   "execution_count": null,
   "metadata": {
    "colab": {
     "autoexec": {
      "startup": false,
      "wait_interval": 0
     },
     "base_uri": "https://localhost:8080/",
     "height": 34,
     "output_extras": [
      {
       "item_id": 1
      }
     ]
    },
    "colab_type": "code",
    "collapsed": true,
    "executionInfo": {
     "elapsed": 331,
     "status": "ok",
     "timestamp": 1512348211090,
     "user": {
      "displayName": "Shawn Le",
      "photoUrl": "https://lh3.googleusercontent.com/a/default-user=s128",
      "userId": "108080468386679540347"
     },
     "user_tz": 480
    },
    "id": "tbB4YHDF9x_0",
    "outputId": "9bc19501-1b0e-4187-c4cb-deea7129c3f8"
   },
   "outputs": [],
   "source": [
    "\n"
   ]
  },
  {
   "cell_type": "code",
   "execution_count": null,
   "metadata": {
    "colab": {
     "autoexec": {
      "startup": false,
      "wait_interval": 0
     }
    },
    "colab_type": "code",
    "collapsed": true,
    "id": "YXwwflqe9ykD"
   },
   "outputs": [],
   "source": []
  },
  {
   "cell_type": "code",
   "execution_count": null,
   "metadata": {
    "colab": {
     "autoexec": {
      "startup": false,
      "wait_interval": 0
     },
     "base_uri": "https://localhost:8080/",
     "height": 80,
     "output_extras": [
      {
       "item_id": 1
      }
     ]
    },
    "colab_type": "code",
    "collapsed": true,
    "executionInfo": {
     "elapsed": 25847,
     "status": "ok",
     "timestamp": 1512351400402,
     "user": {
      "displayName": "Shawn Le",
      "photoUrl": "https://lh3.googleusercontent.com/a/default-user=s128",
      "userId": "108080468386679540347"
     },
     "user_tz": 480
    },
    "id": "aEle1HOCsU0-",
    "outputId": "06293952-0663-403a-bdaf-c9a9065f0067"
   },
   "outputs": [],
   "source": []
  },
  {
   "cell_type": "code",
   "execution_count": null,
   "metadata": {
    "colab": {
     "autoexec": {
      "startup": false,
      "wait_interval": 0
     }
    },
    "colab_type": "code",
    "collapsed": true,
    "id": "FgedqxkEKmY-"
   },
   "outputs": [],
   "source": []
  }
 ],
 "metadata": {
  "colab": {
   "default_view": {},
   "name": "COGS 118B Final Project.ipynb",
   "provenance": [],
   "version": "0.3.2",
   "views": {}
  },
  "kernelspec": {
   "display_name": "Python 3",
   "language": "python",
   "name": "python3"
  },
  "language_info": {
   "codemirror_mode": {
    "name": "ipython",
    "version": 3
   },
   "file_extension": ".py",
   "mimetype": "text/x-python",
   "name": "python",
   "nbconvert_exporter": "python",
   "pygments_lexer": "ipython3",
   "version": "3.6.3"
  }
 },
 "nbformat": 4,
 "nbformat_minor": 1
}
