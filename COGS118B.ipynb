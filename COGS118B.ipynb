{
 "cells": [
  {
   "cell_type": "markdown",
   "metadata": {},
   "source": [
    "# Import Main Libraries"
   ]
  },
  {
   "cell_type": "code",
   "execution_count": 1,
   "metadata": {
    "colab": {
     "autoexec": {
      "startup": false,
      "wait_interval": 0
     },
     "base_uri": "https://localhost:8080/",
     "height": 52,
     "output_extras": [
      {
       "item_id": 1
      },
      {
       "item_id": 2
      }
     ]
    },
    "colab_type": "code",
    "collapsed": true,
    "executionInfo": {
     "elapsed": 1838120,
     "status": "ok",
     "timestamp": 1512351312774,
     "user": {
      "displayName": "Shawn Le",
      "photoUrl": "https://lh3.googleusercontent.com/a/default-user=s128",
      "userId": "108080468386679540347"
     },
     "user_tz": 480
    },
    "id": "yJJV42Q88Cwe",
    "outputId": "09afec8a-324e-44b9-e27c-fa02f4b3e273"
   },
   "outputs": [],
   "source": [
    "import pandas as pd\n",
    "import seaborn as sns\n",
    "import matplotlib.pyplot as plt"
   ]
  },
  {
   "cell_type": "markdown",
   "metadata": {},
   "source": [
    "# Import Data"
   ]
  },
  {
   "cell_type": "code",
   "execution_count": 2,
   "metadata": {
    "colab": {
     "autoexec": {
      "startup": false,
      "wait_interval": 0
     },
     "base_uri": "https://localhost:8080/",
     "height": 851,
     "output_extras": [
      {
       "item_id": 1
      }
     ]
    },
    "colab_type": "code",
    "collapsed": true,
    "executionInfo": {
     "elapsed": 479,
     "status": "error",
     "timestamp": 1512349064535,
     "user": {
      "displayName": "Shawn Le",
      "photoUrl": "https://lh3.googleusercontent.com/a/default-user=s128",
      "userId": "108080468386679540347"
     },
     "user_tz": 480
    },
    "id": "TcS3BUKk8Cwj",
    "outputId": "93ddd2b1-adba-4fe5-9dfc-8f42640cb12a"
   },
   "outputs": [],
   "source": [
    "# store csv into panda\n",
    "df = pd.read_csv(\"lyrics.csv\")"
   ]
  },
  {
   "cell_type": "code",
   "execution_count": 3,
   "metadata": {},
   "outputs": [
    {
     "name": "stdout",
     "output_type": "stream",
     "text": [
      "<class 'pandas.core.frame.DataFrame'>\n",
      "RangeIndex: 362237 entries, 0 to 362236\n",
      "Data columns (total 6 columns):\n",
      "index     362237 non-null int64\n",
      "song      362235 non-null object\n",
      "year      362237 non-null int64\n",
      "artist    362237 non-null object\n",
      "genre     362237 non-null object\n",
      "lyrics    266557 non-null object\n",
      "dtypes: int64(2), object(4)\n",
      "memory usage: 16.6+ MB\n",
      "\n",
      "# of rows: 362237\n",
      "# of columns: 6\n"
     ]
    },
    {
     "data": {
      "text/html": [
       "<div>\n",
       "<style>\n",
       "    .dataframe thead tr:only-child th {\n",
       "        text-align: right;\n",
       "    }\n",
       "\n",
       "    .dataframe thead th {\n",
       "        text-align: left;\n",
       "    }\n",
       "\n",
       "    .dataframe tbody tr th {\n",
       "        vertical-align: top;\n",
       "    }\n",
       "</style>\n",
       "<table border=\"1\" class=\"dataframe\">\n",
       "  <thead>\n",
       "    <tr style=\"text-align: right;\">\n",
       "      <th></th>\n",
       "      <th>index</th>\n",
       "      <th>song</th>\n",
       "      <th>year</th>\n",
       "      <th>artist</th>\n",
       "      <th>genre</th>\n",
       "      <th>lyrics</th>\n",
       "    </tr>\n",
       "  </thead>\n",
       "  <tbody>\n",
       "    <tr>\n",
       "      <th>0</th>\n",
       "      <td>0</td>\n",
       "      <td>ego-remix</td>\n",
       "      <td>2009</td>\n",
       "      <td>beyonce-knowles</td>\n",
       "      <td>Pop</td>\n",
       "      <td>Oh baby, how you doing?\\nYou know I'm gonna cu...</td>\n",
       "    </tr>\n",
       "    <tr>\n",
       "      <th>1</th>\n",
       "      <td>1</td>\n",
       "      <td>then-tell-me</td>\n",
       "      <td>2009</td>\n",
       "      <td>beyonce-knowles</td>\n",
       "      <td>Pop</td>\n",
       "      <td>playin' everything so easy,\\nit's like you see...</td>\n",
       "    </tr>\n",
       "    <tr>\n",
       "      <th>2</th>\n",
       "      <td>2</td>\n",
       "      <td>honesty</td>\n",
       "      <td>2009</td>\n",
       "      <td>beyonce-knowles</td>\n",
       "      <td>Pop</td>\n",
       "      <td>If you search\\nFor tenderness\\nIt isn't hard t...</td>\n",
       "    </tr>\n",
       "    <tr>\n",
       "      <th>3</th>\n",
       "      <td>3</td>\n",
       "      <td>you-are-my-rock</td>\n",
       "      <td>2009</td>\n",
       "      <td>beyonce-knowles</td>\n",
       "      <td>Pop</td>\n",
       "      <td>Oh oh oh I, oh oh oh I\\n[Verse 1:]\\nIf I wrote...</td>\n",
       "    </tr>\n",
       "    <tr>\n",
       "      <th>4</th>\n",
       "      <td>4</td>\n",
       "      <td>black-culture</td>\n",
       "      <td>2009</td>\n",
       "      <td>beyonce-knowles</td>\n",
       "      <td>Pop</td>\n",
       "      <td>Party the people, the people the party it's po...</td>\n",
       "    </tr>\n",
       "  </tbody>\n",
       "</table>\n",
       "</div>"
      ],
      "text/plain": [
       "   index             song  year           artist genre  \\\n",
       "0      0        ego-remix  2009  beyonce-knowles   Pop   \n",
       "1      1     then-tell-me  2009  beyonce-knowles   Pop   \n",
       "2      2          honesty  2009  beyonce-knowles   Pop   \n",
       "3      3  you-are-my-rock  2009  beyonce-knowles   Pop   \n",
       "4      4    black-culture  2009  beyonce-knowles   Pop   \n",
       "\n",
       "                                              lyrics  \n",
       "0  Oh baby, how you doing?\\nYou know I'm gonna cu...  \n",
       "1  playin' everything so easy,\\nit's like you see...  \n",
       "2  If you search\\nFor tenderness\\nIt isn't hard t...  \n",
       "3  Oh oh oh I, oh oh oh I\\n[Verse 1:]\\nIf I wrote...  \n",
       "4  Party the people, the people the party it's po...  "
      ]
     },
     "execution_count": 3,
     "metadata": {},
     "output_type": "execute_result"
    }
   ],
   "source": [
    "# display panda info\n",
    "df.info()\n",
    "# check shape of panda\n",
    "print(\"\\n# of rows: {}\".format(df.shape[0]))\n",
    "print(\"# of columns: {}\".format(df.shape[1]))\n",
    "# check how data is organized\n",
    "df.head()"
   ]
  },
  {
   "cell_type": "markdown",
   "metadata": {},
   "source": [
    "# Clean Data\n",
    "### Clean Data in General\n",
    "There are missing data in the lyrics section with only 266557 non-null object compared to 362237 non-null objects for others.\n",
    "We delete the index column as the order of the songs are not important."
   ]
  },
  {
   "cell_type": "code",
   "execution_count": 4,
   "metadata": {
    "collapsed": true
   },
   "outputs": [],
   "source": [
    "# drop any row with missing data\n",
    "df = df.dropna()\n",
    "# drop column 'index'\n",
    "df = df.drop('index',1)"
   ]
  },
  {
   "cell_type": "code",
   "execution_count": 5,
   "metadata": {},
   "outputs": [
    {
     "name": "stdout",
     "output_type": "stream",
     "text": [
      "<class 'pandas.core.frame.DataFrame'>\n",
      "Int64Index: 266556 entries, 0 to 362236\n",
      "Data columns (total 5 columns):\n",
      "song      266556 non-null object\n",
      "year      266556 non-null int64\n",
      "artist    266556 non-null object\n",
      "genre     266556 non-null object\n",
      "lyrics    266556 non-null object\n",
      "dtypes: int64(1), object(4)\n",
      "memory usage: 12.2+ MB\n",
      "\n",
      "# of rows: 266556\n",
      "# of columns: 5\n"
     ]
    },
    {
     "data": {
      "text/html": [
       "<div>\n",
       "<style>\n",
       "    .dataframe thead tr:only-child th {\n",
       "        text-align: right;\n",
       "    }\n",
       "\n",
       "    .dataframe thead th {\n",
       "        text-align: left;\n",
       "    }\n",
       "\n",
       "    .dataframe tbody tr th {\n",
       "        vertical-align: top;\n",
       "    }\n",
       "</style>\n",
       "<table border=\"1\" class=\"dataframe\">\n",
       "  <thead>\n",
       "    <tr style=\"text-align: right;\">\n",
       "      <th></th>\n",
       "      <th>song</th>\n",
       "      <th>year</th>\n",
       "      <th>artist</th>\n",
       "      <th>genre</th>\n",
       "      <th>lyrics</th>\n",
       "    </tr>\n",
       "  </thead>\n",
       "  <tbody>\n",
       "    <tr>\n",
       "      <th>0</th>\n",
       "      <td>ego-remix</td>\n",
       "      <td>2009</td>\n",
       "      <td>beyonce-knowles</td>\n",
       "      <td>Pop</td>\n",
       "      <td>Oh baby, how you doing?\\nYou know I'm gonna cu...</td>\n",
       "    </tr>\n",
       "    <tr>\n",
       "      <th>1</th>\n",
       "      <td>then-tell-me</td>\n",
       "      <td>2009</td>\n",
       "      <td>beyonce-knowles</td>\n",
       "      <td>Pop</td>\n",
       "      <td>playin' everything so easy,\\nit's like you see...</td>\n",
       "    </tr>\n",
       "    <tr>\n",
       "      <th>2</th>\n",
       "      <td>honesty</td>\n",
       "      <td>2009</td>\n",
       "      <td>beyonce-knowles</td>\n",
       "      <td>Pop</td>\n",
       "      <td>If you search\\nFor tenderness\\nIt isn't hard t...</td>\n",
       "    </tr>\n",
       "    <tr>\n",
       "      <th>3</th>\n",
       "      <td>you-are-my-rock</td>\n",
       "      <td>2009</td>\n",
       "      <td>beyonce-knowles</td>\n",
       "      <td>Pop</td>\n",
       "      <td>Oh oh oh I, oh oh oh I\\n[Verse 1:]\\nIf I wrote...</td>\n",
       "    </tr>\n",
       "    <tr>\n",
       "      <th>4</th>\n",
       "      <td>black-culture</td>\n",
       "      <td>2009</td>\n",
       "      <td>beyonce-knowles</td>\n",
       "      <td>Pop</td>\n",
       "      <td>Party the people, the people the party it's po...</td>\n",
       "    </tr>\n",
       "  </tbody>\n",
       "</table>\n",
       "</div>"
      ],
      "text/plain": [
       "              song  year           artist genre  \\\n",
       "0        ego-remix  2009  beyonce-knowles   Pop   \n",
       "1     then-tell-me  2009  beyonce-knowles   Pop   \n",
       "2          honesty  2009  beyonce-knowles   Pop   \n",
       "3  you-are-my-rock  2009  beyonce-knowles   Pop   \n",
       "4    black-culture  2009  beyonce-knowles   Pop   \n",
       "\n",
       "                                              lyrics  \n",
       "0  Oh baby, how you doing?\\nYou know I'm gonna cu...  \n",
       "1  playin' everything so easy,\\nit's like you see...  \n",
       "2  If you search\\nFor tenderness\\nIt isn't hard t...  \n",
       "3  Oh oh oh I, oh oh oh I\\n[Verse 1:]\\nIf I wrote...  \n",
       "4  Party the people, the people the party it's po...  "
      ]
     },
     "execution_count": 5,
     "metadata": {},
     "output_type": "execute_result"
    }
   ],
   "source": [
    "# display panda info\n",
    "df.info()\n",
    "# check shape of data frame\n",
    "print(\"\\n# of rows: {}\".format(df.shape[0]))\n",
    "print(\"# of columns: {}\".format(df.shape[1]))\n",
    "# check how data is organized\n",
    "df.head()"
   ]
  },
  {
   "cell_type": "markdown",
   "metadata": {},
   "source": [
    "### Clean data by column 'songs'"
   ]
  },
  {
   "cell_type": "code",
   "execution_count": 6,
   "metadata": {},
   "outputs": [
    {
     "name": "stdout",
     "output_type": "stream",
     "text": [
      "# of unique songs: 187186\n",
      "\n",
      "['0-0' '0-0-0' '0-0-where-evil-dwells' ..., 'zzz-top' 'zzzonked' 'zzzzz']\n"
     ]
    }
   ],
   "source": [
    "# check the types of unique songs\n",
    "songs = df['song'].unique()\n",
    "# sort in descending order\n",
    "songs.sort()\n",
    "# display how many types of unique songs\n",
    "print(\"# of unique songs: {}\\n\".format(len(songs)))\n",
    "# print sorted array of unique songs\n",
    "print(songs)"
   ]
  },
  {
   "cell_type": "markdown",
   "metadata": {},
   "source": [
    "### Clean data by column 'years'"
   ]
  },
  {
   "cell_type": "code",
   "execution_count": 7,
   "metadata": {},
   "outputs": [
    {
     "name": "stdout",
     "output_type": "stream",
     "text": [
      "# of unique years: 51\n",
      "\n",
      "[  67  112  702 1968 1970 1971 1972 1973 1974 1975 1976 1977 1978 1979 1980\n",
      " 1981 1982 1983 1984 1985 1986 1987 1988 1989 1990 1991 1992 1993 1994 1995\n",
      " 1996 1997 1998 1999 2000 2001 2002 2003 2004 2005 2006 2007 2008 2009 2010\n",
      " 2011 2012 2013 2014 2015 2016]\n"
     ]
    }
   ],
   "source": [
    "# check the types of unique years\n",
    "years = df['year'].unique()\n",
    "# sort in descending order\n",
    "years.sort()\n",
    "# display how many types of unique years\n",
    "print(\"# of unique years: {}\\n\".format(len(years)))\n",
    "# print sorted array of unique years\n",
    "print(years)"
   ]
  },
  {
   "cell_type": "markdown",
   "metadata": {},
   "source": [
    "As we can see from above, there are year 67, 112, 702.\n",
    "We delete these years as they are not after 1900s."
   ]
  },
  {
   "cell_type": "code",
   "execution_count": 8,
   "metadata": {},
   "outputs": [
    {
     "name": "stdout",
     "output_type": "stream",
     "text": [
      "# of unique years: 48\n",
      "\n",
      "[1968 1970 1971 1972 1973 1974 1975 1976 1977 1978 1979 1980 1981 1982 1983\n",
      " 1984 1985 1986 1987 1988 1989 1990 1991 1992 1993 1994 1995 1996 1997 1998\n",
      " 1999 2000 2001 2002 2003 2004 2005 2006 2007 2008 2009 2010 2011 2012 2013\n",
      " 2014 2015 2016]\n"
     ]
    }
   ],
   "source": [
    "# delete years < 1900s\n",
    "df = df[(df['year'] > 1900)]\n",
    "# check the types of unique years left\n",
    "years = df['year'].unique()\n",
    "# sort in descending order\n",
    "years.sort()\n",
    "# display how many types of unique years\n",
    "print(\"# of unique years: {}\\n\".format(len(years)))\n",
    "# print sorted array of unique years\n",
    "print(years)"
   ]
  },
  {
   "cell_type": "markdown",
   "metadata": {},
   "source": [
    "### Clean data by column 'artist'"
   ]
  },
  {
   "cell_type": "code",
   "execution_count": 9,
   "metadata": {},
   "outputs": [
    {
     "name": "stdout",
     "output_type": "stream",
     "text": [
      "# of unique artists: 14543\n",
      "\n",
      "['009-sound-system' '047' '0510' ..., 'the-graveyard-boulevard'\n",
      " 'the-great-flood-catastrophe' 'ykforward-russia']\n"
     ]
    }
   ],
   "source": [
    "# check the types of unique artists\n",
    "artists = df['artist'].unique()\n",
    "# sort in descending order\n",
    "artists.sort()\n",
    "# display how many types of unique artists\n",
    "print(\"# of unique artists: {}\\n\".format(len(artists)))\n",
    "# print sorted array of unique artists\n",
    "print(artists)"
   ]
  },
  {
   "cell_type": "markdown",
   "metadata": {},
   "source": [
    "### Clean data by column 'genre'"
   ]
  },
  {
   "cell_type": "code",
   "execution_count": 10,
   "metadata": {},
   "outputs": [
    {
     "name": "stdout",
     "output_type": "stream",
     "text": [
      "# of unique genre: 12\n",
      "\n",
      "['Country' 'Electronic' 'Folk' 'Hip-Hop' 'Indie' 'Jazz' 'Metal'\n",
      " 'Not Available' 'Other' 'Pop' 'R&B' 'Rock']\n"
     ]
    }
   ],
   "source": [
    "# check the types of unique genre\n",
    "genres = df['genre'].unique()\n",
    "# sort in descending order\n",
    "genres.sort()\n",
    "# display how many types of unique genres\n",
    "print(\"# of unique genre: {}\\n\".format(len(genres)))\n",
    "# print sorted array of unique genres\n",
    "print(genres)"
   ]
  },
  {
   "cell_type": "markdown",
   "metadata": {},
   "source": [
    "As we can see above, we have genre 'Not Available' and 'Other'.\n",
    "To simplify, we delete them out of the data set."
   ]
  },
  {
   "cell_type": "code",
   "execution_count": 11,
   "metadata": {
    "colab": {
     "autoexec": {
      "startup": false,
      "wait_interval": 0
     },
     "output_extras": [
      {}
     ]
    },
    "colab_type": "code",
    "id": "YZs4-kW68Cwq",
    "outputId": "c69b4e14-0a6a-40c7-b992-fc04a8301e99"
   },
   "outputs": [
    {
     "name": "stdout",
     "output_type": "stream",
     "text": [
      "# of unique genres: 10\n",
      "\n",
      "['Country' 'Electronic' 'Folk' 'Hip-Hop' 'Indie' 'Jazz' 'Metal' 'Pop' 'R&B'\n",
      " 'Rock']\n"
     ]
    }
   ],
   "source": [
    "# delete genres 'Not Available' and 'Other'\n",
    "df = df[(df['genre'] != 'Not Available') & (df['genre'] != 'Other')]\n",
    "# check how many types of unique genres left\n",
    "genres = df['genre'].unique()\n",
    "# sort in descending order\n",
    "genres.sort()\n",
    "# display how many types of unique genres\n",
    "print(\"# of unique genres: {}\\n\".format(len(genres)))\n",
    "# print sorted array of unique genres\n",
    "print(genres)"
   ]
  },
  {
   "cell_type": "markdown",
   "metadata": {},
   "source": [
    "### Clean data by column 'lyrics'"
   ]
  },
  {
   "cell_type": "code",
   "execution_count": 12,
   "metadata": {},
   "outputs": [
    {
     "data": {
      "text/plain": [
       "0    Oh baby, how you doing?\\nYou know I'm gonna cu...\n",
       "1    playin' everything so easy,\\nit's like you see...\n",
       "2    If you search\\nFor tenderness\\nIt isn't hard t...\n",
       "3    Oh oh oh I, oh oh oh I\\n[Verse 1:]\\nIf I wrote...\n",
       "4    Party the people, the people the party it's po...\n",
       "Name: lyrics, dtype: object"
      ]
     },
     "execution_count": 12,
     "metadata": {},
     "output_type": "execute_result"
    }
   ],
   "source": [
    "# check lyrics data\n",
    "df['lyrics'].head()"
   ]
  },
  {
   "cell_type": "code",
   "execution_count": 13,
   "metadata": {
    "collapsed": true
   },
   "outputs": [],
   "source": [
    "# Replace all \\n with space\n",
    "df = df.replace({'\\n':' '}, regex=True)"
   ]
  },
  {
   "cell_type": "code",
   "execution_count": 14,
   "metadata": {},
   "outputs": [
    {
     "data": {
      "text/plain": [
       "0    Oh baby, how you doing? You know I'm gonna cut...\n",
       "1    playin' everything so easy, it's like you seem...\n",
       "2    If you search For tenderness It isn't hard to ...\n",
       "3    Oh oh oh I, oh oh oh I [Verse 1:] If I wrote a...\n",
       "4    Party the people, the people the party it's po...\n",
       "Name: lyrics, dtype: object"
      ]
     },
     "execution_count": 14,
     "metadata": {},
     "output_type": "execute_result"
    }
   ],
   "source": [
    "# check how data changed\n",
    "df['lyrics'].head()"
   ]
  },
  {
   "cell_type": "code",
   "execution_count": 15,
   "metadata": {},
   "outputs": [
    {
     "data": {
      "text/html": [
       "<div>\n",
       "<style>\n",
       "    .dataframe thead tr:only-child th {\n",
       "        text-align: right;\n",
       "    }\n",
       "\n",
       "    .dataframe thead th {\n",
       "        text-align: left;\n",
       "    }\n",
       "\n",
       "    .dataframe tbody tr th {\n",
       "        vertical-align: top;\n",
       "    }\n",
       "</style>\n",
       "<table border=\"1\" class=\"dataframe\">\n",
       "  <thead>\n",
       "    <tr style=\"text-align: right;\">\n",
       "      <th></th>\n",
       "      <th>song</th>\n",
       "      <th>year</th>\n",
       "      <th>artist</th>\n",
       "      <th>genre</th>\n",
       "      <th>lyrics</th>\n",
       "      <th>word_count</th>\n",
       "    </tr>\n",
       "  </thead>\n",
       "  <tbody>\n",
       "    <tr>\n",
       "      <th>0</th>\n",
       "      <td>ego-remix</td>\n",
       "      <td>2009</td>\n",
       "      <td>beyonce-knowles</td>\n",
       "      <td>Pop</td>\n",
       "      <td>Oh baby, how you doing? You know I'm gonna cut...</td>\n",
       "      <td>433</td>\n",
       "    </tr>\n",
       "    <tr>\n",
       "      <th>1</th>\n",
       "      <td>then-tell-me</td>\n",
       "      <td>2009</td>\n",
       "      <td>beyonce-knowles</td>\n",
       "      <td>Pop</td>\n",
       "      <td>playin' everything so easy, it's like you seem...</td>\n",
       "      <td>258</td>\n",
       "    </tr>\n",
       "    <tr>\n",
       "      <th>2</th>\n",
       "      <td>honesty</td>\n",
       "      <td>2009</td>\n",
       "      <td>beyonce-knowles</td>\n",
       "      <td>Pop</td>\n",
       "      <td>If you search For tenderness It isn't hard to ...</td>\n",
       "      <td>170</td>\n",
       "    </tr>\n",
       "    <tr>\n",
       "      <th>3</th>\n",
       "      <td>you-are-my-rock</td>\n",
       "      <td>2009</td>\n",
       "      <td>beyonce-knowles</td>\n",
       "      <td>Pop</td>\n",
       "      <td>Oh oh oh I, oh oh oh I [Verse 1:] If I wrote a...</td>\n",
       "      <td>522</td>\n",
       "    </tr>\n",
       "    <tr>\n",
       "      <th>4</th>\n",
       "      <td>black-culture</td>\n",
       "      <td>2009</td>\n",
       "      <td>beyonce-knowles</td>\n",
       "      <td>Pop</td>\n",
       "      <td>Party the people, the people the party it's po...</td>\n",
       "      <td>312</td>\n",
       "    </tr>\n",
       "  </tbody>\n",
       "</table>\n",
       "</div>"
      ],
      "text/plain": [
       "              song  year           artist genre  \\\n",
       "0        ego-remix  2009  beyonce-knowles   Pop   \n",
       "1     then-tell-me  2009  beyonce-knowles   Pop   \n",
       "2          honesty  2009  beyonce-knowles   Pop   \n",
       "3  you-are-my-rock  2009  beyonce-knowles   Pop   \n",
       "4    black-culture  2009  beyonce-knowles   Pop   \n",
       "\n",
       "                                              lyrics  word_count  \n",
       "0  Oh baby, how you doing? You know I'm gonna cut...         433  \n",
       "1  playin' everything so easy, it's like you seem...         258  \n",
       "2  If you search For tenderness It isn't hard to ...         170  \n",
       "3  Oh oh oh I, oh oh oh I [Verse 1:] If I wrote a...         522  \n",
       "4  Party the people, the people the party it's po...         312  "
      ]
     },
     "execution_count": 15,
     "metadata": {},
     "output_type": "execute_result"
    }
   ],
   "source": [
    "# count the words in each song\n",
    "df['word_count'] = df['lyrics'].str.split().str.len()\n",
    "df.head()"
   ]
  },
  {
   "cell_type": "code",
   "execution_count": 16,
   "metadata": {},
   "outputs": [
    {
     "data": {
      "text/html": [
       "<div>\n",
       "<style>\n",
       "    .dataframe thead tr:only-child th {\n",
       "        text-align: right;\n",
       "    }\n",
       "\n",
       "    .dataframe thead th {\n",
       "        text-align: left;\n",
       "    }\n",
       "\n",
       "    .dataframe tbody tr th {\n",
       "        vertical-align: top;\n",
       "    }\n",
       "</style>\n",
       "<table border=\"1\" class=\"dataframe\">\n",
       "  <thead>\n",
       "    <tr style=\"text-align: right;\">\n",
       "      <th></th>\n",
       "      <th>count</th>\n",
       "      <th>mean</th>\n",
       "      <th>std</th>\n",
       "      <th>min</th>\n",
       "      <th>25%</th>\n",
       "      <th>50%</th>\n",
       "      <th>75%</th>\n",
       "      <th>max</th>\n",
       "    </tr>\n",
       "    <tr>\n",
       "      <th>genre</th>\n",
       "      <th></th>\n",
       "      <th></th>\n",
       "      <th></th>\n",
       "      <th></th>\n",
       "      <th></th>\n",
       "      <th></th>\n",
       "      <th></th>\n",
       "      <th></th>\n",
       "    </tr>\n",
       "  </thead>\n",
       "  <tbody>\n",
       "    <tr>\n",
       "      <th>Country</th>\n",
       "      <td>14387.0</td>\n",
       "      <td>186.086397</td>\n",
       "      <td>82.999049</td>\n",
       "      <td>1.0</td>\n",
       "      <td>128.0</td>\n",
       "      <td>171.0</td>\n",
       "      <td>231.0</td>\n",
       "      <td>1366.0</td>\n",
       "    </tr>\n",
       "    <tr>\n",
       "      <th>Electronic</th>\n",
       "      <td>7966.0</td>\n",
       "      <td>193.376475</td>\n",
       "      <td>138.816594</td>\n",
       "      <td>1.0</td>\n",
       "      <td>100.0</td>\n",
       "      <td>170.0</td>\n",
       "      <td>260.0</td>\n",
       "      <td>1920.0</td>\n",
       "    </tr>\n",
       "    <tr>\n",
       "      <th>Folk</th>\n",
       "      <td>2243.0</td>\n",
       "      <td>181.037004</td>\n",
       "      <td>120.616688</td>\n",
       "      <td>1.0</td>\n",
       "      <td>111.0</td>\n",
       "      <td>168.0</td>\n",
       "      <td>238.0</td>\n",
       "      <td>2393.0</td>\n",
       "    </tr>\n",
       "    <tr>\n",
       "      <th>Hip-Hop</th>\n",
       "      <td>24845.0</td>\n",
       "      <td>489.983256</td>\n",
       "      <td>238.632524</td>\n",
       "      <td>1.0</td>\n",
       "      <td>340.0</td>\n",
       "      <td>485.0</td>\n",
       "      <td>629.0</td>\n",
       "      <td>8195.0</td>\n",
       "    </tr>\n",
       "    <tr>\n",
       "      <th>Indie</th>\n",
       "      <td>3149.0</td>\n",
       "      <td>196.854239</td>\n",
       "      <td>108.375014</td>\n",
       "      <td>1.0</td>\n",
       "      <td>126.0</td>\n",
       "      <td>183.0</td>\n",
       "      <td>248.0</td>\n",
       "      <td>1262.0</td>\n",
       "    </tr>\n",
       "    <tr>\n",
       "      <th>Jazz</th>\n",
       "      <td>7970.0</td>\n",
       "      <td>172.067252</td>\n",
       "      <td>97.430118</td>\n",
       "      <td>1.0</td>\n",
       "      <td>108.0</td>\n",
       "      <td>152.0</td>\n",
       "      <td>215.0</td>\n",
       "      <td>1040.0</td>\n",
       "    </tr>\n",
       "    <tr>\n",
       "      <th>Metal</th>\n",
       "      <td>23759.0</td>\n",
       "      <td>169.068774</td>\n",
       "      <td>112.809568</td>\n",
       "      <td>1.0</td>\n",
       "      <td>100.0</td>\n",
       "      <td>152.0</td>\n",
       "      <td>217.0</td>\n",
       "      <td>2423.0</td>\n",
       "    </tr>\n",
       "    <tr>\n",
       "      <th>Pop</th>\n",
       "      <td>40465.0</td>\n",
       "      <td>245.741629</td>\n",
       "      <td>128.699888</td>\n",
       "      <td>1.0</td>\n",
       "      <td>157.0</td>\n",
       "      <td>224.0</td>\n",
       "      <td>311.0</td>\n",
       "      <td>1704.0</td>\n",
       "    </tr>\n",
       "    <tr>\n",
       "      <th>R&amp;B</th>\n",
       "      <td>3401.0</td>\n",
       "      <td>224.931785</td>\n",
       "      <td>120.049328</td>\n",
       "      <td>1.0</td>\n",
       "      <td>142.0</td>\n",
       "      <td>204.0</td>\n",
       "      <td>281.0</td>\n",
       "      <td>1440.0</td>\n",
       "    </tr>\n",
       "    <tr>\n",
       "      <th>Rock</th>\n",
       "      <td>109235.0</td>\n",
       "      <td>190.704701</td>\n",
       "      <td>105.878550</td>\n",
       "      <td>1.0</td>\n",
       "      <td>125.0</td>\n",
       "      <td>177.0</td>\n",
       "      <td>241.0</td>\n",
       "      <td>6232.0</td>\n",
       "    </tr>\n",
       "  </tbody>\n",
       "</table>\n",
       "</div>"
      ],
      "text/plain": [
       "               count        mean         std  min    25%    50%    75%     max\n",
       "genre                                                                         \n",
       "Country      14387.0  186.086397   82.999049  1.0  128.0  171.0  231.0  1366.0\n",
       "Electronic    7966.0  193.376475  138.816594  1.0  100.0  170.0  260.0  1920.0\n",
       "Folk          2243.0  181.037004  120.616688  1.0  111.0  168.0  238.0  2393.0\n",
       "Hip-Hop      24845.0  489.983256  238.632524  1.0  340.0  485.0  629.0  8195.0\n",
       "Indie         3149.0  196.854239  108.375014  1.0  126.0  183.0  248.0  1262.0\n",
       "Jazz          7970.0  172.067252   97.430118  1.0  108.0  152.0  215.0  1040.0\n",
       "Metal        23759.0  169.068774  112.809568  1.0  100.0  152.0  217.0  2423.0\n",
       "Pop          40465.0  245.741629  128.699888  1.0  157.0  224.0  311.0  1704.0\n",
       "R&B           3401.0  224.931785  120.049328  1.0  142.0  204.0  281.0  1440.0\n",
       "Rock        109235.0  190.704701  105.878550  1.0  125.0  177.0  241.0  6232.0"
      ]
     },
     "execution_count": 16,
     "metadata": {},
     "output_type": "execute_result"
    }
   ],
   "source": [
    "# check some statistic based on word counts grouped by genre\n",
    "df['word_count'].groupby(df['genre']).describe()"
   ]
  },
  {
   "cell_type": "markdown",
   "metadata": {},
   "source": [
    "It's odd that there are songs with 1 word from the min section of every genre.\n",
    "Let's check what they are."
   ]
  },
  {
   "cell_type": "code",
   "execution_count": 17,
   "metadata": {},
   "outputs": [
    {
     "name": "stdout",
     "output_type": "stream",
     "text": [
      "# of songs with 1 word: 3212\n"
     ]
    },
    {
     "data": {
      "text/html": [
       "<div>\n",
       "<style>\n",
       "    .dataframe thead tr:only-child th {\n",
       "        text-align: right;\n",
       "    }\n",
       "\n",
       "    .dataframe thead th {\n",
       "        text-align: left;\n",
       "    }\n",
       "\n",
       "    .dataframe tbody tr th {\n",
       "        vertical-align: top;\n",
       "    }\n",
       "</style>\n",
       "<table border=\"1\" class=\"dataframe\">\n",
       "  <thead>\n",
       "    <tr style=\"text-align: right;\">\n",
       "      <th></th>\n",
       "      <th>song</th>\n",
       "      <th>year</th>\n",
       "      <th>artist</th>\n",
       "      <th>genre</th>\n",
       "      <th>lyrics</th>\n",
       "      <th>word_count</th>\n",
       "    </tr>\n",
       "  </thead>\n",
       "  <tbody>\n",
       "    <tr>\n",
       "      <th>420</th>\n",
       "      <td>dying-sun</td>\n",
       "      <td>2011</td>\n",
       "      <td>demonaz</td>\n",
       "      <td>Metal</td>\n",
       "      <td>[Instrumental]</td>\n",
       "      <td>1</td>\n",
       "    </tr>\n",
       "    <tr>\n",
       "      <th>1410</th>\n",
       "      <td>curtain-call</td>\n",
       "      <td>2011</td>\n",
       "      <td>brandi-carlile</td>\n",
       "      <td>Country</td>\n",
       "      <td>INSTRUMENTAL</td>\n",
       "      <td>1</td>\n",
       "    </tr>\n",
       "    <tr>\n",
       "      <th>1710</th>\n",
       "      <td>mary-mheaigi-s-frank-mors-the-trip-to-lerwick</td>\n",
       "      <td>2007</td>\n",
       "      <td>andy-m-stewart</td>\n",
       "      <td>Folk</td>\n",
       "      <td>Instrumental</td>\n",
       "      <td>1</td>\n",
       "    </tr>\n",
       "    <tr>\n",
       "      <th>1733</th>\n",
       "      <td>treorachadh</td>\n",
       "      <td>2007</td>\n",
       "      <td>andy-m-stewart</td>\n",
       "      <td>Folk</td>\n",
       "      <td>Instrumental</td>\n",
       "      <td>1</td>\n",
       "    </tr>\n",
       "    <tr>\n",
       "      <th>1841</th>\n",
       "      <td>providence</td>\n",
       "      <td>2007</td>\n",
       "      <td>dreadful-shadows</td>\n",
       "      <td>Rock</td>\n",
       "      <td>[Instrumental]</td>\n",
       "      <td>1</td>\n",
       "    </tr>\n",
       "  </tbody>\n",
       "</table>\n",
       "</div>"
      ],
      "text/plain": [
       "                                               song  year            artist  \\\n",
       "420                                       dying-sun  2011           demonaz   \n",
       "1410                                   curtain-call  2011    brandi-carlile   \n",
       "1710  mary-mheaigi-s-frank-mors-the-trip-to-lerwick  2007    andy-m-stewart   \n",
       "1733                                    treorachadh  2007    andy-m-stewart   \n",
       "1841                                     providence  2007  dreadful-shadows   \n",
       "\n",
       "        genre          lyrics  word_count  \n",
       "420     Metal  [Instrumental]           1  \n",
       "1410  Country    INSTRUMENTAL           1  \n",
       "1710     Folk    Instrumental           1  \n",
       "1733     Folk    Instrumental           1  \n",
       "1841     Rock  [Instrumental]           1  "
      ]
     },
     "execution_count": 17,
     "metadata": {},
     "output_type": "execute_result"
    }
   ],
   "source": [
    "# display the top songs with 1 word\n",
    "print(\"# of songs with 1 word: {}\".format(len(df.loc[df['word_count'] == 1])))\n",
    "df.loc[df['word_count'] == 1].head()"
   ]
  },
  {
   "cell_type": "markdown",
   "metadata": {},
   "source": [
    "The 1-worded songs are mostly instrumental.\n",
    "Let's delete them from the data set as they essentially don't have lyrics."
   ]
  },
  {
   "cell_type": "code",
   "execution_count": 18,
   "metadata": {},
   "outputs": [
    {
     "data": {
      "text/html": [
       "<div>\n",
       "<style>\n",
       "    .dataframe thead tr:only-child th {\n",
       "        text-align: right;\n",
       "    }\n",
       "\n",
       "    .dataframe thead th {\n",
       "        text-align: left;\n",
       "    }\n",
       "\n",
       "    .dataframe tbody tr th {\n",
       "        vertical-align: top;\n",
       "    }\n",
       "</style>\n",
       "<table border=\"1\" class=\"dataframe\">\n",
       "  <thead>\n",
       "    <tr style=\"text-align: right;\">\n",
       "      <th></th>\n",
       "      <th>count</th>\n",
       "      <th>mean</th>\n",
       "      <th>std</th>\n",
       "      <th>min</th>\n",
       "      <th>25%</th>\n",
       "      <th>50%</th>\n",
       "      <th>75%</th>\n",
       "      <th>max</th>\n",
       "    </tr>\n",
       "    <tr>\n",
       "      <th>genre</th>\n",
       "      <th></th>\n",
       "      <th></th>\n",
       "      <th></th>\n",
       "      <th></th>\n",
       "      <th></th>\n",
       "      <th></th>\n",
       "      <th></th>\n",
       "      <th></th>\n",
       "    </tr>\n",
       "  </thead>\n",
       "  <tbody>\n",
       "    <tr>\n",
       "      <th>Country</th>\n",
       "      <td>14323.0</td>\n",
       "      <td>186.913426</td>\n",
       "      <td>82.254845</td>\n",
       "      <td>3.0</td>\n",
       "      <td>129.0</td>\n",
       "      <td>171.0</td>\n",
       "      <td>231.00</td>\n",
       "      <td>1366.0</td>\n",
       "    </tr>\n",
       "    <tr>\n",
       "      <th>Electronic</th>\n",
       "      <td>7620.0</td>\n",
       "      <td>202.111680</td>\n",
       "      <td>135.602990</td>\n",
       "      <td>2.0</td>\n",
       "      <td>110.0</td>\n",
       "      <td>177.0</td>\n",
       "      <td>264.00</td>\n",
       "      <td>1920.0</td>\n",
       "    </tr>\n",
       "    <tr>\n",
       "      <th>Folk</th>\n",
       "      <td>2108.0</td>\n",
       "      <td>192.566888</td>\n",
       "      <td>115.198695</td>\n",
       "      <td>4.0</td>\n",
       "      <td>121.0</td>\n",
       "      <td>175.0</td>\n",
       "      <td>244.00</td>\n",
       "      <td>2393.0</td>\n",
       "    </tr>\n",
       "    <tr>\n",
       "      <th>Hip-Hop</th>\n",
       "      <td>24760.0</td>\n",
       "      <td>491.661914</td>\n",
       "      <td>237.312650</td>\n",
       "      <td>2.0</td>\n",
       "      <td>341.0</td>\n",
       "      <td>486.0</td>\n",
       "      <td>629.25</td>\n",
       "      <td>8195.0</td>\n",
       "    </tr>\n",
       "    <tr>\n",
       "      <th>Indie</th>\n",
       "      <td>3104.0</td>\n",
       "      <td>199.693621</td>\n",
       "      <td>106.541654</td>\n",
       "      <td>3.0</td>\n",
       "      <td>128.0</td>\n",
       "      <td>184.0</td>\n",
       "      <td>249.00</td>\n",
       "      <td>1262.0</td>\n",
       "    </tr>\n",
       "    <tr>\n",
       "      <th>Jazz</th>\n",
       "      <td>7825.0</td>\n",
       "      <td>175.237188</td>\n",
       "      <td>95.478588</td>\n",
       "      <td>2.0</td>\n",
       "      <td>110.0</td>\n",
       "      <td>153.0</td>\n",
       "      <td>216.00</td>\n",
       "      <td>1040.0</td>\n",
       "    </tr>\n",
       "    <tr>\n",
       "      <th>Metal</th>\n",
       "      <td>22995.0</td>\n",
       "      <td>174.652794</td>\n",
       "      <td>110.359008</td>\n",
       "      <td>2.0</td>\n",
       "      <td>105.0</td>\n",
       "      <td>155.0</td>\n",
       "      <td>220.00</td>\n",
       "      <td>2423.0</td>\n",
       "    </tr>\n",
       "    <tr>\n",
       "      <th>Pop</th>\n",
       "      <td>40262.0</td>\n",
       "      <td>246.975610</td>\n",
       "      <td>127.842247</td>\n",
       "      <td>2.0</td>\n",
       "      <td>158.0</td>\n",
       "      <td>225.0</td>\n",
       "      <td>311.00</td>\n",
       "      <td>1704.0</td>\n",
       "    </tr>\n",
       "    <tr>\n",
       "      <th>R&amp;B</th>\n",
       "      <td>3391.0</td>\n",
       "      <td>225.592156</td>\n",
       "      <td>119.607676</td>\n",
       "      <td>2.0</td>\n",
       "      <td>142.0</td>\n",
       "      <td>204.0</td>\n",
       "      <td>281.50</td>\n",
       "      <td>1440.0</td>\n",
       "    </tr>\n",
       "    <tr>\n",
       "      <th>Rock</th>\n",
       "      <td>107820.0</td>\n",
       "      <td>193.194333</td>\n",
       "      <td>104.301925</td>\n",
       "      <td>2.0</td>\n",
       "      <td>127.0</td>\n",
       "      <td>178.0</td>\n",
       "      <td>242.00</td>\n",
       "      <td>6232.0</td>\n",
       "    </tr>\n",
       "  </tbody>\n",
       "</table>\n",
       "</div>"
      ],
      "text/plain": [
       "               count        mean         std  min    25%    50%     75%  \\\n",
       "genre                                                                     \n",
       "Country      14323.0  186.913426   82.254845  3.0  129.0  171.0  231.00   \n",
       "Electronic    7620.0  202.111680  135.602990  2.0  110.0  177.0  264.00   \n",
       "Folk          2108.0  192.566888  115.198695  4.0  121.0  175.0  244.00   \n",
       "Hip-Hop      24760.0  491.661914  237.312650  2.0  341.0  486.0  629.25   \n",
       "Indie         3104.0  199.693621  106.541654  3.0  128.0  184.0  249.00   \n",
       "Jazz          7825.0  175.237188   95.478588  2.0  110.0  153.0  216.00   \n",
       "Metal        22995.0  174.652794  110.359008  2.0  105.0  155.0  220.00   \n",
       "Pop          40262.0  246.975610  127.842247  2.0  158.0  225.0  311.00   \n",
       "R&B           3391.0  225.592156  119.607676  2.0  142.0  204.0  281.50   \n",
       "Rock        107820.0  193.194333  104.301925  2.0  127.0  178.0  242.00   \n",
       "\n",
       "               max  \n",
       "genre               \n",
       "Country     1366.0  \n",
       "Electronic  1920.0  \n",
       "Folk        2393.0  \n",
       "Hip-Hop     8195.0  \n",
       "Indie       1262.0  \n",
       "Jazz        1040.0  \n",
       "Metal       2423.0  \n",
       "Pop         1704.0  \n",
       "R&B         1440.0  \n",
       "Rock        6232.0  "
      ]
     },
     "execution_count": 18,
     "metadata": {},
     "output_type": "execute_result"
    }
   ],
   "source": [
    "# delete songs with 1 word\n",
    "df = df[df['word_count'] != 1]\n",
    "# review data\n",
    "df['word_count'].groupby(df['genre']).describe()"
   ]
  },
  {
   "cell_type": "markdown",
   "metadata": {},
   "source": [
    "There are still some songs with 2, 3 words.\n",
    "Let's check them if they have lyrics."
   ]
  },
  {
   "cell_type": "code",
   "execution_count": 19,
   "metadata": {},
   "outputs": [
    {
     "name": "stdout",
     "output_type": "stream",
     "text": [
      "# of songs with 1 word: 186\n"
     ]
    },
    {
     "data": {
      "text/html": [
       "<div>\n",
       "<style>\n",
       "    .dataframe thead tr:only-child th {\n",
       "        text-align: right;\n",
       "    }\n",
       "\n",
       "    .dataframe thead th {\n",
       "        text-align: left;\n",
       "    }\n",
       "\n",
       "    .dataframe tbody tr th {\n",
       "        vertical-align: top;\n",
       "    }\n",
       "</style>\n",
       "<table border=\"1\" class=\"dataframe\">\n",
       "  <thead>\n",
       "    <tr style=\"text-align: right;\">\n",
       "      <th></th>\n",
       "      <th>song</th>\n",
       "      <th>year</th>\n",
       "      <th>artist</th>\n",
       "      <th>genre</th>\n",
       "      <th>lyrics</th>\n",
       "      <th>word_count</th>\n",
       "    </tr>\n",
       "  </thead>\n",
       "  <tbody>\n",
       "    <tr>\n",
       "      <th>2735</th>\n",
       "      <td>terminal</td>\n",
       "      <td>2007</td>\n",
       "      <td>antimatter</td>\n",
       "      <td>Rock</td>\n",
       "      <td>[Patterson] [instrumental]</td>\n",
       "      <td>2</td>\n",
       "    </tr>\n",
       "    <tr>\n",
       "      <th>3751</th>\n",
       "      <td>instinct</td>\n",
       "      <td>2007</td>\n",
       "      <td>claire-voyant</td>\n",
       "      <td>Pop</td>\n",
       "      <td>Tekst niedostę</td>\n",
       "      <td>2</td>\n",
       "    </tr>\n",
       "    <tr>\n",
       "      <th>4089</th>\n",
       "      <td>democracy</td>\n",
       "      <td>2007</td>\n",
       "      <td>disbelief</td>\n",
       "      <td>Metal</td>\n",
       "      <td>[Killing Joke-Cover]</td>\n",
       "      <td>2</td>\n",
       "    </tr>\n",
       "    <tr>\n",
       "      <th>9170</th>\n",
       "      <td>niaaea</td>\n",
       "      <td>2006</td>\n",
       "      <td>adaaeaaineay-iaidiia</td>\n",
       "      <td>Rock</td>\n",
       "      <td>- .</td>\n",
       "      <td>2</td>\n",
       "    </tr>\n",
       "    <tr>\n",
       "      <th>9173</th>\n",
       "      <td>odaiaae</td>\n",
       "      <td>2006</td>\n",
       "      <td>adaaeaaineay-iaidiia</td>\n",
       "      <td>Rock</td>\n",
       "      <td>- ...</td>\n",
       "      <td>2</td>\n",
       "    </tr>\n",
       "  </tbody>\n",
       "</table>\n",
       "</div>"
      ],
      "text/plain": [
       "           song  year                artist  genre  \\\n",
       "2735   terminal  2007            antimatter   Rock   \n",
       "3751   instinct  2007         claire-voyant    Pop   \n",
       "4089  democracy  2007             disbelief  Metal   \n",
       "9170     niaaea  2006  adaaeaaineay-iaidiia   Rock   \n",
       "9173    odaiaae  2006  adaaeaaineay-iaidiia   Rock   \n",
       "\n",
       "                          lyrics  word_count  \n",
       "2735  [Patterson] [instrumental]           2  \n",
       "3751              Tekst niedostę           2  \n",
       "4089        [Killing Joke-Cover]           2  \n",
       "9170                         - .           2  \n",
       "9173                       - ...           2  "
      ]
     },
     "execution_count": 19,
     "metadata": {},
     "output_type": "execute_result"
    }
   ],
   "source": [
    "# display the top songs with 2 words\n",
    "print(\"# of songs with 1 word: {}\".format(len(df.loc[df['word_count'] == 2])))\n",
    "df.loc[df['word_count'] == 2].head()"
   ]
  },
  {
   "cell_type": "code",
   "execution_count": 20,
   "metadata": {},
   "outputs": [
    {
     "name": "stdout",
     "output_type": "stream",
     "text": [
      "# of songs with 3 words: 198\n"
     ]
    },
    {
     "data": {
      "text/html": [
       "<div>\n",
       "<style>\n",
       "    .dataframe thead tr:only-child th {\n",
       "        text-align: right;\n",
       "    }\n",
       "\n",
       "    .dataframe thead th {\n",
       "        text-align: left;\n",
       "    }\n",
       "\n",
       "    .dataframe tbody tr th {\n",
       "        vertical-align: top;\n",
       "    }\n",
       "</style>\n",
       "<table border=\"1\" class=\"dataframe\">\n",
       "  <thead>\n",
       "    <tr style=\"text-align: right;\">\n",
       "      <th></th>\n",
       "      <th>song</th>\n",
       "      <th>year</th>\n",
       "      <th>artist</th>\n",
       "      <th>genre</th>\n",
       "      <th>lyrics</th>\n",
       "      <th>word_count</th>\n",
       "    </tr>\n",
       "  </thead>\n",
       "  <tbody>\n",
       "    <tr>\n",
       "      <th>2688</th>\n",
       "      <td>enhorabuena</td>\n",
       "      <td>2014</td>\n",
       "      <td>el-arrebato</td>\n",
       "      <td>Pop</td>\n",
       "      <td>El Arrebato Enhorabuena</td>\n",
       "      <td>3</td>\n",
       "    </tr>\n",
       "    <tr>\n",
       "      <th>5803</th>\n",
       "      <td>because-you-acute-re-mine</td>\n",
       "      <td>2006</td>\n",
       "      <td>bryan-ferry</td>\n",
       "      <td>Rock</td>\n",
       "      <td>Because you're mine</td>\n",
       "      <td>3</td>\n",
       "    </tr>\n",
       "    <tr>\n",
       "      <th>7509</th>\n",
       "      <td>wickedness-act</td>\n",
       "      <td>2007</td>\n",
       "      <td>celesty</td>\n",
       "      <td>Metal</td>\n",
       "      <td>[Japanese Bonus Track]</td>\n",
       "      <td>3</td>\n",
       "    </tr>\n",
       "    <tr>\n",
       "      <th>7639</th>\n",
       "      <td>malice</td>\n",
       "      <td>2001</td>\n",
       "      <td>behemoth</td>\n",
       "      <td>Metal</td>\n",
       "      <td>[Lyrics not available]</td>\n",
       "      <td>3</td>\n",
       "    </tr>\n",
       "    <tr>\n",
       "      <th>9164</th>\n",
       "      <td>edaniue-niao</td>\n",
       "      <td>2006</td>\n",
       "      <td>adaaeaaineay-iaidiia</td>\n",
       "      <td>Rock</td>\n",
       "      <td>, , ,</td>\n",
       "      <td>3</td>\n",
       "    </tr>\n",
       "  </tbody>\n",
       "</table>\n",
       "</div>"
      ],
      "text/plain": [
       "                           song  year                artist  genre  \\\n",
       "2688                enhorabuena  2014           el-arrebato    Pop   \n",
       "5803  because-you-acute-re-mine  2006           bryan-ferry   Rock   \n",
       "7509             wickedness-act  2007               celesty  Metal   \n",
       "7639                     malice  2001              behemoth  Metal   \n",
       "9164               edaniue-niao  2006  adaaeaaineay-iaidiia   Rock   \n",
       "\n",
       "                       lyrics  word_count  \n",
       "2688  El Arrebato Enhorabuena           3  \n",
       "5803      Because you're mine           3  \n",
       "7509   [Japanese Bonus Track]           3  \n",
       "7639   [Lyrics not available]           3  \n",
       "9164                    , , ,           3  "
      ]
     },
     "execution_count": 20,
     "metadata": {},
     "output_type": "execute_result"
    }
   ],
   "source": [
    "# display the top songs with 3 words\n",
    "print(\"# of songs with 3 words: {}\".format(len(df.loc[df['word_count'] == 3])))\n",
    "df.loc[df['word_count']  == 3].head()"
   ]
  },
  {
   "cell_type": "code",
   "execution_count": 21,
   "metadata": {},
   "outputs": [
    {
     "name": "stdout",
     "output_type": "stream",
     "text": [
      "# of songs with 3 words: 6825\n"
     ]
    }
   ],
   "source": [
    "# display the top songs with 3 words\n",
    "print(\"# of songs with 3 words: {}\".format(len(df.loc[df['word_count'] < 50])))"
   ]
  },
  {
   "cell_type": "code",
   "execution_count": 22,
   "metadata": {},
   "outputs": [
    {
     "name": "stdout",
     "output_type": "stream",
     "text": [
      "# of songs < 50 words: 6825\n",
      "# of total songs: 234208\n",
      "% of songs < 50 words: 2.914076376554174%\n"
     ]
    }
   ],
   "source": [
    "# check the proportion of songs with less 100 words compared to the entire data set\n",
    "print(\"# of songs < 50 words: {}\".format(len(df[df['word_count'] < 50])))\n",
    "print(\"# of total songs: {}\".format(len(df)))\n",
    "print(\"% of songs < 50 words: {}%\".format(len(df[df['word_count'] < 50])/len(df)*100))"
   ]
  },
  {
   "cell_type": "markdown",
   "metadata": {},
   "source": [
    "Since we are only eliminating about 3% of the entire data set by deleting songs less than 50 words, we will do this to simplify the data set."
   ]
  },
  {
   "cell_type": "code",
   "execution_count": 23,
   "metadata": {},
   "outputs": [
    {
     "data": {
      "text/html": [
       "<div>\n",
       "<style>\n",
       "    .dataframe thead tr:only-child th {\n",
       "        text-align: right;\n",
       "    }\n",
       "\n",
       "    .dataframe thead th {\n",
       "        text-align: left;\n",
       "    }\n",
       "\n",
       "    .dataframe tbody tr th {\n",
       "        vertical-align: top;\n",
       "    }\n",
       "</style>\n",
       "<table border=\"1\" class=\"dataframe\">\n",
       "  <thead>\n",
       "    <tr style=\"text-align: right;\">\n",
       "      <th></th>\n",
       "      <th>count</th>\n",
       "      <th>mean</th>\n",
       "      <th>std</th>\n",
       "      <th>min</th>\n",
       "      <th>25%</th>\n",
       "      <th>50%</th>\n",
       "      <th>75%</th>\n",
       "      <th>max</th>\n",
       "    </tr>\n",
       "    <tr>\n",
       "      <th>genre</th>\n",
       "      <th></th>\n",
       "      <th></th>\n",
       "      <th></th>\n",
       "      <th></th>\n",
       "      <th></th>\n",
       "      <th></th>\n",
       "      <th></th>\n",
       "      <th></th>\n",
       "    </tr>\n",
       "  </thead>\n",
       "  <tbody>\n",
       "    <tr>\n",
       "      <th>Country</th>\n",
       "      <td>14204.0</td>\n",
       "      <td>188.253520</td>\n",
       "      <td>81.267609</td>\n",
       "      <td>51.0</td>\n",
       "      <td>130.0</td>\n",
       "      <td>172.0</td>\n",
       "      <td>231.0</td>\n",
       "      <td>1366.0</td>\n",
       "    </tr>\n",
       "    <tr>\n",
       "      <th>Electronic</th>\n",
       "      <td>6993.0</td>\n",
       "      <td>217.772344</td>\n",
       "      <td>130.525636</td>\n",
       "      <td>51.0</td>\n",
       "      <td>126.0</td>\n",
       "      <td>190.0</td>\n",
       "      <td>273.0</td>\n",
       "      <td>1920.0</td>\n",
       "    </tr>\n",
       "    <tr>\n",
       "      <th>Folk</th>\n",
       "      <td>2018.0</td>\n",
       "      <td>199.837463</td>\n",
       "      <td>112.317991</td>\n",
       "      <td>51.0</td>\n",
       "      <td>129.0</td>\n",
       "      <td>179.0</td>\n",
       "      <td>247.0</td>\n",
       "      <td>2393.0</td>\n",
       "    </tr>\n",
       "    <tr>\n",
       "      <th>Hip-Hop</th>\n",
       "      <td>24186.0</td>\n",
       "      <td>502.707682</td>\n",
       "      <td>228.881699</td>\n",
       "      <td>51.0</td>\n",
       "      <td>353.0</td>\n",
       "      <td>492.0</td>\n",
       "      <td>634.0</td>\n",
       "      <td>8195.0</td>\n",
       "    </tr>\n",
       "    <tr>\n",
       "      <th>Indie</th>\n",
       "      <td>3030.0</td>\n",
       "      <td>203.797360</td>\n",
       "      <td>104.489909</td>\n",
       "      <td>52.0</td>\n",
       "      <td>133.0</td>\n",
       "      <td>186.5</td>\n",
       "      <td>251.0</td>\n",
       "      <td>1262.0</td>\n",
       "    </tr>\n",
       "    <tr>\n",
       "      <th>Jazz</th>\n",
       "      <td>7675.0</td>\n",
       "      <td>178.039609</td>\n",
       "      <td>94.238820</td>\n",
       "      <td>51.0</td>\n",
       "      <td>112.0</td>\n",
       "      <td>156.0</td>\n",
       "      <td>218.0</td>\n",
       "      <td>1040.0</td>\n",
       "    </tr>\n",
       "    <tr>\n",
       "      <th>Metal</th>\n",
       "      <td>21603.0</td>\n",
       "      <td>184.207286</td>\n",
       "      <td>106.957901</td>\n",
       "      <td>51.0</td>\n",
       "      <td>114.0</td>\n",
       "      <td>161.0</td>\n",
       "      <td>225.0</td>\n",
       "      <td>2423.0</td>\n",
       "    </tr>\n",
       "    <tr>\n",
       "      <th>Pop</th>\n",
       "      <td>39623.0</td>\n",
       "      <td>250.486182</td>\n",
       "      <td>125.807910</td>\n",
       "      <td>51.0</td>\n",
       "      <td>161.0</td>\n",
       "      <td>227.0</td>\n",
       "      <td>313.0</td>\n",
       "      <td>1704.0</td>\n",
       "    </tr>\n",
       "    <tr>\n",
       "      <th>R&amp;B</th>\n",
       "      <td>3350.0</td>\n",
       "      <td>227.995522</td>\n",
       "      <td>118.323421</td>\n",
       "      <td>52.0</td>\n",
       "      <td>144.0</td>\n",
       "      <td>205.0</td>\n",
       "      <td>282.0</td>\n",
       "      <td>1440.0</td>\n",
       "    </tr>\n",
       "    <tr>\n",
       "      <th>Rock</th>\n",
       "      <td>104498.0</td>\n",
       "      <td>198.457301</td>\n",
       "      <td>101.581834</td>\n",
       "      <td>51.0</td>\n",
       "      <td>132.0</td>\n",
       "      <td>182.0</td>\n",
       "      <td>245.0</td>\n",
       "      <td>6232.0</td>\n",
       "    </tr>\n",
       "  </tbody>\n",
       "</table>\n",
       "</div>"
      ],
      "text/plain": [
       "               count        mean         std   min    25%    50%    75%  \\\n",
       "genre                                                                     \n",
       "Country      14204.0  188.253520   81.267609  51.0  130.0  172.0  231.0   \n",
       "Electronic    6993.0  217.772344  130.525636  51.0  126.0  190.0  273.0   \n",
       "Folk          2018.0  199.837463  112.317991  51.0  129.0  179.0  247.0   \n",
       "Hip-Hop      24186.0  502.707682  228.881699  51.0  353.0  492.0  634.0   \n",
       "Indie         3030.0  203.797360  104.489909  52.0  133.0  186.5  251.0   \n",
       "Jazz          7675.0  178.039609   94.238820  51.0  112.0  156.0  218.0   \n",
       "Metal        21603.0  184.207286  106.957901  51.0  114.0  161.0  225.0   \n",
       "Pop          39623.0  250.486182  125.807910  51.0  161.0  227.0  313.0   \n",
       "R&B           3350.0  227.995522  118.323421  52.0  144.0  205.0  282.0   \n",
       "Rock        104498.0  198.457301  101.581834  51.0  132.0  182.0  245.0   \n",
       "\n",
       "               max  \n",
       "genre               \n",
       "Country     1366.0  \n",
       "Electronic  1920.0  \n",
       "Folk        2393.0  \n",
       "Hip-Hop     8195.0  \n",
       "Indie       1262.0  \n",
       "Jazz        1040.0  \n",
       "Metal       2423.0  \n",
       "Pop         1704.0  \n",
       "R&B         1440.0  \n",
       "Rock        6232.0  "
      ]
     },
     "execution_count": 23,
     "metadata": {},
     "output_type": "execute_result"
    }
   ],
   "source": [
    "# delete songs with 1 word\n",
    "df = df[df['word_count'] > 50]\n",
    "# review data\n",
    "df['word_count'].groupby(df['genre']).describe()"
   ]
  },
  {
   "cell_type": "markdown",
   "metadata": {},
   "source": [
    "Let's now check the overall distribution of the songs."
   ]
  },
  {
   "cell_type": "code",
   "execution_count": 24,
   "metadata": {},
   "outputs": [
    {
     "data": {
      "image/png": "[encoded data removed]",
      "text/plain": [
       "<matplotlib.figure.Figure at 0x206ab9e1b38>"
      ]
     },
     "metadata": {},
     "output_type": "display_data"
    }
   ],
   "source": [
    "# check distribution of data set\n",
    "plt.figure(figsize=(20,10))\n",
    "sns.distplot(df[\"word_count\"])\n",
    "plt.show()"
   ]
  },
  {
   "cell_type": "markdown",
   "metadata": {},
   "source": [
    "The word count is extremely skewed to the right.\n",
    "Let's see what the lyrics are for some high word counts."
   ]
  },
  {
   "cell_type": "code",
   "execution_count": 25,
   "metadata": {},
   "outputs": [
    {
     "name": "stdout",
     "output_type": "stream",
     "text": [
      "# of songs with 1 word: 1\n"
     ]
    },
    {
     "data": {
      "text/html": [
       "<div>\n",
       "<style>\n",
       "    .dataframe thead tr:only-child th {\n",
       "        text-align: right;\n",
       "    }\n",
       "\n",
       "    .dataframe thead th {\n",
       "        text-align: left;\n",
       "    }\n",
       "\n",
       "    .dataframe tbody tr th {\n",
       "        vertical-align: top;\n",
       "    }\n",
       "</style>\n",
       "<table border=\"1\" class=\"dataframe\">\n",
       "  <thead>\n",
       "    <tr style=\"text-align: right;\">\n",
       "      <th></th>\n",
       "      <th>song</th>\n",
       "      <th>year</th>\n",
       "      <th>artist</th>\n",
       "      <th>genre</th>\n",
       "      <th>lyrics</th>\n",
       "      <th>word_count</th>\n",
       "    </tr>\n",
       "  </thead>\n",
       "  <tbody>\n",
       "    <tr>\n",
       "      <th>18869</th>\n",
       "      <td>rap-monument</td>\n",
       "      <td>2014</td>\n",
       "      <td>flatbush-zombies</td>\n",
       "      <td>Hip-Hop</td>\n",
       "      <td>RAPROCK LIT POP NEWS COUNTRY R&amp;B; HISTORY SPOR...</td>\n",
       "      <td>8195</td>\n",
       "    </tr>\n",
       "  </tbody>\n",
       "</table>\n",
       "</div>"
      ],
      "text/plain": [
       "               song  year            artist    genre  \\\n",
       "18869  rap-monument  2014  flatbush-zombies  Hip-Hop   \n",
       "\n",
       "                                                  lyrics  word_count  \n",
       "18869  RAPROCK LIT POP NEWS COUNTRY R&B; HISTORY SPOR...        8195  "
      ]
     },
     "execution_count": 25,
     "metadata": {},
     "output_type": "execute_result"
    }
   ],
   "source": [
    "# display the top songs with more then 8000 words\n",
    "print(\"# of songs with 1 word: {}\".format(len(df.loc[df['word_count'] > 8000])))\n",
    "df.loc[df['word_count'] > 8000].head()"
   ]
  },
  {
   "cell_type": "code",
   "execution_count": 26,
   "metadata": {},
   "outputs": [
    {
     "name": "stdout",
     "output_type": "stream",
     "text": [
      "# of songs with 1 word: 3\n"
     ]
    },
    {
     "data": {
      "text/html": [
       "<div>\n",
       "<style>\n",
       "    .dataframe thead tr:only-child th {\n",
       "        text-align: right;\n",
       "    }\n",
       "\n",
       "    .dataframe thead th {\n",
       "        text-align: left;\n",
       "    }\n",
       "\n",
       "    .dataframe tbody tr th {\n",
       "        vertical-align: top;\n",
       "    }\n",
       "</style>\n",
       "<table border=\"1\" class=\"dataframe\">\n",
       "  <thead>\n",
       "    <tr style=\"text-align: right;\">\n",
       "      <th></th>\n",
       "      <th>song</th>\n",
       "      <th>year</th>\n",
       "      <th>artist</th>\n",
       "      <th>genre</th>\n",
       "      <th>lyrics</th>\n",
       "      <th>word_count</th>\n",
       "    </tr>\n",
       "  </thead>\n",
       "  <tbody>\n",
       "    <tr>\n",
       "      <th>15620</th>\n",
       "      <td>yes-sir-i-will</td>\n",
       "      <td>2007</td>\n",
       "      <td>crass</td>\n",
       "      <td>Rock</td>\n",
       "      <td>The door stands open - Across lines, invisible...</td>\n",
       "      <td>6232</td>\n",
       "    </tr>\n",
       "    <tr>\n",
       "      <th>18869</th>\n",
       "      <td>rap-monument</td>\n",
       "      <td>2014</td>\n",
       "      <td>flatbush-zombies</td>\n",
       "      <td>Hip-Hop</td>\n",
       "      <td>RAPROCK LIT POP NEWS COUNTRY R&amp;B; HISTORY SPOR...</td>\n",
       "      <td>8195</td>\n",
       "    </tr>\n",
       "    <tr>\n",
       "      <th>89953</th>\n",
       "      <td>freestyle-june-27</td>\n",
       "      <td>2007</td>\n",
       "      <td>big-moe</td>\n",
       "      <td>Hip-Hop</td>\n",
       "      <td>(Big Moe) Yeee-yeee haahee yeehaa, yeee-yaahee...</td>\n",
       "      <td>5085</td>\n",
       "    </tr>\n",
       "  </tbody>\n",
       "</table>\n",
       "</div>"
      ],
      "text/plain": [
       "                    song  year            artist    genre  \\\n",
       "15620     yes-sir-i-will  2007             crass     Rock   \n",
       "18869       rap-monument  2014  flatbush-zombies  Hip-Hop   \n",
       "89953  freestyle-june-27  2007           big-moe  Hip-Hop   \n",
       "\n",
       "                                                  lyrics  word_count  \n",
       "15620  The door stands open - Across lines, invisible...        6232  \n",
       "18869  RAPROCK LIT POP NEWS COUNTRY R&B; HISTORY SPOR...        8195  \n",
       "89953  (Big Moe) Yeee-yeee haahee yeehaa, yeee-yaahee...        5085  "
      ]
     },
     "execution_count": 26,
     "metadata": {},
     "output_type": "execute_result"
    }
   ],
   "source": [
    "# display the top songs with more then 5000 words\n",
    "print(\"# of songs with 1 word: {}\".format(len(df.loc[df['word_count'] > 5000])))\n",
    "df.loc[df['word_count'] > 5000].head()"
   ]
  },
  {
   "cell_type": "code",
   "execution_count": 27,
   "metadata": {},
   "outputs": [
    {
     "name": "stdout",
     "output_type": "stream",
     "text": [
      "# of songs with 1 word: 572\n"
     ]
    },
    {
     "data": {
      "text/html": [
       "<div>\n",
       "<style>\n",
       "    .dataframe thead tr:only-child th {\n",
       "        text-align: right;\n",
       "    }\n",
       "\n",
       "    .dataframe thead th {\n",
       "        text-align: left;\n",
       "    }\n",
       "\n",
       "    .dataframe tbody tr th {\n",
       "        vertical-align: top;\n",
       "    }\n",
       "</style>\n",
       "<table border=\"1\" class=\"dataframe\">\n",
       "  <thead>\n",
       "    <tr style=\"text-align: right;\">\n",
       "      <th></th>\n",
       "      <th>song</th>\n",
       "      <th>year</th>\n",
       "      <th>artist</th>\n",
       "      <th>genre</th>\n",
       "      <th>lyrics</th>\n",
       "      <th>word_count</th>\n",
       "    </tr>\n",
       "  </thead>\n",
       "  <tbody>\n",
       "    <tr>\n",
       "      <th>95</th>\n",
       "      <td>get-me-bodied</td>\n",
       "      <td>2006</td>\n",
       "      <td>beyonce-knowles</td>\n",
       "      <td>Pop</td>\n",
       "      <td>Nine, four, eight, one B day Mission one: I'm-...</td>\n",
       "      <td>1122</td>\n",
       "    </tr>\n",
       "    <tr>\n",
       "      <th>113</th>\n",
       "      <td>get-me-bodied-extended-remix-bonus-track</td>\n",
       "      <td>2006</td>\n",
       "      <td>beyonce-knowles</td>\n",
       "      <td>Pop</td>\n",
       "      <td>Nine, four, eight, one B'day Mission one, Ima ...</td>\n",
       "      <td>1014</td>\n",
       "    </tr>\n",
       "    <tr>\n",
       "      <th>1590</th>\n",
       "      <td>tour-hip-hop-version</td>\n",
       "      <td>2006</td>\n",
       "      <td>capleton</td>\n",
       "      <td>Electronic</td>\n",
       "      <td>Yeah I say straighten yuh crooked ways Blessed...</td>\n",
       "      <td>1034</td>\n",
       "    </tr>\n",
       "    <tr>\n",
       "      <th>2339</th>\n",
       "      <td>burnt</td>\n",
       "      <td>2007</td>\n",
       "      <td>del-the-funky-homosapien</td>\n",
       "      <td>Hip-Hop</td>\n",
       "      <td>DEL: Mista, twista, get ya every single time w...</td>\n",
       "      <td>1068</td>\n",
       "    </tr>\n",
       "    <tr>\n",
       "      <th>7464</th>\n",
       "      <td>stan</td>\n",
       "      <td>2006</td>\n",
       "      <td>dido</td>\n",
       "      <td>Pop</td>\n",
       "      <td>My tea's gone cold I'm wondering why I Got out...</td>\n",
       "      <td>1238</td>\n",
       "    </tr>\n",
       "  </tbody>\n",
       "</table>\n",
       "</div>"
      ],
      "text/plain": [
       "                                          song  year  \\\n",
       "95                               get-me-bodied  2006   \n",
       "113   get-me-bodied-extended-remix-bonus-track  2006   \n",
       "1590                      tour-hip-hop-version  2006   \n",
       "2339                                     burnt  2007   \n",
       "7464                                      stan  2006   \n",
       "\n",
       "                        artist       genre  \\\n",
       "95             beyonce-knowles         Pop   \n",
       "113            beyonce-knowles         Pop   \n",
       "1590                  capleton  Electronic   \n",
       "2339  del-the-funky-homosapien     Hip-Hop   \n",
       "7464                      dido         Pop   \n",
       "\n",
       "                                                 lyrics  word_count  \n",
       "95    Nine, four, eight, one B day Mission one: I'm-...        1122  \n",
       "113   Nine, four, eight, one B'day Mission one, Ima ...        1014  \n",
       "1590  Yeah I say straighten yuh crooked ways Blessed...        1034  \n",
       "2339  DEL: Mista, twista, get ya every single time w...        1068  \n",
       "7464  My tea's gone cold I'm wondering why I Got out...        1238  "
      ]
     },
     "execution_count": 27,
     "metadata": {},
     "output_type": "execute_result"
    }
   ],
   "source": [
    "# display the top songs with more then 1000 words\n",
    "print(\"# of songs with 1 word: {}\".format(len(df.loc[df['word_count'] > 1000])))\n",
    "df.loc[df['word_count'] > 1000].head()"
   ]
  },
  {
   "cell_type": "code",
   "execution_count": 28,
   "metadata": {},
   "outputs": [
    {
     "name": "stdout",
     "output_type": "stream",
     "text": [
      "# of songs < 1000 words: 572\n",
      "# of total songs: 227180\n",
      "% of songs < 1000 words: 0.2517827273527599%\n"
     ]
    }
   ],
   "source": [
    "# check the proportion of songs with less 100 words compared to the entire data set\n",
    "print(\"# of songs < 1000 words: {}\".format(len(df[df['word_count'] > 1000])))\n",
    "print(\"# of total songs: {}\".format(len(df)))\n",
    "print(\"% of songs < 1000 words: {}%\".format(len(df[df['word_count'] > 1000])/len(df)*100))"
   ]
  },
  {
   "cell_type": "markdown",
   "metadata": {},
   "source": [
    "Since there are only 0.25% of songs with 1000 words, let's eliminate them to simplify data set."
   ]
  },
  {
   "cell_type": "code",
   "execution_count": 29,
   "metadata": {},
   "outputs": [
    {
     "data": {
      "text/html": [
       "<div>\n",
       "<style>\n",
       "    .dataframe thead tr:only-child th {\n",
       "        text-align: right;\n",
       "    }\n",
       "\n",
       "    .dataframe thead th {\n",
       "        text-align: left;\n",
       "    }\n",
       "\n",
       "    .dataframe tbody tr th {\n",
       "        vertical-align: top;\n",
       "    }\n",
       "</style>\n",
       "<table border=\"1\" class=\"dataframe\">\n",
       "  <thead>\n",
       "    <tr style=\"text-align: right;\">\n",
       "      <th></th>\n",
       "      <th>count</th>\n",
       "      <th>mean</th>\n",
       "      <th>std</th>\n",
       "      <th>min</th>\n",
       "      <th>25%</th>\n",
       "      <th>50%</th>\n",
       "      <th>75%</th>\n",
       "      <th>max</th>\n",
       "    </tr>\n",
       "    <tr>\n",
       "      <th>genre</th>\n",
       "      <th></th>\n",
       "      <th></th>\n",
       "      <th></th>\n",
       "      <th></th>\n",
       "      <th></th>\n",
       "      <th></th>\n",
       "      <th></th>\n",
       "      <th></th>\n",
       "    </tr>\n",
       "  </thead>\n",
       "  <tbody>\n",
       "    <tr>\n",
       "      <th>Country</th>\n",
       "      <td>14203.0</td>\n",
       "      <td>188.170598</td>\n",
       "      <td>80.667305</td>\n",
       "      <td>51.0</td>\n",
       "      <td>130.0</td>\n",
       "      <td>172.0</td>\n",
       "      <td>231.0</td>\n",
       "      <td>895.0</td>\n",
       "    </tr>\n",
       "    <tr>\n",
       "      <th>Electronic</th>\n",
       "      <td>6989.0</td>\n",
       "      <td>217.124052</td>\n",
       "      <td>127.434446</td>\n",
       "      <td>51.0</td>\n",
       "      <td>126.0</td>\n",
       "      <td>190.0</td>\n",
       "      <td>273.0</td>\n",
       "      <td>990.0</td>\n",
       "    </tr>\n",
       "    <tr>\n",
       "      <th>Folk</th>\n",
       "      <td>2016.0</td>\n",
       "      <td>198.216766</td>\n",
       "      <td>98.313421</td>\n",
       "      <td>51.0</td>\n",
       "      <td>129.0</td>\n",
       "      <td>179.0</td>\n",
       "      <td>247.0</td>\n",
       "      <td>998.0</td>\n",
       "    </tr>\n",
       "    <tr>\n",
       "      <th>Hip-Hop</th>\n",
       "      <td>23735.0</td>\n",
       "      <td>489.282831</td>\n",
       "      <td>197.858712</td>\n",
       "      <td>51.0</td>\n",
       "      <td>350.0</td>\n",
       "      <td>487.0</td>\n",
       "      <td>623.0</td>\n",
       "      <td>999.0</td>\n",
       "    </tr>\n",
       "    <tr>\n",
       "      <th>Indie</th>\n",
       "      <td>3027.0</td>\n",
       "      <td>202.890320</td>\n",
       "      <td>100.437058</td>\n",
       "      <td>52.0</td>\n",
       "      <td>133.0</td>\n",
       "      <td>186.0</td>\n",
       "      <td>251.0</td>\n",
       "      <td>952.0</td>\n",
       "    </tr>\n",
       "    <tr>\n",
       "      <th>Jazz</th>\n",
       "      <td>7674.0</td>\n",
       "      <td>177.927287</td>\n",
       "      <td>93.729772</td>\n",
       "      <td>51.0</td>\n",
       "      <td>112.0</td>\n",
       "      <td>156.0</td>\n",
       "      <td>218.0</td>\n",
       "      <td>935.0</td>\n",
       "    </tr>\n",
       "    <tr>\n",
       "      <th>Metal</th>\n",
       "      <td>21590.0</td>\n",
       "      <td>183.510607</td>\n",
       "      <td>102.359617</td>\n",
       "      <td>51.0</td>\n",
       "      <td>114.0</td>\n",
       "      <td>161.0</td>\n",
       "      <td>225.0</td>\n",
       "      <td>999.0</td>\n",
       "    </tr>\n",
       "    <tr>\n",
       "      <th>Pop</th>\n",
       "      <td>39595.0</td>\n",
       "      <td>249.839576</td>\n",
       "      <td>123.408581</td>\n",
       "      <td>51.0</td>\n",
       "      <td>161.0</td>\n",
       "      <td>227.0</td>\n",
       "      <td>313.0</td>\n",
       "      <td>999.0</td>\n",
       "    </tr>\n",
       "    <tr>\n",
       "      <th>R&amp;B</th>\n",
       "      <td>3348.0</td>\n",
       "      <td>227.329450</td>\n",
       "      <td>115.151365</td>\n",
       "      <td>52.0</td>\n",
       "      <td>144.0</td>\n",
       "      <td>205.0</td>\n",
       "      <td>282.0</td>\n",
       "      <td>892.0</td>\n",
       "    </tr>\n",
       "    <tr>\n",
       "      <th>Rock</th>\n",
       "      <td>104425.0</td>\n",
       "      <td>197.531166</td>\n",
       "      <td>93.237922</td>\n",
       "      <td>51.0</td>\n",
       "      <td>132.0</td>\n",
       "      <td>182.0</td>\n",
       "      <td>245.0</td>\n",
       "      <td>998.0</td>\n",
       "    </tr>\n",
       "  </tbody>\n",
       "</table>\n",
       "</div>"
      ],
      "text/plain": [
       "               count        mean         std   min    25%    50%    75%    max\n",
       "genre                                                                         \n",
       "Country      14203.0  188.170598   80.667305  51.0  130.0  172.0  231.0  895.0\n",
       "Electronic    6989.0  217.124052  127.434446  51.0  126.0  190.0  273.0  990.0\n",
       "Folk          2016.0  198.216766   98.313421  51.0  129.0  179.0  247.0  998.0\n",
       "Hip-Hop      23735.0  489.282831  197.858712  51.0  350.0  487.0  623.0  999.0\n",
       "Indie         3027.0  202.890320  100.437058  52.0  133.0  186.0  251.0  952.0\n",
       "Jazz          7674.0  177.927287   93.729772  51.0  112.0  156.0  218.0  935.0\n",
       "Metal        21590.0  183.510607  102.359617  51.0  114.0  161.0  225.0  999.0\n",
       "Pop          39595.0  249.839576  123.408581  51.0  161.0  227.0  313.0  999.0\n",
       "R&B           3348.0  227.329450  115.151365  52.0  144.0  205.0  282.0  892.0\n",
       "Rock        104425.0  197.531166   93.237922  51.0  132.0  182.0  245.0  998.0"
      ]
     },
     "execution_count": 29,
     "metadata": {},
     "output_type": "execute_result"
    }
   ],
   "source": [
    "# delete songs with more than 1000 worda\n",
    "df = df[df['word_count'] < 1000]\n",
    "# review data\n",
    "df['word_count'].groupby(df['genre']).describe()"
   ]
  },
  {
   "cell_type": "markdown",
   "metadata": {},
   "source": []
  },
  {
   "cell_type": "code",
   "execution_count": 30,
   "metadata": {},
   "outputs": [
    {
     "data": {
      "image/png": "[encoded data removed]",
      "text/plain": [
       "<matplotlib.figure.Figure at 0x207831665c0>"
      ]
     },
     "metadata": {},
     "output_type": "display_data"
    }
   ],
   "source": [
    "# check distribution of data set\n",
    "plt.figure(figsize=(20,10))\n",
    "sns.distplot(df[\"word_count\"])\n",
    "plt.ylabel(\"probability\")\n",
    "plt.show()"
   ]
  },
  {
   "cell_type": "code",
   "execution_count": 31,
   "metadata": {},
   "outputs": [
    {
     "data": {
      "image/png": "[encoded data removed]",
      "text/plain": [
       "<matplotlib.figure.Figure at 0x207811a49b0>"
      ]
     },
     "metadata": {},
     "output_type": "display_data"
    },
    {
     "data": {
      "text/plain": [
       "<matplotlib.figure.Figure at 0x206a5843518>"
      ]
     },
     "metadata": {},
     "output_type": "display_data"
    }
   ],
   "source": [
    "sns.boxplot(x=\"genre\", y=\"word_count\", data=df)\n",
    "plt.figure(figsize=(20,10))\n",
    "plt.show()"
   ]
  },
  {
   "cell_type": "code",
   "execution_count": 32,
   "metadata": {},
   "outputs": [
    {
     "name": "stdout",
     "output_type": "stream",
     "text": [
      "<class 'pandas.core.frame.DataFrame'>\n",
      "Int64Index: 226602 entries, 0 to 362236\n",
      "Data columns (total 6 columns):\n",
      "song          226602 non-null object\n",
      "year          226602 non-null int64\n",
      "artist        226602 non-null object\n",
      "genre         226602 non-null object\n",
      "lyrics        226602 non-null object\n",
      "word_count    226602 non-null int64\n",
      "dtypes: int64(2), object(4)\n",
      "memory usage: 22.1+ MB\n",
      "# of rows: 226602\n",
      "\n",
      "# of columns: 6\n",
      "\n"
     ]
    },
    {
     "data": {
      "text/html": [
       "<div>\n",
       "<style>\n",
       "    .dataframe thead tr:only-child th {\n",
       "        text-align: right;\n",
       "    }\n",
       "\n",
       "    .dataframe thead th {\n",
       "        text-align: left;\n",
       "    }\n",
       "\n",
       "    .dataframe tbody tr th {\n",
       "        vertical-align: top;\n",
       "    }\n",
       "</style>\n",
       "<table border=\"1\" class=\"dataframe\">\n",
       "  <thead>\n",
       "    <tr style=\"text-align: right;\">\n",
       "      <th></th>\n",
       "      <th>song</th>\n",
       "      <th>year</th>\n",
       "      <th>artist</th>\n",
       "      <th>genre</th>\n",
       "      <th>lyrics</th>\n",
       "      <th>word_count</th>\n",
       "    </tr>\n",
       "  </thead>\n",
       "  <tbody>\n",
       "    <tr>\n",
       "      <th>0</th>\n",
       "      <td>ego-remix</td>\n",
       "      <td>2009</td>\n",
       "      <td>beyonce-knowles</td>\n",
       "      <td>Pop</td>\n",
       "      <td>Oh baby, how you doing? You know I'm gonna cut...</td>\n",
       "      <td>433</td>\n",
       "    </tr>\n",
       "    <tr>\n",
       "      <th>1</th>\n",
       "      <td>then-tell-me</td>\n",
       "      <td>2009</td>\n",
       "      <td>beyonce-knowles</td>\n",
       "      <td>Pop</td>\n",
       "      <td>playin' everything so easy, it's like you seem...</td>\n",
       "      <td>258</td>\n",
       "    </tr>\n",
       "    <tr>\n",
       "      <th>2</th>\n",
       "      <td>honesty</td>\n",
       "      <td>2009</td>\n",
       "      <td>beyonce-knowles</td>\n",
       "      <td>Pop</td>\n",
       "      <td>If you search For tenderness It isn't hard to ...</td>\n",
       "      <td>170</td>\n",
       "    </tr>\n",
       "    <tr>\n",
       "      <th>3</th>\n",
       "      <td>you-are-my-rock</td>\n",
       "      <td>2009</td>\n",
       "      <td>beyonce-knowles</td>\n",
       "      <td>Pop</td>\n",
       "      <td>Oh oh oh I, oh oh oh I [Verse 1:] If I wrote a...</td>\n",
       "      <td>522</td>\n",
       "    </tr>\n",
       "    <tr>\n",
       "      <th>4</th>\n",
       "      <td>black-culture</td>\n",
       "      <td>2009</td>\n",
       "      <td>beyonce-knowles</td>\n",
       "      <td>Pop</td>\n",
       "      <td>Party the people, the people the party it's po...</td>\n",
       "      <td>312</td>\n",
       "    </tr>\n",
       "  </tbody>\n",
       "</table>\n",
       "</div>"
      ],
      "text/plain": [
       "              song  year           artist genre  \\\n",
       "0        ego-remix  2009  beyonce-knowles   Pop   \n",
       "1     then-tell-me  2009  beyonce-knowles   Pop   \n",
       "2          honesty  2009  beyonce-knowles   Pop   \n",
       "3  you-are-my-rock  2009  beyonce-knowles   Pop   \n",
       "4    black-culture  2009  beyonce-knowles   Pop   \n",
       "\n",
       "                                              lyrics  word_count  \n",
       "0  Oh baby, how you doing? You know I'm gonna cut...         433  \n",
       "1  playin' everything so easy, it's like you seem...         258  \n",
       "2  If you search For tenderness It isn't hard to ...         170  \n",
       "3  Oh oh oh I, oh oh oh I [Verse 1:] If I wrote a...         522  \n",
       "4  Party the people, the people the party it's po...         312  "
      ]
     },
     "execution_count": 32,
     "metadata": {},
     "output_type": "execute_result"
    }
   ],
   "source": [
    "# display panda info\n",
    "df.info()\n",
    "# check shape of data frame\n",
    "print(\"# of rows: {}\\n\".format(df.shape[0]))\n",
    "print(\"# of columns: {}\\n\".format(df.shape[1]))\n",
    "# check how data is organized\n",
    "df.head()"
   ]
  },
  {
   "cell_type": "markdown",
   "metadata": {},
   "source": []
  },
  {
   "cell_type": "code",
   "execution_count": 33,
   "metadata": {},
   "outputs": [
    {
     "data": {
      "text/html": [
       "<div>\n",
       "<style>\n",
       "    .dataframe thead tr:only-child th {\n",
       "        text-align: right;\n",
       "    }\n",
       "\n",
       "    .dataframe thead th {\n",
       "        text-align: left;\n",
       "    }\n",
       "\n",
       "    .dataframe tbody tr th {\n",
       "        vertical-align: top;\n",
       "    }\n",
       "</style>\n",
       "<table border=\"1\" class=\"dataframe\">\n",
       "  <thead>\n",
       "    <tr style=\"text-align: right;\">\n",
       "      <th></th>\n",
       "      <th>song</th>\n",
       "    </tr>\n",
       "    <tr>\n",
       "      <th>genre</th>\n",
       "      <th></th>\n",
       "    </tr>\n",
       "  </thead>\n",
       "  <tbody>\n",
       "    <tr>\n",
       "      <th>Country</th>\n",
       "      <td>14203</td>\n",
       "    </tr>\n",
       "    <tr>\n",
       "      <th>Electronic</th>\n",
       "      <td>6989</td>\n",
       "    </tr>\n",
       "    <tr>\n",
       "      <th>Folk</th>\n",
       "      <td>2016</td>\n",
       "    </tr>\n",
       "    <tr>\n",
       "      <th>Hip-Hop</th>\n",
       "      <td>23735</td>\n",
       "    </tr>\n",
       "    <tr>\n",
       "      <th>Indie</th>\n",
       "      <td>3027</td>\n",
       "    </tr>\n",
       "    <tr>\n",
       "      <th>Jazz</th>\n",
       "      <td>7674</td>\n",
       "    </tr>\n",
       "    <tr>\n",
       "      <th>Metal</th>\n",
       "      <td>21590</td>\n",
       "    </tr>\n",
       "    <tr>\n",
       "      <th>Pop</th>\n",
       "      <td>39595</td>\n",
       "    </tr>\n",
       "    <tr>\n",
       "      <th>R&amp;B</th>\n",
       "      <td>3348</td>\n",
       "    </tr>\n",
       "    <tr>\n",
       "      <th>Rock</th>\n",
       "      <td>104425</td>\n",
       "    </tr>\n",
       "  </tbody>\n",
       "</table>\n",
       "</div>"
      ],
      "text/plain": [
       "              song\n",
       "genre             \n",
       "Country      14203\n",
       "Electronic    6989\n",
       "Folk          2016\n",
       "Hip-Hop      23735\n",
       "Indie         3027\n",
       "Jazz          7674\n",
       "Metal        21590\n",
       "Pop          39595\n",
       "R&B           3348\n",
       "Rock        104425"
      ]
     },
     "execution_count": 33,
     "metadata": {},
     "output_type": "execute_result"
    }
   ],
   "source": [
    "genre = df.groupby(['genre']).count()[['song']]\n",
    "genre"
   ]
  },
  {
   "cell_type": "code",
   "execution_count": 34,
   "metadata": {},
   "outputs": [
    {
     "data": {
      "image/png": "[encoded data removed]",
      "text/plain": [
       "<matplotlib.figure.Figure at 0x206812ab208>"
      ]
     },
     "metadata": {},
     "output_type": "display_data"
    }
   ],
   "source": [
    "genre.plot(kind='bar', figsize=(20,10))\n",
    "plt.ylabel(\"number of songs\")\n",
    "plt.show()"
   ]
  },
  {
   "cell_type": "code",
   "execution_count": 35,
   "metadata": {},
   "outputs": [
    {
     "data": {
      "text/html": [
       "<div>\n",
       "<style>\n",
       "    .dataframe thead tr:only-child th {\n",
       "        text-align: right;\n",
       "    }\n",
       "\n",
       "    .dataframe thead th {\n",
       "        text-align: left;\n",
       "    }\n",
       "\n",
       "    .dataframe tbody tr th {\n",
       "        vertical-align: top;\n",
       "    }\n",
       "</style>\n",
       "<table border=\"1\" class=\"dataframe\">\n",
       "  <thead>\n",
       "    <tr style=\"text-align: right;\">\n",
       "      <th></th>\n",
       "      <th>song</th>\n",
       "    </tr>\n",
       "    <tr>\n",
       "      <th>artist</th>\n",
       "      <th></th>\n",
       "    </tr>\n",
       "  </thead>\n",
       "  <tbody>\n",
       "    <tr>\n",
       "      <th>009-sound-system</th>\n",
       "      <td>4</td>\n",
       "    </tr>\n",
       "    <tr>\n",
       "      <th>047</th>\n",
       "      <td>1</td>\n",
       "    </tr>\n",
       "    <tr>\n",
       "      <th>1-800-zombie</th>\n",
       "      <td>2</td>\n",
       "    </tr>\n",
       "    <tr>\n",
       "      <th>10-cc</th>\n",
       "      <td>142</td>\n",
       "    </tr>\n",
       "    <tr>\n",
       "      <th>10-years</th>\n",
       "      <td>74</td>\n",
       "    </tr>\n",
       "  </tbody>\n",
       "</table>\n",
       "</div>"
      ],
      "text/plain": [
       "                  song\n",
       "artist                \n",
       "009-sound-system     4\n",
       "047                  1\n",
       "1-800-zombie         2\n",
       "10-cc              142\n",
       "10-years            74"
      ]
     },
     "execution_count": 35,
     "metadata": {},
     "output_type": "execute_result"
    }
   ],
   "source": [
    "artist = df.groupby(['artist']).count()[['song']]\n",
    "artist.head()"
   ]
  },
  {
   "cell_type": "code",
   "execution_count": 36,
   "metadata": {},
   "outputs": [
    {
     "data": {
      "image/png": "[encoded data removed]",
      "text/plain": [
       "<matplotlib.figure.Figure at 0x206812bcf60>"
      ]
     },
     "metadata": {},
     "output_type": "display_data"
    }
   ],
   "source": [
    "artist.plot(figsize=(20,10))\n",
    "plt.ylabel(\"number of songs\")\n",
    "plt.show()"
   ]
  },
  {
   "cell_type": "code",
   "execution_count": 37,
   "metadata": {},
   "outputs": [
    {
     "data": {
      "image/png": "[encoded data removed]",
      "text/plain": [
       "<matplotlib.figure.Figure at 0x2068154fc88>"
      ]
     },
     "metadata": {},
     "output_type": "display_data"
    }
   ],
   "source": [
    "wine_count = pd.DataFrame(df.groupby(['genre'])['lyrics'].apply(lambda x: x[x.str.contains('wine')].count()))\n",
    "wine_count.rename(columns={\"lyrics\":\"song\"}, inplace=True)\n",
    "wine_count.plot(kind=\"bar\", figsize=(20,10))\n",
    "plt.ylabel(\"number of words 'wine'\")\n",
    "plt.show()"
   ]
  },
  {
   "cell_type": "code",
   "execution_count": 38,
   "metadata": {},
   "outputs": [
    {
     "data": {
      "image/png": "[encoded data removed]",
      "text/plain": [
       "<matplotlib.figure.Figure at 0x206815bd7b8>"
      ]
     },
     "metadata": {},
     "output_type": "display_data"
    }
   ],
   "source": [
    "fuck_count = pd.DataFrame(df.groupby(['genre'])['lyrics'].apply(lambda x: x[x.str.contains('fuck')].count()))\n",
    "fuck_count.rename(columns={\"lyrics\":\"song\"}, inplace=True)\n",
    "fuck_count.plot(kind=\"bar\", figsize=(20,10))\n",
    "plt.ylabel(\"number of words 'fuck'\")\n",
    "plt.show()"
   ]
  },
  {
   "cell_type": "code",
   "execution_count": 39,
   "metadata": {},
   "outputs": [
    {
     "data": {
      "image/png": "[encoded data removed]",
      "text/plain": [
       "<matplotlib.figure.Figure at 0x206824ec978>"
      ]
     },
     "metadata": {},
     "output_type": "display_data"
    }
   ],
   "source": [
    "love_count = pd.DataFrame(df.groupby(['genre'])['lyrics'].apply(lambda x: x[x.str.contains('love')].count()))\n",
    "love_count.rename(columns={\"lyrics\":\"song\"}, inplace=True)\n",
    "love_count.plot(kind=\"bar\", figsize=(20,10))\n",
    "plt.ylabel(\"number of words 'love'\")\n",
    "plt.show()"
   ]
  },
  {
   "cell_type": "code",
   "execution_count": 40,
   "metadata": {},
   "outputs": [
    {
     "data": {
      "text/plain": [
       "<matplotlib.figure.Figure at 0x206815bbeb8>"
      ]
     },
     "metadata": {},
     "output_type": "display_data"
    },
    {
     "data": {
      "image/png": "[encoded data removed]",
      "text/plain": [
       "<matplotlib.figure.Figure at 0x206b421f550>"
      ]
     },
     "metadata": {},
     "output_type": "display_data"
    }
   ],
   "source": [
    "plt.figure(figsize=(20,10))\n",
    "sex_count = pd.DataFrame(df.groupby(['genre'])['lyrics'].apply(lambda x: x[x.str.contains('sex')].count()))\n",
    "sex_count.rename(columns={\"lyrics\":\"song\"}, inplace=True)\n",
    "sex_count.plot(kind=\"bar\", figsize=(20,10))\n",
    "plt.ylabel(\"number of words 'sex'\")\n",
    "plt.show()"
   ]
  },
  {
   "cell_type": "code",
   "execution_count": 41,
   "metadata": {},
   "outputs": [
    {
     "data": {
      "image/png": "[encoded data removed]",
      "text/plain": [
       "<matplotlib.figure.Figure at 0x206825f2390>"
      ]
     },
     "metadata": {},
     "output_type": "display_data"
    }
   ],
   "source": [
    "hate_count = pd.DataFrame(df.groupby(['genre'])['lyrics'].apply(lambda x: x[x.str.contains('hate')].count()))\n",
    "hate_count.rename(columns={\"lyrics\":\"song\"}, inplace=True)\n",
    "hate_count.plot(kind=\"bar\", figsize=(20,10))\n",
    "plt.ylabel(\"number of words 'hate'\")\n",
    "plt.show()"
   ]
  },
  {
   "cell_type": "code",
   "execution_count": 42,
   "metadata": {},
   "outputs": [
    {
     "data": {
      "image/png": "[encoded data removed]",
      "text/plain": [
       "<matplotlib.figure.Figure at 0x20682beb8d0>"
      ]
     },
     "metadata": {},
     "output_type": "display_data"
    }
   ],
   "source": [
    "weed_count = pd.DataFrame(df.groupby(['genre'])['lyrics'].apply(lambda x: x[x.str.contains('weed')].count()))\n",
    "weed_count.rename(columns={\"lyrics\":\"song\"}, inplace=True)\n",
    "weed_count.plot(kind=\"bar\", figsize=(20,10))\n",
    "plt.ylabel(\"number of words 'weed'\")\n",
    "plt.show()"
   ]
  },
  {
   "cell_type": "code",
   "execution_count": 43,
   "metadata": {},
   "outputs": [
    {
     "data": {
      "image/png": "[encoded data removed]",
      "text/plain": [
       "<matplotlib.figure.Figure at 0x2068349cac8>"
      ]
     },
     "metadata": {},
     "output_type": "display_data"
    }
   ],
   "source": [
    "dead_count = pd.DataFrame(df.groupby(['genre'])['lyrics'].apply(lambda x: x[x.str.contains('dead')].count()))\n",
    "dead_count.rename(columns={\"lyrics\":\"song\"}, inplace=True)\n",
    "dead_count.plot(kind=\"bar\", figsize=(20,10))\n",
    "plt.ylabel(\"number of words 'dead'\")\n",
    "plt.show()"
   ]
  },
  {
   "cell_type": "code",
   "execution_count": 44,
   "metadata": {},
   "outputs": [
    {
     "data": {
      "image/png": "[encoded data removed]",
      "text/plain": [
       "<matplotlib.figure.Figure at 0x2068351fe80>"
      ]
     },
     "metadata": {},
     "output_type": "display_data"
    }
   ],
   "source": [
    "happy_count = pd.DataFrame(df.groupby(['genre'])['lyrics'].apply(lambda x: x[x.str.contains('happy')].count()))\n",
    "happy_count.rename(columns={\"lyrics\":\"song\"}, inplace=True)\n",
    "happy_count.plot(kind=\"bar\", figsize=(20,10))\n",
    "plt.ylabel(\"number of words 'happy'\")\n",
    "plt.show()"
   ]
  },
  {
   "cell_type": "code",
   "execution_count": 45,
   "metadata": {},
   "outputs": [
    {
     "data": {
      "image/png": "[encoded data removed]",
      "text/plain": [
       "<matplotlib.figure.Figure at 0x2068359ecf8>"
      ]
     },
     "metadata": {},
     "output_type": "display_data"
    }
   ],
   "source": [
    "sad_count = pd.DataFrame(df.groupby(['genre'])['lyrics'].apply(lambda x: x[x.str.contains('sad')].count()))\n",
    "sad_count.rename(columns={\"lyrics\":\"song\"}, inplace=True)\n",
    "sad_count.plot(kind=\"bar\", figsize=(20,10))\n",
    "plt.ylabel(\"number of words 'sad'\")\n",
    "plt.show()"
   ]
  },
  {
   "cell_type": "code",
   "execution_count": 46,
   "metadata": {},
   "outputs": [
    {
     "data": {
      "image/png": "[encoded data removed]",
      "text/plain": [
       "<matplotlib.figure.Figure at 0x20683624668>"
      ]
     },
     "metadata": {},
     "output_type": "display_data"
    }
   ],
   "source": [
    "busy_count = pd.DataFrame(df.groupby(['genre'])['lyrics'].apply(lambda x: x[x.str.contains('busy')].count()))\n",
    "busy_count.rename(columns={\"lyrics\":\"song\"}, inplace=True)\n",
    "busy_count.plot(kind=\"bar\", figsize=(20,10))\n",
    "plt.ylabel(\"number of words 'busy'\")\n",
    "plt.show()"
   ]
  },
  {
   "cell_type": "code",
   "execution_count": 47,
   "metadata": {},
   "outputs": [
    {
     "data": {
      "image/png": "[encoded data removed]",
      "text/plain": [
       "<matplotlib.figure.Figure at 0x2068364f2e8>"
      ]
     },
     "metadata": {},
     "output_type": "display_data"
    }
   ],
   "source": [
    "beer_count = pd.DataFrame(df.groupby(['genre'])['lyrics'].apply(lambda x: x[x.str.contains('beer')].count()))\n",
    "beer_count.rename(columns={\"lyrics\":\"song\"}, inplace=True)\n",
    "beer_count.plot(kind=\"bar\", figsize=(20,10))\n",
    "plt.ylabel(\"number of words 'beer'\")\n",
    "plt.show()"
   ]
  },
  {
   "cell_type": "code",
   "execution_count": 48,
   "metadata": {
    "scrolled": true
   },
   "outputs": [
    {
     "data": {
      "text/html": [
       "<div>\n",
       "<style>\n",
       "    .dataframe thead tr:only-child th {\n",
       "        text-align: right;\n",
       "    }\n",
       "\n",
       "    .dataframe thead th {\n",
       "        text-align: left;\n",
       "    }\n",
       "\n",
       "    .dataframe tbody tr th {\n",
       "        vertical-align: top;\n",
       "    }\n",
       "</style>\n",
       "<table border=\"1\" class=\"dataframe\">\n",
       "  <thead>\n",
       "    <tr style=\"text-align: right;\">\n",
       "      <th></th>\n",
       "      <th>song_count</th>\n",
       "      <th>fuck_count</th>\n",
       "      <th>love_count</th>\n",
       "      <th>sex_count</th>\n",
       "      <th>hate_count</th>\n",
       "      <th>weed_count</th>\n",
       "      <th>dead_count</th>\n",
       "      <th>happy_count</th>\n",
       "      <th>sad_count</th>\n",
       "      <th>busy_count</th>\n",
       "      <th>beer_count</th>\n",
       "    </tr>\n",
       "    <tr>\n",
       "      <th>genre</th>\n",
       "      <th></th>\n",
       "      <th></th>\n",
       "      <th></th>\n",
       "      <th></th>\n",
       "      <th></th>\n",
       "      <th></th>\n",
       "      <th></th>\n",
       "      <th></th>\n",
       "      <th></th>\n",
       "      <th></th>\n",
       "      <th></th>\n",
       "    </tr>\n",
       "  </thead>\n",
       "  <tbody>\n",
       "    <tr>\n",
       "      <th>Country</th>\n",
       "      <td>14203</td>\n",
       "      <td>41</td>\n",
       "      <td>7534</td>\n",
       "      <td>74</td>\n",
       "      <td>569</td>\n",
       "      <td>73</td>\n",
       "      <td>384</td>\n",
       "      <td>792</td>\n",
       "      <td>789</td>\n",
       "      <td>125</td>\n",
       "      <td>341</td>\n",
       "    </tr>\n",
       "    <tr>\n",
       "      <th>Electronic</th>\n",
       "      <td>6989</td>\n",
       "      <td>309</td>\n",
       "      <td>2460</td>\n",
       "      <td>185</td>\n",
       "      <td>364</td>\n",
       "      <td>43</td>\n",
       "      <td>224</td>\n",
       "      <td>199</td>\n",
       "      <td>223</td>\n",
       "      <td>52</td>\n",
       "      <td>26</td>\n",
       "    </tr>\n",
       "    <tr>\n",
       "      <th>Folk</th>\n",
       "      <td>2016</td>\n",
       "      <td>19</td>\n",
       "      <td>661</td>\n",
       "      <td>7</td>\n",
       "      <td>74</td>\n",
       "      <td>16</td>\n",
       "      <td>113</td>\n",
       "      <td>81</td>\n",
       "      <td>123</td>\n",
       "      <td>10</td>\n",
       "      <td>34</td>\n",
       "    </tr>\n",
       "    <tr>\n",
       "      <th>Hip-Hop</th>\n",
       "      <td>23735</td>\n",
       "      <td>10985</td>\n",
       "      <td>9735</td>\n",
       "      <td>2003</td>\n",
       "      <td>5342</td>\n",
       "      <td>2036</td>\n",
       "      <td>2877</td>\n",
       "      <td>984</td>\n",
       "      <td>883</td>\n",
       "      <td>597</td>\n",
       "      <td>372</td>\n",
       "    </tr>\n",
       "    <tr>\n",
       "      <th>Indie</th>\n",
       "      <td>3027</td>\n",
       "      <td>104</td>\n",
       "      <td>1071</td>\n",
       "      <td>42</td>\n",
       "      <td>127</td>\n",
       "      <td>25</td>\n",
       "      <td>143</td>\n",
       "      <td>97</td>\n",
       "      <td>125</td>\n",
       "      <td>17</td>\n",
       "      <td>21</td>\n",
       "    </tr>\n",
       "    <tr>\n",
       "      <th>Jazz</th>\n",
       "      <td>7674</td>\n",
       "      <td>67</td>\n",
       "      <td>4092</td>\n",
       "      <td>48</td>\n",
       "      <td>284</td>\n",
       "      <td>26</td>\n",
       "      <td>147</td>\n",
       "      <td>534</td>\n",
       "      <td>385</td>\n",
       "      <td>82</td>\n",
       "      <td>44</td>\n",
       "    </tr>\n",
       "    <tr>\n",
       "      <th>Metal</th>\n",
       "      <td>21590</td>\n",
       "      <td>2042</td>\n",
       "      <td>3594</td>\n",
       "      <td>284</td>\n",
       "      <td>2316</td>\n",
       "      <td>101</td>\n",
       "      <td>3031</td>\n",
       "      <td>238</td>\n",
       "      <td>896</td>\n",
       "      <td>49</td>\n",
       "      <td>70</td>\n",
       "    </tr>\n",
       "    <tr>\n",
       "      <th>Pop</th>\n",
       "      <td>39595</td>\n",
       "      <td>874</td>\n",
       "      <td>18338</td>\n",
       "      <td>848</td>\n",
       "      <td>2260</td>\n",
       "      <td>116</td>\n",
       "      <td>864</td>\n",
       "      <td>1607</td>\n",
       "      <td>1726</td>\n",
       "      <td>301</td>\n",
       "      <td>137</td>\n",
       "    </tr>\n",
       "    <tr>\n",
       "      <th>R&amp;B</th>\n",
       "      <td>3348</td>\n",
       "      <td>238</td>\n",
       "      <td>1657</td>\n",
       "      <td>65</td>\n",
       "      <td>214</td>\n",
       "      <td>17</td>\n",
       "      <td>144</td>\n",
       "      <td>140</td>\n",
       "      <td>152</td>\n",
       "      <td>26</td>\n",
       "      <td>13</td>\n",
       "    </tr>\n",
       "    <tr>\n",
       "      <th>Rock</th>\n",
       "      <td>104425</td>\n",
       "      <td>4509</td>\n",
       "      <td>33714</td>\n",
       "      <td>1192</td>\n",
       "      <td>5709</td>\n",
       "      <td>465</td>\n",
       "      <td>5865</td>\n",
       "      <td>3501</td>\n",
       "      <td>4236</td>\n",
       "      <td>609</td>\n",
       "      <td>1018</td>\n",
       "    </tr>\n",
       "  </tbody>\n",
       "</table>\n",
       "</div>"
      ],
      "text/plain": [
       "            song_count  fuck_count  love_count  sex_count  hate_count  \\\n",
       "genre                                                                   \n",
       "Country          14203          41        7534         74         569   \n",
       "Electronic        6989         309        2460        185         364   \n",
       "Folk              2016          19         661          7          74   \n",
       "Hip-Hop          23735       10985        9735       2003        5342   \n",
       "Indie             3027         104        1071         42         127   \n",
       "Jazz              7674          67        4092         48         284   \n",
       "Metal            21590        2042        3594        284        2316   \n",
       "Pop              39595         874       18338        848        2260   \n",
       "R&B               3348         238        1657         65         214   \n",
       "Rock            104425        4509       33714       1192        5709   \n",
       "\n",
       "            weed_count  dead_count  happy_count  sad_count  busy_count  \\\n",
       "genre                                                                    \n",
       "Country             73         384          792        789         125   \n",
       "Electronic          43         224          199        223          52   \n",
       "Folk                16         113           81        123          10   \n",
       "Hip-Hop           2036        2877          984        883         597   \n",
       "Indie               25         143           97        125          17   \n",
       "Jazz                26         147          534        385          82   \n",
       "Metal              101        3031          238        896          49   \n",
       "Pop                116         864         1607       1726         301   \n",
       "R&B                 17         144          140        152          26   \n",
       "Rock               465        5865         3501       4236         609   \n",
       "\n",
       "            beer_count  \n",
       "genre                   \n",
       "Country            341  \n",
       "Electronic          26  \n",
       "Folk                34  \n",
       "Hip-Hop            372  \n",
       "Indie               21  \n",
       "Jazz                44  \n",
       "Metal               70  \n",
       "Pop                137  \n",
       "R&B                 13  \n",
       "Rock              1018  "
      ]
     },
     "execution_count": 48,
     "metadata": {},
     "output_type": "execute_result"
    }
   ],
   "source": [
    "counts = genre.copy()\n",
    "counts.rename(columns={\"song\":\"song_count\"}, inplace=True)\n",
    "counts['fuck_count'] = fuck_count\n",
    "counts['love_count'] = love_count\n",
    "counts['sex_count'] = sex_count\n",
    "counts['hate_count'] = hate_count\n",
    "counts['weed_count'] = weed_count\n",
    "counts['dead_count'] = dead_count\n",
    "counts['happy_count'] = happy_count\n",
    "counts['sad_count'] = sad_count\n",
    "counts['busy_count'] = busy_count\n",
    "counts['beer_count'] = beer_count\n",
    "counts"
   ]
  },
  {
   "cell_type": "code",
   "execution_count": 49,
   "metadata": {},
   "outputs": [
    {
     "data": {
      "text/html": [
       "<div>\n",
       "<style>\n",
       "    .dataframe thead tr:only-child th {\n",
       "        text-align: right;\n",
       "    }\n",
       "\n",
       "    .dataframe thead th {\n",
       "        text-align: left;\n",
       "    }\n",
       "\n",
       "    .dataframe tbody tr th {\n",
       "        vertical-align: top;\n",
       "    }\n",
       "</style>\n",
       "<table border=\"1\" class=\"dataframe\">\n",
       "  <thead>\n",
       "    <tr style=\"text-align: right;\">\n",
       "      <th></th>\n",
       "      <th>wine_ratio</th>\n",
       "      <th>fuck_ratio</th>\n",
       "      <th>love_ratio</th>\n",
       "      <th>sex_ratio</th>\n",
       "      <th>hate_ratio</th>\n",
       "      <th>weed_ratio</th>\n",
       "      <th>dead_ratio</th>\n",
       "      <th>happy_ratio</th>\n",
       "      <th>sad_ratio</th>\n",
       "      <th>busy_ratio</th>\n",
       "      <th>beer_ratio</th>\n",
       "    </tr>\n",
       "    <tr>\n",
       "      <th>genre</th>\n",
       "      <th></th>\n",
       "      <th></th>\n",
       "      <th></th>\n",
       "      <th></th>\n",
       "      <th></th>\n",
       "      <th></th>\n",
       "      <th></th>\n",
       "      <th></th>\n",
       "      <th></th>\n",
       "      <th></th>\n",
       "      <th></th>\n",
       "    </tr>\n",
       "  </thead>\n",
       "  <tbody>\n",
       "    <tr>\n",
       "      <th>Country</th>\n",
       "      <td>0.032106</td>\n",
       "      <td>0.002887</td>\n",
       "      <td>0.530451</td>\n",
       "      <td>0.005210</td>\n",
       "      <td>0.040062</td>\n",
       "      <td>0.005140</td>\n",
       "      <td>0.027037</td>\n",
       "      <td>0.055763</td>\n",
       "      <td>0.055552</td>\n",
       "      <td>0.008801</td>\n",
       "      <td>0.024009</td>\n",
       "    </tr>\n",
       "    <tr>\n",
       "      <th>Electronic</th>\n",
       "      <td>0.012591</td>\n",
       "      <td>0.044212</td>\n",
       "      <td>0.351982</td>\n",
       "      <td>0.026470</td>\n",
       "      <td>0.052082</td>\n",
       "      <td>0.006153</td>\n",
       "      <td>0.032050</td>\n",
       "      <td>0.028473</td>\n",
       "      <td>0.031907</td>\n",
       "      <td>0.007440</td>\n",
       "      <td>0.003720</td>\n",
       "    </tr>\n",
       "    <tr>\n",
       "      <th>Folk</th>\n",
       "      <td>0.027778</td>\n",
       "      <td>0.009425</td>\n",
       "      <td>0.327877</td>\n",
       "      <td>0.003472</td>\n",
       "      <td>0.036706</td>\n",
       "      <td>0.007937</td>\n",
       "      <td>0.056052</td>\n",
       "      <td>0.040179</td>\n",
       "      <td>0.061012</td>\n",
       "      <td>0.004960</td>\n",
       "      <td>0.016865</td>\n",
       "    </tr>\n",
       "    <tr>\n",
       "      <th>Hip-Hop</th>\n",
       "      <td>0.030588</td>\n",
       "      <td>0.462819</td>\n",
       "      <td>0.410154</td>\n",
       "      <td>0.084390</td>\n",
       "      <td>0.225068</td>\n",
       "      <td>0.085780</td>\n",
       "      <td>0.121213</td>\n",
       "      <td>0.041458</td>\n",
       "      <td>0.037202</td>\n",
       "      <td>0.025153</td>\n",
       "      <td>0.015673</td>\n",
       "    </tr>\n",
       "    <tr>\n",
       "      <th>Indie</th>\n",
       "      <td>0.018170</td>\n",
       "      <td>0.034357</td>\n",
       "      <td>0.353816</td>\n",
       "      <td>0.013875</td>\n",
       "      <td>0.041956</td>\n",
       "      <td>0.008259</td>\n",
       "      <td>0.047241</td>\n",
       "      <td>0.032045</td>\n",
       "      <td>0.041295</td>\n",
       "      <td>0.005616</td>\n",
       "      <td>0.006938</td>\n",
       "    </tr>\n",
       "    <tr>\n",
       "      <th>Jazz</th>\n",
       "      <td>0.020980</td>\n",
       "      <td>0.008731</td>\n",
       "      <td>0.533229</td>\n",
       "      <td>0.006255</td>\n",
       "      <td>0.037008</td>\n",
       "      <td>0.003388</td>\n",
       "      <td>0.019156</td>\n",
       "      <td>0.069586</td>\n",
       "      <td>0.050169</td>\n",
       "      <td>0.010685</td>\n",
       "      <td>0.005734</td>\n",
       "    </tr>\n",
       "    <tr>\n",
       "      <th>Metal</th>\n",
       "      <td>0.019407</td>\n",
       "      <td>0.094581</td>\n",
       "      <td>0.166466</td>\n",
       "      <td>0.013154</td>\n",
       "      <td>0.107272</td>\n",
       "      <td>0.004678</td>\n",
       "      <td>0.140389</td>\n",
       "      <td>0.011024</td>\n",
       "      <td>0.041501</td>\n",
       "      <td>0.002270</td>\n",
       "      <td>0.003242</td>\n",
       "    </tr>\n",
       "    <tr>\n",
       "      <th>Pop</th>\n",
       "      <td>0.013461</td>\n",
       "      <td>0.022073</td>\n",
       "      <td>0.463139</td>\n",
       "      <td>0.021417</td>\n",
       "      <td>0.057078</td>\n",
       "      <td>0.002930</td>\n",
       "      <td>0.021821</td>\n",
       "      <td>0.040586</td>\n",
       "      <td>0.043591</td>\n",
       "      <td>0.007602</td>\n",
       "      <td>0.003460</td>\n",
       "    </tr>\n",
       "    <tr>\n",
       "      <th>R&amp;B</th>\n",
       "      <td>0.015532</td>\n",
       "      <td>0.071087</td>\n",
       "      <td>0.494922</td>\n",
       "      <td>0.019415</td>\n",
       "      <td>0.063919</td>\n",
       "      <td>0.005078</td>\n",
       "      <td>0.043011</td>\n",
       "      <td>0.041816</td>\n",
       "      <td>0.045400</td>\n",
       "      <td>0.007766</td>\n",
       "      <td>0.003883</td>\n",
       "    </tr>\n",
       "    <tr>\n",
       "      <th>Rock</th>\n",
       "      <td>0.018549</td>\n",
       "      <td>0.043179</td>\n",
       "      <td>0.322854</td>\n",
       "      <td>0.011415</td>\n",
       "      <td>0.054671</td>\n",
       "      <td>0.004453</td>\n",
       "      <td>0.056165</td>\n",
       "      <td>0.033526</td>\n",
       "      <td>0.040565</td>\n",
       "      <td>0.005832</td>\n",
       "      <td>0.009749</td>\n",
       "    </tr>\n",
       "  </tbody>\n",
       "</table>\n",
       "</div>"
      ],
      "text/plain": [
       "            wine_ratio  fuck_ratio  love_ratio  sex_ratio  hate_ratio  \\\n",
       "genre                                                                   \n",
       "Country       0.032106    0.002887    0.530451   0.005210    0.040062   \n",
       "Electronic    0.012591    0.044212    0.351982   0.026470    0.052082   \n",
       "Folk          0.027778    0.009425    0.327877   0.003472    0.036706   \n",
       "Hip-Hop       0.030588    0.462819    0.410154   0.084390    0.225068   \n",
       "Indie         0.018170    0.034357    0.353816   0.013875    0.041956   \n",
       "Jazz          0.020980    0.008731    0.533229   0.006255    0.037008   \n",
       "Metal         0.019407    0.094581    0.166466   0.013154    0.107272   \n",
       "Pop           0.013461    0.022073    0.463139   0.021417    0.057078   \n",
       "R&B           0.015532    0.071087    0.494922   0.019415    0.063919   \n",
       "Rock          0.018549    0.043179    0.322854   0.011415    0.054671   \n",
       "\n",
       "            weed_ratio  dead_ratio  happy_ratio  sad_ratio  busy_ratio  \\\n",
       "genre                                                                    \n",
       "Country       0.005140    0.027037     0.055763   0.055552    0.008801   \n",
       "Electronic    0.006153    0.032050     0.028473   0.031907    0.007440   \n",
       "Folk          0.007937    0.056052     0.040179   0.061012    0.004960   \n",
       "Hip-Hop       0.085780    0.121213     0.041458   0.037202    0.025153   \n",
       "Indie         0.008259    0.047241     0.032045   0.041295    0.005616   \n",
       "Jazz          0.003388    0.019156     0.069586   0.050169    0.010685   \n",
       "Metal         0.004678    0.140389     0.011024   0.041501    0.002270   \n",
       "Pop           0.002930    0.021821     0.040586   0.043591    0.007602   \n",
       "R&B           0.005078    0.043011     0.041816   0.045400    0.007766   \n",
       "Rock          0.004453    0.056165     0.033526   0.040565    0.005832   \n",
       "\n",
       "            beer_ratio  \n",
       "genre                   \n",
       "Country       0.024009  \n",
       "Electronic    0.003720  \n",
       "Folk          0.016865  \n",
       "Hip-Hop       0.015673  \n",
       "Indie         0.006938  \n",
       "Jazz          0.005734  \n",
       "Metal         0.003242  \n",
       "Pop           0.003460  \n",
       "R&B           0.003883  \n",
       "Rock          0.009749  "
      ]
     },
     "execution_count": 49,
     "metadata": {},
     "output_type": "execute_result"
    }
   ],
   "source": [
    "ratios = pd.DataFrame(wine_count/genre)\n",
    "ratios.rename(columns={\"song\":\"wine_ratio\"}, inplace=True)\n",
    "ratios['fuck_ratio'] = fuck_count/genre\n",
    "ratios['love_ratio'] = love_count/genre\n",
    "ratios['sex_ratio'] = sex_count/genre\n",
    "ratios['hate_ratio'] = hate_count/genre\n",
    "ratios['weed_ratio'] = weed_count/genre\n",
    "ratios['dead_ratio'] = dead_count/genre\n",
    "ratios['happy_ratio'] = happy_count/genre\n",
    "ratios['sad_ratio'] = sad_count/genre\n",
    "ratios['busy_ratio'] = busy_count/genre\n",
    "ratios['beer_ratio'] = beer_count/genre\n",
    "ratios"
   ]
  },
  {
   "cell_type": "code",
   "execution_count": 51,
   "metadata": {},
   "outputs": [
    {
     "name": "stdout",
     "output_type": "stream",
     "text": [
      "              Frequency\n",
      "Word                   \n",
      "the             1990099\n",
      "i               1632246\n",
      "you             1538061\n",
      "to              1132930\n",
      "and             1118241\n",
      "a               1010786\n",
      "me               701285\n",
      "my               685989\n",
      "in               653047\n",
      "it               567813\n",
      "of               548524\n",
      "your             475443\n",
      "that             447697\n",
      "on               424812\n",
      "i'm              415605\n",
      "is               366968\n",
      "all              362876\n",
      "for              349213\n",
      "be               334111\n",
      "we               329689\n",
      "so               298335\n",
      "don't            289794\n",
      "with             284072\n",
      "but              280996\n",
      "like             275781\n",
      "no               258201\n",
      "know             254789\n",
      "this             253459\n",
      "it's             251275\n",
      "just             249571\n",
      "...                 ...\n",
      "1)]                   1\n",
      "grim)                 1\n",
      "redeemed)             1\n",
      "unnegotiable          1\n",
      ".kingdom,             1\n",
      "\"dr                   1\n",
      "dee\"                  1\n",
      "albarn.               1\n",
      "...said               1\n",
      "disapproves           1\n",
      ".wonder               1\n",
      "the.to                1\n",
      "the.reaching          1\n",
      "this.me               1\n",
      "tembo's               1\n",
      "mkombozi              1\n",
      "tembo,                1\n",
      "ears?!                1\n",
      "manner!               1\n",
      "haybells              1\n",
      "moko                  1\n",
      "jumbie,               1\n",
      "westbourne            1\n",
      "glamour's             1\n",
      "ponds)                1\n",
      "thorton,              1\n",
      "cow-town,             1\n",
      "wide-neck             1\n",
      "gretchen,             1\n",
      "powder-puff           1\n",
      "\n",
      "[738815 rows x 1 columns]\n"
     ]
    }
   ],
   "source": [
    "from collections import Counter\n",
    "\n",
    "# Define pandas df \n",
    "# Target, Lowercase all, sepertate by space, split all of them into individual\n",
    "words = (df['lyrics']\n",
    "         .str.lower()\n",
    "         .str.cat(sep=' ')\n",
    "         .split())\n",
    "\n",
    "# generate DF out of Counter -> counter counts most common values \n",
    "# create column word, frequency, set the rows as word\n",
    "rslt = pd.DataFrame(Counter(words).most_common(),\n",
    "                    columns=['Word', 'Frequency']).set_index('Word')\n",
    "\n",
    "\n",
    "#rslt.to_csv(\"stopwords.csv\")\n",
    "# Print the result\n",
    "print(rslt)\n"
   ]
  },
  {
   "cell_type": "code",
   "execution_count": null,
   "metadata": {
    "collapsed": true
   },
   "outputs": [],
   "source": []
  }
 ],
 "metadata": {
  "colab": {
   "default_view": {},
   "name": "COGS 118B Final Project.ipynb",
   "provenance": [],
   "version": "0.3.2",
   "views": {}
  },
  "kernelspec": {
   "display_name": "Python 3",
   "language": "python",
   "name": "python3"
  },
  "language_info": {
   "codemirror_mode": {
    "name": "ipython",
    "version": 3
   },
   "file_extension": ".py",
   "mimetype": "text/x-python",
   "name": "python",
   "nbconvert_exporter": "python",
   "pygments_lexer": "ipython3",
   "version": "3.6.3"
  }
 },
 "nbformat": 4,
 "nbformat_minor": 1
}
