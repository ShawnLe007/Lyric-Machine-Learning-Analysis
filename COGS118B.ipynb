{
 "cells": [
  {
   "cell_type": "markdown",
   "metadata": {},
   "source": [
    "# Import Main Libraries"
   ]
  },
  {
   "cell_type": "code",
   "execution_count": 1,
   "metadata": {
    "colab": {
     "autoexec": {
      "startup": false,
      "wait_interval": 0
     },
     "base_uri": "https://localhost:8080/",
     "height": 52,
     "output_extras": [
      {
       "item_id": 1
      },
      {
       "item_id": 2
      }
     ]
    },
    "colab_type": "code",
    "collapsed": true,
    "executionInfo": {
     "elapsed": 1838120,
     "status": "ok",
     "timestamp": 1512351312774,
     "user": {
      "displayName": "Shawn Le",
      "photoUrl": "https://lh3.googleusercontent.com/a/default-user=s128",
      "userId": "108080468386679540347"
     },
     "user_tz": 480
    },
    "id": "yJJV42Q88Cwe",
    "outputId": "09afec8a-324e-44b9-e27c-fa02f4b3e273"
   },
   "outputs": [],
   "source": [
    "import pandas as pd\n",
    "import seaborn as sns\n",
    "import matplotlib.pyplot as plt"
   ]
  },
  {
   "cell_type": "markdown",
   "metadata": {},
   "source": [
    "# Import Data"
   ]
  },
  {
   "cell_type": "code",
   "execution_count": 2,
   "metadata": {
    "colab": {
     "autoexec": {
      "startup": false,
      "wait_interval": 0
     },
     "base_uri": "https://localhost:8080/",
     "height": 851,
     "output_extras": [
      {
       "item_id": 1
      }
     ]
    },
    "colab_type": "code",
    "collapsed": true,
    "executionInfo": {
     "elapsed": 479,
     "status": "error",
     "timestamp": 1512349064535,
     "user": {
      "displayName": "Shawn Le",
      "photoUrl": "https://lh3.googleusercontent.com/a/default-user=s128",
      "userId": "108080468386679540347"
     },
     "user_tz": 480
    },
    "id": "TcS3BUKk8Cwj",
    "outputId": "93ddd2b1-adba-4fe5-9dfc-8f42640cb12a"
   },
   "outputs": [],
   "source": [
    "# store csv into panda\n",
    "df = pd.read_csv(\"lyrics.csv\")"
   ]
  },
  {
   "cell_type": "code",
   "execution_count": 3,
   "metadata": {
    "collapsed": false
   },
   "outputs": [
    {
     "name": "stdout",
     "output_type": "stream",
     "text": [
      "<class 'pandas.core.frame.DataFrame'>\n",
      "RangeIndex: 362237 entries, 0 to 362236\n",
      "Data columns (total 6 columns):\n",
      "index     362237 non-null int64\n",
      "song      362235 non-null object\n",
      "year      362237 non-null int64\n",
      "artist    362237 non-null object\n",
      "genre     362237 non-null object\n",
      "lyrics    266557 non-null object\n",
      "dtypes: int64(2), object(4)\n",
      "memory usage: 16.6+ MB\n",
      "\n",
      "# of rows: 362237\n",
      "# of columns: 6\n"
     ]
    },
    {
     "data": {
      "text/html": [
       "<div>\n",
       "<table border=\"1\" class=\"dataframe\">\n",
       "  <thead>\n",
       "    <tr style=\"text-align: right;\">\n",
       "      <th></th>\n",
       "      <th>index</th>\n",
       "      <th>song</th>\n",
       "      <th>year</th>\n",
       "      <th>artist</th>\n",
       "      <th>genre</th>\n",
       "      <th>lyrics</th>\n",
       "    </tr>\n",
       "  </thead>\n",
       "  <tbody>\n",
       "    <tr>\n",
       "      <th>0</th>\n",
       "      <td>0</td>\n",
       "      <td>ego-remix</td>\n",
       "      <td>2009</td>\n",
       "      <td>beyonce-knowles</td>\n",
       "      <td>Pop</td>\n",
       "      <td>Oh baby, how you doing?\\nYou know I'm gonna cu...</td>\n",
       "    </tr>\n",
       "    <tr>\n",
       "      <th>1</th>\n",
       "      <td>1</td>\n",
       "      <td>then-tell-me</td>\n",
       "      <td>2009</td>\n",
       "      <td>beyonce-knowles</td>\n",
       "      <td>Pop</td>\n",
       "      <td>playin' everything so easy,\\nit's like you see...</td>\n",
       "    </tr>\n",
       "    <tr>\n",
       "      <th>2</th>\n",
       "      <td>2</td>\n",
       "      <td>honesty</td>\n",
       "      <td>2009</td>\n",
       "      <td>beyonce-knowles</td>\n",
       "      <td>Pop</td>\n",
       "      <td>If you search\\nFor tenderness\\nIt isn't hard t...</td>\n",
       "    </tr>\n",
       "    <tr>\n",
       "      <th>3</th>\n",
       "      <td>3</td>\n",
       "      <td>you-are-my-rock</td>\n",
       "      <td>2009</td>\n",
       "      <td>beyonce-knowles</td>\n",
       "      <td>Pop</td>\n",
       "      <td>Oh oh oh I, oh oh oh I\\n[Verse 1:]\\nIf I wrote...</td>\n",
       "    </tr>\n",
       "    <tr>\n",
       "      <th>4</th>\n",
       "      <td>4</td>\n",
       "      <td>black-culture</td>\n",
       "      <td>2009</td>\n",
       "      <td>beyonce-knowles</td>\n",
       "      <td>Pop</td>\n",
       "      <td>Party the people, the people the party it's po...</td>\n",
       "    </tr>\n",
       "  </tbody>\n",
       "</table>\n",
       "</div>"
      ],
      "text/plain": [
       "   index             song  year           artist genre  \\\n",
       "0      0        ego-remix  2009  beyonce-knowles   Pop   \n",
       "1      1     then-tell-me  2009  beyonce-knowles   Pop   \n",
       "2      2          honesty  2009  beyonce-knowles   Pop   \n",
       "3      3  you-are-my-rock  2009  beyonce-knowles   Pop   \n",
       "4      4    black-culture  2009  beyonce-knowles   Pop   \n",
       "\n",
       "                                              lyrics  \n",
       "0  Oh baby, how you doing?\\nYou know I'm gonna cu...  \n",
       "1  playin' everything so easy,\\nit's like you see...  \n",
       "2  If you search\\nFor tenderness\\nIt isn't hard t...  \n",
       "3  Oh oh oh I, oh oh oh I\\n[Verse 1:]\\nIf I wrote...  \n",
       "4  Party the people, the people the party it's po...  "
      ]
     },
     "execution_count": 3,
     "metadata": {},
     "output_type": "execute_result"
    }
   ],
   "source": [
    "# display panda info\n",
    "df.info()\n",
    "# check shape of panda\n",
    "print(\"\\n# of rows: {}\".format(df.shape[0]))\n",
    "print(\"# of columns: {}\".format(df.shape[1]))\n",
    "# check how data is organized\n",
    "df.head()"
   ]
  },
  {
   "cell_type": "markdown",
   "metadata": {},
   "source": [
    "# Clean Data\n",
    "### Clean Data in General\n",
    "There are missing data in the lyrics section with only 266557 non-null object compared to 362237 non-null objects for others.\n",
    "We delete the index column as the order of the songs are not important."
   ]
  },
  {
   "cell_type": "code",
   "execution_count": 4,
   "metadata": {
    "collapsed": true
   },
   "outputs": [],
   "source": [
    "# drop any row with missing data\n",
    "df = df.dropna()\n",
    "# drop column 'index'\n",
    "df = df.drop('index',1)"
   ]
  },
  {
   "cell_type": "code",
   "execution_count": 5,
   "metadata": {
    "collapsed": false
   },
   "outputs": [
    {
     "name": "stdout",
     "output_type": "stream",
     "text": [
      "<class 'pandas.core.frame.DataFrame'>\n",
      "Int64Index: 266556 entries, 0 to 362236\n",
      "Data columns (total 5 columns):\n",
      "song      266556 non-null object\n",
      "year      266556 non-null int64\n",
      "artist    266556 non-null object\n",
      "genre     266556 non-null object\n",
      "lyrics    266556 non-null object\n",
      "dtypes: int64(1), object(4)\n",
      "memory usage: 12.2+ MB\n",
      "\n",
      "# of rows: 266556\n",
      "# of columns: 5\n"
     ]
    },
    {
     "data": {
      "text/html": [
       "<div>\n",
       "<table border=\"1\" class=\"dataframe\">\n",
       "  <thead>\n",
       "    <tr style=\"text-align: right;\">\n",
       "      <th></th>\n",
       "      <th>song</th>\n",
       "      <th>year</th>\n",
       "      <th>artist</th>\n",
       "      <th>genre</th>\n",
       "      <th>lyrics</th>\n",
       "    </tr>\n",
       "  </thead>\n",
       "  <tbody>\n",
       "    <tr>\n",
       "      <th>0</th>\n",
       "      <td>ego-remix</td>\n",
       "      <td>2009</td>\n",
       "      <td>beyonce-knowles</td>\n",
       "      <td>Pop</td>\n",
       "      <td>Oh baby, how you doing?\\nYou know I'm gonna cu...</td>\n",
       "    </tr>\n",
       "    <tr>\n",
       "      <th>1</th>\n",
       "      <td>then-tell-me</td>\n",
       "      <td>2009</td>\n",
       "      <td>beyonce-knowles</td>\n",
       "      <td>Pop</td>\n",
       "      <td>playin' everything so easy,\\nit's like you see...</td>\n",
       "    </tr>\n",
       "    <tr>\n",
       "      <th>2</th>\n",
       "      <td>honesty</td>\n",
       "      <td>2009</td>\n",
       "      <td>beyonce-knowles</td>\n",
       "      <td>Pop</td>\n",
       "      <td>If you search\\nFor tenderness\\nIt isn't hard t...</td>\n",
       "    </tr>\n",
       "    <tr>\n",
       "      <th>3</th>\n",
       "      <td>you-are-my-rock</td>\n",
       "      <td>2009</td>\n",
       "      <td>beyonce-knowles</td>\n",
       "      <td>Pop</td>\n",
       "      <td>Oh oh oh I, oh oh oh I\\n[Verse 1:]\\nIf I wrote...</td>\n",
       "    </tr>\n",
       "    <tr>\n",
       "      <th>4</th>\n",
       "      <td>black-culture</td>\n",
       "      <td>2009</td>\n",
       "      <td>beyonce-knowles</td>\n",
       "      <td>Pop</td>\n",
       "      <td>Party the people, the people the party it's po...</td>\n",
       "    </tr>\n",
       "  </tbody>\n",
       "</table>\n",
       "</div>"
      ],
      "text/plain": [
       "              song  year           artist genre  \\\n",
       "0        ego-remix  2009  beyonce-knowles   Pop   \n",
       "1     then-tell-me  2009  beyonce-knowles   Pop   \n",
       "2          honesty  2009  beyonce-knowles   Pop   \n",
       "3  you-are-my-rock  2009  beyonce-knowles   Pop   \n",
       "4    black-culture  2009  beyonce-knowles   Pop   \n",
       "\n",
       "                                              lyrics  \n",
       "0  Oh baby, how you doing?\\nYou know I'm gonna cu...  \n",
       "1  playin' everything so easy,\\nit's like you see...  \n",
       "2  If you search\\nFor tenderness\\nIt isn't hard t...  \n",
       "3  Oh oh oh I, oh oh oh I\\n[Verse 1:]\\nIf I wrote...  \n",
       "4  Party the people, the people the party it's po...  "
      ]
     },
     "execution_count": 5,
     "metadata": {},
     "output_type": "execute_result"
    }
   ],
   "source": [
    "# display panda info\n",
    "df.info()\n",
    "# check shape of data frame\n",
    "print(\"\\n# of rows: {}\".format(df.shape[0]))\n",
    "print(\"# of columns: {}\".format(df.shape[1]))\n",
    "# check how data is organized\n",
    "df.head()"
   ]
  },
  {
   "cell_type": "markdown",
   "metadata": {},
   "source": [
    "### Clean data by column 'songs'"
   ]
  },
  {
   "cell_type": "code",
   "execution_count": 6,
   "metadata": {
    "collapsed": false
   },
   "outputs": [
    {
     "name": "stdout",
     "output_type": "stream",
     "text": [
      "# of unique songs: 187186\n",
      "\n",
      "['0-0' '0-0-0' '0-0-where-evil-dwells' ..., 'zzz-top' 'zzzonked' 'zzzzz']\n"
     ]
    }
   ],
   "source": [
    "# check the types of unique songs\n",
    "songs = df['song'].unique()\n",
    "# sort in descending order\n",
    "songs.sort()\n",
    "# display how many types of unique songs\n",
    "print(\"# of unique songs: {}\\n\".format(len(songs)))\n",
    "# print sorted array of unique songs\n",
    "print(songs)"
   ]
  },
  {
   "cell_type": "markdown",
   "metadata": {},
   "source": [
    "### Clean data by column 'years'"
   ]
  },
  {
   "cell_type": "code",
   "execution_count": 7,
   "metadata": {
    "collapsed": false
   },
   "outputs": [
    {
     "name": "stdout",
     "output_type": "stream",
     "text": [
      "# of unique years: 51\n",
      "\n",
      "[  67  112  702 1968 1970 1971 1972 1973 1974 1975 1976 1977 1978 1979 1980\n",
      " 1981 1982 1983 1984 1985 1986 1987 1988 1989 1990 1991 1992 1993 1994 1995\n",
      " 1996 1997 1998 1999 2000 2001 2002 2003 2004 2005 2006 2007 2008 2009 2010\n",
      " 2011 2012 2013 2014 2015 2016]\n"
     ]
    }
   ],
   "source": [
    "# check the types of unique years\n",
    "years = df['year'].unique()\n",
    "# sort in descending order\n",
    "years.sort()\n",
    "# display how many types of unique years\n",
    "print(\"# of unique years: {}\\n\".format(len(years)))\n",
    "# print sorted array of unique years\n",
    "print(years)"
   ]
  },
  {
   "cell_type": "markdown",
   "metadata": {},
   "source": [
    "As we can see from above, there are year 67, 112, 702.\n",
    "We delete these years as they are not after 1900s."
   ]
  },
  {
   "cell_type": "code",
   "execution_count": 8,
   "metadata": {
    "collapsed": false
   },
   "outputs": [
    {
     "name": "stdout",
     "output_type": "stream",
     "text": [
      "# of unique years: 48\n",
      "\n",
      "[1968 1970 1971 1972 1973 1974 1975 1976 1977 1978 1979 1980 1981 1982 1983\n",
      " 1984 1985 1986 1987 1988 1989 1990 1991 1992 1993 1994 1995 1996 1997 1998\n",
      " 1999 2000 2001 2002 2003 2004 2005 2006 2007 2008 2009 2010 2011 2012 2013\n",
      " 2014 2015 2016]\n"
     ]
    }
   ],
   "source": [
    "# delete years < 1900s\n",
    "df = df[(df['year'] > 1900)]\n",
    "# check the types of unique years left\n",
    "years = df['year'].unique()\n",
    "# sort in descending order\n",
    "years.sort()\n",
    "# display how many types of unique years\n",
    "print(\"# of unique years: {}\\n\".format(len(years)))\n",
    "# print sorted array of unique years\n",
    "print(years)"
   ]
  },
  {
   "cell_type": "markdown",
   "metadata": {},
   "source": [
    "### Clean data by column 'artist'"
   ]
  },
  {
   "cell_type": "code",
   "execution_count": 9,
   "metadata": {
    "collapsed": false
   },
   "outputs": [
    {
     "name": "stdout",
     "output_type": "stream",
     "text": [
      "# of unique artists: 14543\n",
      "\n",
      "['009-sound-system' '047' '0510' ..., 'the-graveyard-boulevard'\n",
      " 'the-great-flood-catastrophe' 'ykforward-russia']\n"
     ]
    }
   ],
   "source": [
    "# check the types of unique artists\n",
    "artists = df['artist'].unique()\n",
    "# sort in descending order\n",
    "artists.sort()\n",
    "# display how many types of unique artists\n",
    "print(\"# of unique artists: {}\\n\".format(len(artists)))\n",
    "# print sorted array of unique artists\n",
    "print(artists)"
   ]
  },
  {
   "cell_type": "markdown",
   "metadata": {},
   "source": [
    "### Clean data by column 'genre'"
   ]
  },
  {
   "cell_type": "code",
   "execution_count": 10,
   "metadata": {
    "collapsed": false
   },
   "outputs": [
    {
     "name": "stdout",
     "output_type": "stream",
     "text": [
      "# of unique genre: 12\n",
      "\n",
      "['Country' 'Electronic' 'Folk' 'Hip-Hop' 'Indie' 'Jazz' 'Metal'\n",
      " 'Not Available' 'Other' 'Pop' 'R&B' 'Rock']\n"
     ]
    }
   ],
   "source": [
    "# check the types of unique genre\n",
    "genres = df['genre'].unique()\n",
    "# sort in descending order\n",
    "genres.sort()\n",
    "# display how many types of unique genres\n",
    "print(\"# of unique genre: {}\\n\".format(len(genres)))\n",
    "# print sorted array of unique genres\n",
    "print(genres)"
   ]
  },
  {
   "cell_type": "markdown",
   "metadata": {},
   "source": [
    "As we can see above, we have genre 'Not Available' and 'Other'.\n",
    "To simplify, we delete them out of the data set."
   ]
  },
  {
   "cell_type": "code",
   "execution_count": 11,
   "metadata": {
    "colab": {
     "autoexec": {
      "startup": false,
      "wait_interval": 0
     },
     "output_extras": [
      {}
     ]
    },
    "colab_type": "code",
    "collapsed": false,
    "id": "YZs4-kW68Cwq",
    "outputId": "c69b4e14-0a6a-40c7-b992-fc04a8301e99"
   },
   "outputs": [
    {
     "name": "stdout",
     "output_type": "stream",
     "text": [
      "# of unique genres: 10\n",
      "\n",
      "['Country' 'Electronic' 'Folk' 'Hip-Hop' 'Indie' 'Jazz' 'Metal' 'Pop' 'R&B'\n",
      " 'Rock']\n"
     ]
    }
   ],
   "source": [
    "# delete genres 'Not Available' and 'Other'\n",
    "df = df[(df['genre'] != 'Not Available') & (df['genre'] != 'Other')]\n",
    "# check how many types of unique genres left\n",
    "genres = df['genre'].unique()\n",
    "# sort in descending order\n",
    "genres.sort()\n",
    "# display how many types of unique genres\n",
    "print(\"# of unique genres: {}\\n\".format(len(genres)))\n",
    "# print sorted array of unique genres\n",
    "print(genres)"
   ]
  },
  {
   "cell_type": "markdown",
   "metadata": {},
   "source": [
    "### Clean data by column 'lyrics'"
   ]
  },
  {
   "cell_type": "code",
   "execution_count": 12,
   "metadata": {
    "collapsed": false
   },
   "outputs": [
    {
     "data": {
      "text/plain": [
       "0    Oh baby, how you doing?\\nYou know I'm gonna cu...\n",
       "1    playin' everything so easy,\\nit's like you see...\n",
       "2    If you search\\nFor tenderness\\nIt isn't hard t...\n",
       "3    Oh oh oh I, oh oh oh I\\n[Verse 1:]\\nIf I wrote...\n",
       "4    Party the people, the people the party it's po...\n",
       "Name: lyrics, dtype: object"
      ]
     },
     "execution_count": 12,
     "metadata": {},
     "output_type": "execute_result"
    }
   ],
   "source": [
    "# check lyrics data\n",
    "df['lyrics'].head()"
   ]
  },
  {
   "cell_type": "code",
   "execution_count": 13,
   "metadata": {
    "collapsed": true
   },
   "outputs": [],
   "source": [
    "# Replace all \\n with space\n",
    "df = df.replace({'\\n':' '}, regex=True)"
   ]
  },
  {
   "cell_type": "code",
   "execution_count": 14,
   "metadata": {
    "collapsed": false
   },
   "outputs": [
    {
     "data": {
      "text/plain": [
       "0    Oh baby, how you doing? You know I'm gonna cut...\n",
       "1    playin' everything so easy, it's like you seem...\n",
       "2    If you search For tenderness It isn't hard to ...\n",
       "3    Oh oh oh I, oh oh oh I [Verse 1:] If I wrote a...\n",
       "4    Party the people, the people the party it's po...\n",
       "Name: lyrics, dtype: object"
      ]
     },
     "execution_count": 14,
     "metadata": {},
     "output_type": "execute_result"
    }
   ],
   "source": [
    "# check how data changed\n",
    "df['lyrics'].head()"
   ]
  },
  {
   "cell_type": "code",
   "execution_count": 15,
   "metadata": {
    "collapsed": false
   },
   "outputs": [
    {
     "data": {
      "text/html": [
       "<div>\n",
       "<table border=\"1\" class=\"dataframe\">\n",
       "  <thead>\n",
       "    <tr style=\"text-align: right;\">\n",
       "      <th></th>\n",
       "      <th>song</th>\n",
       "      <th>year</th>\n",
       "      <th>artist</th>\n",
       "      <th>genre</th>\n",
       "      <th>lyrics</th>\n",
       "      <th>word_count</th>\n",
       "    </tr>\n",
       "  </thead>\n",
       "  <tbody>\n",
       "    <tr>\n",
       "      <th>0</th>\n",
       "      <td>ego-remix</td>\n",
       "      <td>2009</td>\n",
       "      <td>beyonce-knowles</td>\n",
       "      <td>Pop</td>\n",
       "      <td>Oh baby, how you doing? You know I'm gonna cut...</td>\n",
       "      <td>433</td>\n",
       "    </tr>\n",
       "    <tr>\n",
       "      <th>1</th>\n",
       "      <td>then-tell-me</td>\n",
       "      <td>2009</td>\n",
       "      <td>beyonce-knowles</td>\n",
       "      <td>Pop</td>\n",
       "      <td>playin' everything so easy, it's like you seem...</td>\n",
       "      <td>258</td>\n",
       "    </tr>\n",
       "    <tr>\n",
       "      <th>2</th>\n",
       "      <td>honesty</td>\n",
       "      <td>2009</td>\n",
       "      <td>beyonce-knowles</td>\n",
       "      <td>Pop</td>\n",
       "      <td>If you search For tenderness It isn't hard to ...</td>\n",
       "      <td>170</td>\n",
       "    </tr>\n",
       "    <tr>\n",
       "      <th>3</th>\n",
       "      <td>you-are-my-rock</td>\n",
       "      <td>2009</td>\n",
       "      <td>beyonce-knowles</td>\n",
       "      <td>Pop</td>\n",
       "      <td>Oh oh oh I, oh oh oh I [Verse 1:] If I wrote a...</td>\n",
       "      <td>522</td>\n",
       "    </tr>\n",
       "    <tr>\n",
       "      <th>4</th>\n",
       "      <td>black-culture</td>\n",
       "      <td>2009</td>\n",
       "      <td>beyonce-knowles</td>\n",
       "      <td>Pop</td>\n",
       "      <td>Party the people, the people the party it's po...</td>\n",
       "      <td>312</td>\n",
       "    </tr>\n",
       "  </tbody>\n",
       "</table>\n",
       "</div>"
      ],
      "text/plain": [
       "              song  year           artist genre  \\\n",
       "0        ego-remix  2009  beyonce-knowles   Pop   \n",
       "1     then-tell-me  2009  beyonce-knowles   Pop   \n",
       "2          honesty  2009  beyonce-knowles   Pop   \n",
       "3  you-are-my-rock  2009  beyonce-knowles   Pop   \n",
       "4    black-culture  2009  beyonce-knowles   Pop   \n",
       "\n",
       "                                              lyrics  word_count  \n",
       "0  Oh baby, how you doing? You know I'm gonna cut...         433  \n",
       "1  playin' everything so easy, it's like you seem...         258  \n",
       "2  If you search For tenderness It isn't hard to ...         170  \n",
       "3  Oh oh oh I, oh oh oh I [Verse 1:] If I wrote a...         522  \n",
       "4  Party the people, the people the party it's po...         312  "
      ]
     },
     "execution_count": 15,
     "metadata": {},
     "output_type": "execute_result"
    }
   ],
   "source": [
    "# count the words in each song\n",
    "df['word_count'] = df['lyrics'].str.split().str.len()\n",
    "df.head()"
   ]
  },
  {
   "cell_type": "code",
   "execution_count": 16,
   "metadata": {
    "collapsed": false
   },
   "outputs": [
    {
     "data": {
      "text/plain": [
       "genre            \n",
       "Country     count     14387.000000\n",
       "            mean        186.086397\n",
       "            std          82.999049\n",
       "            min           1.000000\n",
       "            25%         128.000000\n",
       "            50%         171.000000\n",
       "            75%         231.000000\n",
       "            max        1366.000000\n",
       "Electronic  count      7966.000000\n",
       "            mean        193.376475\n",
       "            std         138.816594\n",
       "            min           1.000000\n",
       "            25%         100.000000\n",
       "            50%         170.000000\n",
       "            75%         260.000000\n",
       "            max        1920.000000\n",
       "Folk        count      2243.000000\n",
       "            mean        181.037004\n",
       "            std         120.616688\n",
       "            min           1.000000\n",
       "            25%         111.000000\n",
       "            50%         168.000000\n",
       "            75%         238.000000\n",
       "            max        2393.000000\n",
       "Hip-Hop     count     24845.000000\n",
       "            mean        489.983256\n",
       "            std         238.632524\n",
       "            min           1.000000\n",
       "            25%         340.000000\n",
       "            50%         485.000000\n",
       "                         ...      \n",
       "Metal       std         112.809568\n",
       "            min           1.000000\n",
       "            25%         100.000000\n",
       "            50%         152.000000\n",
       "            75%         217.000000\n",
       "            max        2423.000000\n",
       "Pop         count     40465.000000\n",
       "            mean        245.741629\n",
       "            std         128.699888\n",
       "            min           1.000000\n",
       "            25%         157.000000\n",
       "            50%         224.000000\n",
       "            75%         311.000000\n",
       "            max        1704.000000\n",
       "R&B         count      3401.000000\n",
       "            mean        224.931785\n",
       "            std         120.049328\n",
       "            min           1.000000\n",
       "            25%         142.000000\n",
       "            50%         204.000000\n",
       "            75%         281.000000\n",
       "            max        1440.000000\n",
       "Rock        count    109235.000000\n",
       "            mean        190.704701\n",
       "            std         105.878550\n",
       "            min           1.000000\n",
       "            25%         125.000000\n",
       "            50%         177.000000\n",
       "            75%         241.000000\n",
       "            max        6232.000000\n",
       "Name: word_count, dtype: float64"
      ]
     },
     "execution_count": 16,
     "metadata": {},
     "output_type": "execute_result"
    }
   ],
   "source": [
    "# check some statistic based on word counts grouped by genre\n",
    "df['word_count'].groupby(df['genre']).describe()"
   ]
  },
  {
   "cell_type": "markdown",
   "metadata": {},
   "source": [
    "It's odd that there are songs with 1 word from the min section of every genre.\n",
    "Let's check what they are."
   ]
  },
  {
   "cell_type": "code",
   "execution_count": 17,
   "metadata": {
    "collapsed": false
   },
   "outputs": [
    {
     "name": "stdout",
     "output_type": "stream",
     "text": [
      "# of songs with 1 word: 3212\n"
     ]
    },
    {
     "data": {
      "text/html": [
       "<div>\n",
       "<table border=\"1\" class=\"dataframe\">\n",
       "  <thead>\n",
       "    <tr style=\"text-align: right;\">\n",
       "      <th></th>\n",
       "      <th>song</th>\n",
       "      <th>year</th>\n",
       "      <th>artist</th>\n",
       "      <th>genre</th>\n",
       "      <th>lyrics</th>\n",
       "      <th>word_count</th>\n",
       "    </tr>\n",
       "  </thead>\n",
       "  <tbody>\n",
       "    <tr>\n",
       "      <th>420</th>\n",
       "      <td>dying-sun</td>\n",
       "      <td>2011</td>\n",
       "      <td>demonaz</td>\n",
       "      <td>Metal</td>\n",
       "      <td>[Instrumental]</td>\n",
       "      <td>1</td>\n",
       "    </tr>\n",
       "    <tr>\n",
       "      <th>1410</th>\n",
       "      <td>curtain-call</td>\n",
       "      <td>2011</td>\n",
       "      <td>brandi-carlile</td>\n",
       "      <td>Country</td>\n",
       "      <td>INSTRUMENTAL</td>\n",
       "      <td>1</td>\n",
       "    </tr>\n",
       "    <tr>\n",
       "      <th>1710</th>\n",
       "      <td>mary-mheaigi-s-frank-mors-the-trip-to-lerwick</td>\n",
       "      <td>2007</td>\n",
       "      <td>andy-m-stewart</td>\n",
       "      <td>Folk</td>\n",
       "      <td>Instrumental</td>\n",
       "      <td>1</td>\n",
       "    </tr>\n",
       "    <tr>\n",
       "      <th>1733</th>\n",
       "      <td>treorachadh</td>\n",
       "      <td>2007</td>\n",
       "      <td>andy-m-stewart</td>\n",
       "      <td>Folk</td>\n",
       "      <td>Instrumental</td>\n",
       "      <td>1</td>\n",
       "    </tr>\n",
       "    <tr>\n",
       "      <th>1841</th>\n",
       "      <td>providence</td>\n",
       "      <td>2007</td>\n",
       "      <td>dreadful-shadows</td>\n",
       "      <td>Rock</td>\n",
       "      <td>[Instrumental]</td>\n",
       "      <td>1</td>\n",
       "    </tr>\n",
       "  </tbody>\n",
       "</table>\n",
       "</div>"
      ],
      "text/plain": [
       "                                               song  year            artist  \\\n",
       "420                                       dying-sun  2011           demonaz   \n",
       "1410                                   curtain-call  2011    brandi-carlile   \n",
       "1710  mary-mheaigi-s-frank-mors-the-trip-to-lerwick  2007    andy-m-stewart   \n",
       "1733                                    treorachadh  2007    andy-m-stewart   \n",
       "1841                                     providence  2007  dreadful-shadows   \n",
       "\n",
       "        genre          lyrics  word_count  \n",
       "420     Metal  [Instrumental]           1  \n",
       "1410  Country    INSTRUMENTAL           1  \n",
       "1710     Folk    Instrumental           1  \n",
       "1733     Folk    Instrumental           1  \n",
       "1841     Rock  [Instrumental]           1  "
      ]
     },
     "execution_count": 17,
     "metadata": {},
     "output_type": "execute_result"
    }
   ],
   "source": [
    "# display the top songs with 1 word\n",
    "print(\"# of songs with 1 word: {}\".format(len(df.loc[df['word_count'] == 1])))\n",
    "df.loc[df['word_count'] == 1].head()"
   ]
  },
  {
   "cell_type": "markdown",
   "metadata": {},
   "source": [
    "The 1-worded songs are mostly instrumental.\n",
    "Let's delete them from the data set as they essentially don't have lyrics."
   ]
  },
  {
   "cell_type": "code",
   "execution_count": 18,
   "metadata": {
    "collapsed": false
   },
   "outputs": [
    {
     "data": {
      "text/plain": [
       "genre            \n",
       "Country     count     14323.000000\n",
       "            mean        186.913426\n",
       "            std          82.254845\n",
       "            min           3.000000\n",
       "            25%         129.000000\n",
       "            50%         171.000000\n",
       "            75%         231.000000\n",
       "            max        1366.000000\n",
       "Electronic  count      7620.000000\n",
       "            mean        202.111680\n",
       "            std         135.602990\n",
       "            min           2.000000\n",
       "            25%         110.000000\n",
       "            50%         177.000000\n",
       "            75%         264.000000\n",
       "            max        1920.000000\n",
       "Folk        count      2108.000000\n",
       "            mean        192.566888\n",
       "            std         115.198695\n",
       "            min           4.000000\n",
       "            25%         121.000000\n",
       "            50%         175.000000\n",
       "            75%         244.000000\n",
       "            max        2393.000000\n",
       "Hip-Hop     count     24760.000000\n",
       "            mean        491.661914\n",
       "            std         237.312650\n",
       "            min           2.000000\n",
       "            25%         341.000000\n",
       "            50%         486.000000\n",
       "                         ...      \n",
       "Metal       std         110.359008\n",
       "            min           2.000000\n",
       "            25%         105.000000\n",
       "            50%         155.000000\n",
       "            75%         220.000000\n",
       "            max        2423.000000\n",
       "Pop         count     40262.000000\n",
       "            mean        246.975610\n",
       "            std         127.842247\n",
       "            min           2.000000\n",
       "            25%         158.000000\n",
       "            50%         225.000000\n",
       "            75%         311.000000\n",
       "            max        1704.000000\n",
       "R&B         count      3391.000000\n",
       "            mean        225.592156\n",
       "            std         119.607676\n",
       "            min           2.000000\n",
       "            25%         142.000000\n",
       "            50%         204.000000\n",
       "            75%         281.500000\n",
       "            max        1440.000000\n",
       "Rock        count    107820.000000\n",
       "            mean        193.194333\n",
       "            std         104.301925\n",
       "            min           2.000000\n",
       "            25%         127.000000\n",
       "            50%         178.000000\n",
       "            75%         242.000000\n",
       "            max        6232.000000\n",
       "Name: word_count, dtype: float64"
      ]
     },
     "execution_count": 18,
     "metadata": {},
     "output_type": "execute_result"
    }
   ],
   "source": [
    "# delete songs with 1 word\n",
    "df = df[df['word_count'] != 1]\n",
    "# review data\n",
    "df['word_count'].groupby(df['genre']).describe()"
   ]
  },
  {
   "cell_type": "markdown",
   "metadata": {},
   "source": [
    "There are still some songs with 2, 3 words.\n",
    "Let's check them if they have lyrics."
   ]
  },
  {
   "cell_type": "code",
   "execution_count": 19,
   "metadata": {
    "collapsed": false
   },
   "outputs": [
    {
     "name": "stdout",
     "output_type": "stream",
     "text": [
      "# of songs with 1 word: 186\n"
     ]
    },
    {
     "data": {
      "text/html": [
       "<div>\n",
       "<table border=\"1\" class=\"dataframe\">\n",
       "  <thead>\n",
       "    <tr style=\"text-align: right;\">\n",
       "      <th></th>\n",
       "      <th>song</th>\n",
       "      <th>year</th>\n",
       "      <th>artist</th>\n",
       "      <th>genre</th>\n",
       "      <th>lyrics</th>\n",
       "      <th>word_count</th>\n",
       "    </tr>\n",
       "  </thead>\n",
       "  <tbody>\n",
       "    <tr>\n",
       "      <th>2735</th>\n",
       "      <td>terminal</td>\n",
       "      <td>2007</td>\n",
       "      <td>antimatter</td>\n",
       "      <td>Rock</td>\n",
       "      <td>[Patterson] [instrumental]</td>\n",
       "      <td>2</td>\n",
       "    </tr>\n",
       "    <tr>\n",
       "      <th>3751</th>\n",
       "      <td>instinct</td>\n",
       "      <td>2007</td>\n",
       "      <td>claire-voyant</td>\n",
       "      <td>Pop</td>\n",
       "      <td>Tekst niedostę</td>\n",
       "      <td>2</td>\n",
       "    </tr>\n",
       "    <tr>\n",
       "      <th>4089</th>\n",
       "      <td>democracy</td>\n",
       "      <td>2007</td>\n",
       "      <td>disbelief</td>\n",
       "      <td>Metal</td>\n",
       "      <td>[Killing Joke-Cover]</td>\n",
       "      <td>2</td>\n",
       "    </tr>\n",
       "    <tr>\n",
       "      <th>9170</th>\n",
       "      <td>niaaea</td>\n",
       "      <td>2006</td>\n",
       "      <td>adaaeaaineay-iaidiia</td>\n",
       "      <td>Rock</td>\n",
       "      <td>- .</td>\n",
       "      <td>2</td>\n",
       "    </tr>\n",
       "    <tr>\n",
       "      <th>9173</th>\n",
       "      <td>odaiaae</td>\n",
       "      <td>2006</td>\n",
       "      <td>adaaeaaineay-iaidiia</td>\n",
       "      <td>Rock</td>\n",
       "      <td>- ...</td>\n",
       "      <td>2</td>\n",
       "    </tr>\n",
       "  </tbody>\n",
       "</table>\n",
       "</div>"
      ],
      "text/plain": [
       "           song  year                artist  genre  \\\n",
       "2735   terminal  2007            antimatter   Rock   \n",
       "3751   instinct  2007         claire-voyant    Pop   \n",
       "4089  democracy  2007             disbelief  Metal   \n",
       "9170     niaaea  2006  adaaeaaineay-iaidiia   Rock   \n",
       "9173    odaiaae  2006  adaaeaaineay-iaidiia   Rock   \n",
       "\n",
       "                          lyrics  word_count  \n",
       "2735  [Patterson] [instrumental]           2  \n",
       "3751              Tekst niedostę           2  \n",
       "4089        [Killing Joke-Cover]           2  \n",
       "9170                         - .           2  \n",
       "9173                       - ...           2  "
      ]
     },
     "execution_count": 19,
     "metadata": {},
     "output_type": "execute_result"
    }
   ],
   "source": [
    "# display the top songs with 2 words\n",
    "print(\"# of songs with 1 word: {}\".format(len(df.loc[df['word_count'] == 2])))\n",
    "df.loc[df['word_count'] == 2].head()"
   ]
  },
  {
   "cell_type": "code",
   "execution_count": 20,
   "metadata": {
    "collapsed": false
   },
   "outputs": [
    {
     "name": "stdout",
     "output_type": "stream",
     "text": [
      "# of songs with 3 words: 198\n"
     ]
    },
    {
     "data": {
      "text/html": [
       "<div>\n",
       "<table border=\"1\" class=\"dataframe\">\n",
       "  <thead>\n",
       "    <tr style=\"text-align: right;\">\n",
       "      <th></th>\n",
       "      <th>song</th>\n",
       "      <th>year</th>\n",
       "      <th>artist</th>\n",
       "      <th>genre</th>\n",
       "      <th>lyrics</th>\n",
       "      <th>word_count</th>\n",
       "    </tr>\n",
       "  </thead>\n",
       "  <tbody>\n",
       "    <tr>\n",
       "      <th>2688</th>\n",
       "      <td>enhorabuena</td>\n",
       "      <td>2014</td>\n",
       "      <td>el-arrebato</td>\n",
       "      <td>Pop</td>\n",
       "      <td>El Arrebato Enhorabuena</td>\n",
       "      <td>3</td>\n",
       "    </tr>\n",
       "    <tr>\n",
       "      <th>5803</th>\n",
       "      <td>because-you-acute-re-mine</td>\n",
       "      <td>2006</td>\n",
       "      <td>bryan-ferry</td>\n",
       "      <td>Rock</td>\n",
       "      <td>Because you're mine</td>\n",
       "      <td>3</td>\n",
       "    </tr>\n",
       "    <tr>\n",
       "      <th>7509</th>\n",
       "      <td>wickedness-act</td>\n",
       "      <td>2007</td>\n",
       "      <td>celesty</td>\n",
       "      <td>Metal</td>\n",
       "      <td>[Japanese Bonus Track]</td>\n",
       "      <td>3</td>\n",
       "    </tr>\n",
       "    <tr>\n",
       "      <th>7639</th>\n",
       "      <td>malice</td>\n",
       "      <td>2001</td>\n",
       "      <td>behemoth</td>\n",
       "      <td>Metal</td>\n",
       "      <td>[Lyrics not available]</td>\n",
       "      <td>3</td>\n",
       "    </tr>\n",
       "    <tr>\n",
       "      <th>9164</th>\n",
       "      <td>edaniue-niao</td>\n",
       "      <td>2006</td>\n",
       "      <td>adaaeaaineay-iaidiia</td>\n",
       "      <td>Rock</td>\n",
       "      <td>, , ,</td>\n",
       "      <td>3</td>\n",
       "    </tr>\n",
       "  </tbody>\n",
       "</table>\n",
       "</div>"
      ],
      "text/plain": [
       "                           song  year                artist  genre  \\\n",
       "2688                enhorabuena  2014           el-arrebato    Pop   \n",
       "5803  because-you-acute-re-mine  2006           bryan-ferry   Rock   \n",
       "7509             wickedness-act  2007               celesty  Metal   \n",
       "7639                     malice  2001              behemoth  Metal   \n",
       "9164               edaniue-niao  2006  adaaeaaineay-iaidiia   Rock   \n",
       "\n",
       "                       lyrics  word_count  \n",
       "2688  El Arrebato Enhorabuena           3  \n",
       "5803      Because you're mine           3  \n",
       "7509   [Japanese Bonus Track]           3  \n",
       "7639   [Lyrics not available]           3  \n",
       "9164                    , , ,           3  "
      ]
     },
     "execution_count": 20,
     "metadata": {},
     "output_type": "execute_result"
    }
   ],
   "source": [
    "# display the top songs with 3 words\n",
    "print(\"# of songs with 3 words: {}\".format(len(df.loc[df['word_count'] == 3])))\n",
    "df.loc[df['word_count']  == 3].head()"
   ]
  },
  {
   "cell_type": "code",
   "execution_count": 21,
   "metadata": {
    "collapsed": false
   },
   "outputs": [
    {
     "name": "stdout",
     "output_type": "stream",
     "text": [
      "# of songs with 3 words: 6825\n"
     ]
    }
   ],
   "source": [
    "# display the top songs with 3 words\n",
    "print(\"# of songs with 3 words: {}\".format(len(df.loc[df['word_count'] < 50])))"
   ]
  },
  {
   "cell_type": "code",
   "execution_count": 22,
   "metadata": {
    "collapsed": false
   },
   "outputs": [
    {
     "name": "stdout",
     "output_type": "stream",
     "text": [
      "# of songs < 50 words: 6825\n",
      "# of total songs: 234208\n",
      "% of songs < 50 words: 2.914076376554174%\n"
     ]
    }
   ],
   "source": [
    "# check the proportion of songs with less 100 words compared to the entire data set\n",
    "print(\"# of songs < 50 words: {}\".format(len(df[df['word_count'] < 50])))\n",
    "print(\"# of total songs: {}\".format(len(df)))\n",
    "print(\"% of songs < 50 words: {}%\".format(len(df[df['word_count'] < 50])/len(df)*100))"
   ]
  },
  {
   "cell_type": "markdown",
   "metadata": {},
   "source": [
    "Since we are only eliminating about 3% of the entire data set by deleting songs less than 50 words, we will do this to simplify the data set."
   ]
  },
  {
   "cell_type": "code",
   "execution_count": 23,
   "metadata": {
    "collapsed": false
   },
   "outputs": [
    {
     "data": {
      "text/plain": [
       "genre            \n",
       "Country     count     14204.000000\n",
       "            mean        188.253520\n",
       "            std          81.267609\n",
       "            min          51.000000\n",
       "            25%         130.000000\n",
       "            50%         172.000000\n",
       "            75%         231.000000\n",
       "            max        1366.000000\n",
       "Electronic  count      6993.000000\n",
       "            mean        217.772344\n",
       "            std         130.525636\n",
       "            min          51.000000\n",
       "            25%         126.000000\n",
       "            50%         190.000000\n",
       "            75%         273.000000\n",
       "            max        1920.000000\n",
       "Folk        count      2018.000000\n",
       "            mean        199.837463\n",
       "            std         112.317991\n",
       "            min          51.000000\n",
       "            25%         129.000000\n",
       "            50%         179.000000\n",
       "            75%         247.000000\n",
       "            max        2393.000000\n",
       "Hip-Hop     count     24186.000000\n",
       "            mean        502.707682\n",
       "            std         228.881699\n",
       "            min          51.000000\n",
       "            25%         353.000000\n",
       "            50%         492.000000\n",
       "                         ...      \n",
       "Metal       std         106.957901\n",
       "            min          51.000000\n",
       "            25%         114.000000\n",
       "            50%         161.000000\n",
       "            75%         225.000000\n",
       "            max        2423.000000\n",
       "Pop         count     39623.000000\n",
       "            mean        250.486182\n",
       "            std         125.807910\n",
       "            min          51.000000\n",
       "            25%         161.000000\n",
       "            50%         227.000000\n",
       "            75%         313.000000\n",
       "            max        1704.000000\n",
       "R&B         count      3350.000000\n",
       "            mean        227.995522\n",
       "            std         118.323421\n",
       "            min          52.000000\n",
       "            25%         144.000000\n",
       "            50%         205.000000\n",
       "            75%         282.000000\n",
       "            max        1440.000000\n",
       "Rock        count    104498.000000\n",
       "            mean        198.457301\n",
       "            std         101.581834\n",
       "            min          51.000000\n",
       "            25%         132.000000\n",
       "            50%         182.000000\n",
       "            75%         245.000000\n",
       "            max        6232.000000\n",
       "Name: word_count, dtype: float64"
      ]
     },
     "execution_count": 23,
     "metadata": {},
     "output_type": "execute_result"
    }
   ],
   "source": [
    "# delete songs with 1 word\n",
    "df = df[df['word_count'] > 50]\n",
    "# review data\n",
    "df['word_count'].groupby(df['genre']).describe()"
   ]
  },
  {
   "cell_type": "markdown",
   "metadata": {},
   "source": [
    "Let's now check the overall distribution of the songs."
   ]
  },
  {
   "cell_type": "code",
   "execution_count": 24,
   "metadata": {
    "collapsed": false
   },
   "outputs": [
    {
     "data": {
      "image/png": "[encoded data removed]",
      "text/plain": [
       "<matplotlib.figure.Figure at 0x111099c88>"
      ]
     },
     "metadata": {},
     "output_type": "display_data"
    }
   ],
   "source": [
    "# check distribution of data set\n",
    "sns.violinplot(x=df[\"word_count\"])\n",
    "plt.show()"
   ]
  },
  {
   "cell_type": "markdown",
   "metadata": {},
   "source": [
    "The word count is extremely skewed to the right.\n",
    "Let's see what the lyrics are for some high word counts."
   ]
  },
  {
   "cell_type": "code",
   "execution_count": 25,
   "metadata": {
    "collapsed": false
   },
   "outputs": [
    {
     "name": "stdout",
     "output_type": "stream",
     "text": [
      "# of songs with 1 word: 1\n"
     ]
    },
    {
     "data": {
      "text/html": [
       "<div>\n",
       "<table border=\"1\" class=\"dataframe\">\n",
       "  <thead>\n",
       "    <tr style=\"text-align: right;\">\n",
       "      <th></th>\n",
       "      <th>song</th>\n",
       "      <th>year</th>\n",
       "      <th>artist</th>\n",
       "      <th>genre</th>\n",
       "      <th>lyrics</th>\n",
       "      <th>word_count</th>\n",
       "    </tr>\n",
       "  </thead>\n",
       "  <tbody>\n",
       "    <tr>\n",
       "      <th>18869</th>\n",
       "      <td>rap-monument</td>\n",
       "      <td>2014</td>\n",
       "      <td>flatbush-zombies</td>\n",
       "      <td>Hip-Hop</td>\n",
       "      <td>RAPROCK LIT POP NEWS COUNTRY R&amp;B; HISTORY SPOR...</td>\n",
       "      <td>8195</td>\n",
       "    </tr>\n",
       "  </tbody>\n",
       "</table>\n",
       "</div>"
      ],
      "text/plain": [
       "               song  year            artist    genre  \\\n",
       "18869  rap-monument  2014  flatbush-zombies  Hip-Hop   \n",
       "\n",
       "                                                  lyrics  word_count  \n",
       "18869  RAPROCK LIT POP NEWS COUNTRY R&B; HISTORY SPOR...        8195  "
      ]
     },
     "execution_count": 25,
     "metadata": {},
     "output_type": "execute_result"
    }
   ],
   "source": [
    "# display the top songs with more then 8000 words\n",
    "print(\"# of songs with 1 word: {}\".format(len(df.loc[df['word_count'] > 8000])))\n",
    "df.loc[df['word_count'] > 8000].head()"
   ]
  },
  {
   "cell_type": "code",
   "execution_count": 26,
   "metadata": {
    "collapsed": false
   },
   "outputs": [
    {
     "name": "stdout",
     "output_type": "stream",
     "text": [
      "# of songs with 1 word: 3\n"
     ]
    },
    {
     "data": {
      "text/html": [
       "<div>\n",
       "<table border=\"1\" class=\"dataframe\">\n",
       "  <thead>\n",
       "    <tr style=\"text-align: right;\">\n",
       "      <th></th>\n",
       "      <th>song</th>\n",
       "      <th>year</th>\n",
       "      <th>artist</th>\n",
       "      <th>genre</th>\n",
       "      <th>lyrics</th>\n",
       "      <th>word_count</th>\n",
       "    </tr>\n",
       "  </thead>\n",
       "  <tbody>\n",
       "    <tr>\n",
       "      <th>15620</th>\n",
       "      <td>yes-sir-i-will</td>\n",
       "      <td>2007</td>\n",
       "      <td>crass</td>\n",
       "      <td>Rock</td>\n",
       "      <td>The door stands open - Across lines, invisible...</td>\n",
       "      <td>6232</td>\n",
       "    </tr>\n",
       "    <tr>\n",
       "      <th>18869</th>\n",
       "      <td>rap-monument</td>\n",
       "      <td>2014</td>\n",
       "      <td>flatbush-zombies</td>\n",
       "      <td>Hip-Hop</td>\n",
       "      <td>RAPROCK LIT POP NEWS COUNTRY R&amp;B; HISTORY SPOR...</td>\n",
       "      <td>8195</td>\n",
       "    </tr>\n",
       "    <tr>\n",
       "      <th>89953</th>\n",
       "      <td>freestyle-june-27</td>\n",
       "      <td>2007</td>\n",
       "      <td>big-moe</td>\n",
       "      <td>Hip-Hop</td>\n",
       "      <td>(Big Moe) Yeee-yeee haahee yeehaa, yeee-yaahee...</td>\n",
       "      <td>5085</td>\n",
       "    </tr>\n",
       "  </tbody>\n",
       "</table>\n",
       "</div>"
      ],
      "text/plain": [
       "                    song  year            artist    genre  \\\n",
       "15620     yes-sir-i-will  2007             crass     Rock   \n",
       "18869       rap-monument  2014  flatbush-zombies  Hip-Hop   \n",
       "89953  freestyle-june-27  2007           big-moe  Hip-Hop   \n",
       "\n",
       "                                                  lyrics  word_count  \n",
       "15620  The door stands open - Across lines, invisible...        6232  \n",
       "18869  RAPROCK LIT POP NEWS COUNTRY R&B; HISTORY SPOR...        8195  \n",
       "89953  (Big Moe) Yeee-yeee haahee yeehaa, yeee-yaahee...        5085  "
      ]
     },
     "execution_count": 26,
     "metadata": {},
     "output_type": "execute_result"
    }
   ],
   "source": [
    "# display the top songs with more then 5000 words\n",
    "print(\"# of songs with 1 word: {}\".format(len(df.loc[df['word_count'] > 5000])))\n",
    "df.loc[df['word_count'] > 5000].head()"
   ]
  },
  {
   "cell_type": "code",
   "execution_count": 27,
   "metadata": {
    "collapsed": false
   },
   "outputs": [
    {
     "name": "stdout",
     "output_type": "stream",
     "text": [
      "# of songs with 1 word: 572\n"
     ]
    },
    {
     "data": {
      "text/html": [
       "<div>\n",
       "<table border=\"1\" class=\"dataframe\">\n",
       "  <thead>\n",
       "    <tr style=\"text-align: right;\">\n",
       "      <th></th>\n",
       "      <th>song</th>\n",
       "      <th>year</th>\n",
       "      <th>artist</th>\n",
       "      <th>genre</th>\n",
       "      <th>lyrics</th>\n",
       "      <th>word_count</th>\n",
       "    </tr>\n",
       "  </thead>\n",
       "  <tbody>\n",
       "    <tr>\n",
       "      <th>95</th>\n",
       "      <td>get-me-bodied</td>\n",
       "      <td>2006</td>\n",
       "      <td>beyonce-knowles</td>\n",
       "      <td>Pop</td>\n",
       "      <td>Nine, four, eight, one B day Mission one: I'm-...</td>\n",
       "      <td>1122</td>\n",
       "    </tr>\n",
       "    <tr>\n",
       "      <th>113</th>\n",
       "      <td>get-me-bodied-extended-remix-bonus-track</td>\n",
       "      <td>2006</td>\n",
       "      <td>beyonce-knowles</td>\n",
       "      <td>Pop</td>\n",
       "      <td>Nine, four, eight, one B'day Mission one, Ima ...</td>\n",
       "      <td>1014</td>\n",
       "    </tr>\n",
       "    <tr>\n",
       "      <th>1590</th>\n",
       "      <td>tour-hip-hop-version</td>\n",
       "      <td>2006</td>\n",
       "      <td>capleton</td>\n",
       "      <td>Electronic</td>\n",
       "      <td>Yeah I say straighten yuh crooked ways Blessed...</td>\n",
       "      <td>1034</td>\n",
       "    </tr>\n",
       "    <tr>\n",
       "      <th>2339</th>\n",
       "      <td>burnt</td>\n",
       "      <td>2007</td>\n",
       "      <td>del-the-funky-homosapien</td>\n",
       "      <td>Hip-Hop</td>\n",
       "      <td>DEL: Mista, twista, get ya every single time w...</td>\n",
       "      <td>1068</td>\n",
       "    </tr>\n",
       "    <tr>\n",
       "      <th>7464</th>\n",
       "      <td>stan</td>\n",
       "      <td>2006</td>\n",
       "      <td>dido</td>\n",
       "      <td>Pop</td>\n",
       "      <td>My tea's gone cold I'm wondering why I Got out...</td>\n",
       "      <td>1238</td>\n",
       "    </tr>\n",
       "  </tbody>\n",
       "</table>\n",
       "</div>"
      ],
      "text/plain": [
       "                                          song  year  \\\n",
       "95                               get-me-bodied  2006   \n",
       "113   get-me-bodied-extended-remix-bonus-track  2006   \n",
       "1590                      tour-hip-hop-version  2006   \n",
       "2339                                     burnt  2007   \n",
       "7464                                      stan  2006   \n",
       "\n",
       "                        artist       genre  \\\n",
       "95             beyonce-knowles         Pop   \n",
       "113            beyonce-knowles         Pop   \n",
       "1590                  capleton  Electronic   \n",
       "2339  del-the-funky-homosapien     Hip-Hop   \n",
       "7464                      dido         Pop   \n",
       "\n",
       "                                                 lyrics  word_count  \n",
       "95    Nine, four, eight, one B day Mission one: I'm-...        1122  \n",
       "113   Nine, four, eight, one B'day Mission one, Ima ...        1014  \n",
       "1590  Yeah I say straighten yuh crooked ways Blessed...        1034  \n",
       "2339  DEL: Mista, twista, get ya every single time w...        1068  \n",
       "7464  My tea's gone cold I'm wondering why I Got out...        1238  "
      ]
     },
     "execution_count": 27,
     "metadata": {},
     "output_type": "execute_result"
    }
   ],
   "source": [
    "# display the top songs with more then 1000 words\n",
    "print(\"# of songs with 1 word: {}\".format(len(df.loc[df['word_count'] > 1000])))\n",
    "df.loc[df['word_count'] > 1000].head()"
   ]
  },
  {
   "cell_type": "code",
   "execution_count": 28,
   "metadata": {
    "collapsed": false
   },
   "outputs": [
    {
     "name": "stdout",
     "output_type": "stream",
     "text": [
      "# of songs < 1000 words: 572\n",
      "# of total songs: 227180\n",
      "% of songs < 1000 words: 0.2517827273527599%\n"
     ]
    }
   ],
   "source": [
    "# check the proportion of songs with less 100 words compared to the entire data set\n",
    "print(\"# of songs < 1000 words: {}\".format(len(df[df['word_count'] > 1000])))\n",
    "print(\"# of total songs: {}\".format(len(df)))\n",
    "print(\"% of songs < 1000 words: {}%\".format(len(df[df['word_count'] > 1000])/len(df)*100))"
   ]
  },
  {
   "cell_type": "markdown",
   "metadata": {},
   "source": [
    "Since there are only 0.25% of songs with 1000 words, let's eliminate them to simplify data set."
   ]
  },
  {
   "cell_type": "code",
   "execution_count": 29,
   "metadata": {
    "collapsed": false
   },
   "outputs": [
    {
     "data": {
      "text/plain": [
       "genre            \n",
       "Country     count     14203.000000\n",
       "            mean        188.170598\n",
       "            std          80.667305\n",
       "            min          51.000000\n",
       "            25%         130.000000\n",
       "            50%         172.000000\n",
       "            75%         231.000000\n",
       "            max         895.000000\n",
       "Electronic  count      6989.000000\n",
       "            mean        217.124052\n",
       "            std         127.434446\n",
       "            min          51.000000\n",
       "            25%         126.000000\n",
       "            50%         190.000000\n",
       "            75%         273.000000\n",
       "            max         990.000000\n",
       "Folk        count      2016.000000\n",
       "            mean        198.216766\n",
       "            std          98.313421\n",
       "            min          51.000000\n",
       "            25%         129.000000\n",
       "            50%         179.000000\n",
       "            75%         247.000000\n",
       "            max         998.000000\n",
       "Hip-Hop     count     23735.000000\n",
       "            mean        489.282831\n",
       "            std         197.858712\n",
       "            min          51.000000\n",
       "            25%         350.000000\n",
       "            50%         487.000000\n",
       "                         ...      \n",
       "Metal       std         102.359617\n",
       "            min          51.000000\n",
       "            25%         114.000000\n",
       "            50%         161.000000\n",
       "            75%         225.000000\n",
       "            max         999.000000\n",
       "Pop         count     39595.000000\n",
       "            mean        249.839576\n",
       "            std         123.408581\n",
       "            min          51.000000\n",
       "            25%         161.000000\n",
       "            50%         227.000000\n",
       "            75%         313.000000\n",
       "            max         999.000000\n",
       "R&B         count      3348.000000\n",
       "            mean        227.329450\n",
       "            std         115.151365\n",
       "            min          52.000000\n",
       "            25%         144.000000\n",
       "            50%         205.000000\n",
       "            75%         282.000000\n",
       "            max         892.000000\n",
       "Rock        count    104425.000000\n",
       "            mean        197.531166\n",
       "            std          93.237922\n",
       "            min          51.000000\n",
       "            25%         132.000000\n",
       "            50%         182.000000\n",
       "            75%         245.000000\n",
       "            max         998.000000\n",
       "Name: word_count, dtype: float64"
      ]
     },
     "execution_count": 29,
     "metadata": {},
     "output_type": "execute_result"
    }
   ],
   "source": [
    "# delete songs with more than 1000 worda\n",
    "df = df[df['word_count'] < 1000]\n",
    "# review data\n",
    "df['word_count'].groupby(df['genre']).describe()"
   ]
  },
  {
   "cell_type": "code",
   "execution_count": 30,
   "metadata": {
    "collapsed": false
   },
   "outputs": [
    {
     "data": {
      "image/png": "[encoded data removed]",
      "text/plain": [
       "<matplotlib.figure.Figure at 0x11d0a1e48>"
      ]
     },
     "metadata": {},
     "output_type": "display_data"
    }
   ],
   "source": [
    "# check distribution of data set\n",
    "sns.violinplot(x=df[\"word_count\"])\n",
    "plt.show()"
   ]
  },
  {
   "cell_type": "code",
   "execution_count": 31,
   "metadata": {
    "collapsed": false
   },
   "outputs": [
    {
     "data": {
      "image/png": "[encoded data removed]",
      "text/plain": [
       "<matplotlib.figure.Figure at 0x11b2dea90>"
      ]
     },
     "metadata": {},
     "output_type": "display_data"
    }
   ],
   "source": [
    "plt.rc(\"figure\", figsize=(15, 6))\n",
    "sns.boxplot(x=\"genre\", y=\"word_count\", data=df)\n",
    "plt.show()"
   ]
  },
  {
   "cell_type": "code",
   "execution_count": 32,
   "metadata": {
    "collapsed": false
   },
   "outputs": [
    {
     "name": "stdout",
     "output_type": "stream",
     "text": [
      "<class 'pandas.core.frame.DataFrame'>\n",
      "Int64Index: 226602 entries, 0 to 362236\n",
      "Data columns (total 6 columns):\n",
      "song          226602 non-null object\n",
      "year          226602 non-null int64\n",
      "artist        226602 non-null object\n",
      "genre         226602 non-null object\n",
      "lyrics        226602 non-null object\n",
      "word_count    226602 non-null int64\n",
      "dtypes: int64(2), object(4)\n",
      "memory usage: 12.1+ MB\n",
      "# of rows: 226602\n",
      "\n",
      "# of columns: 6\n",
      "\n"
     ]
    },
    {
     "data": {
      "text/html": [
       "<div>\n",
       "<table border=\"1\" class=\"dataframe\">\n",
       "  <thead>\n",
       "    <tr style=\"text-align: right;\">\n",
       "      <th></th>\n",
       "      <th>song</th>\n",
       "      <th>year</th>\n",
       "      <th>artist</th>\n",
       "      <th>genre</th>\n",
       "      <th>lyrics</th>\n",
       "      <th>word_count</th>\n",
       "    </tr>\n",
       "  </thead>\n",
       "  <tbody>\n",
       "    <tr>\n",
       "      <th>0</th>\n",
       "      <td>ego-remix</td>\n",
       "      <td>2009</td>\n",
       "      <td>beyonce-knowles</td>\n",
       "      <td>Pop</td>\n",
       "      <td>Oh baby, how you doing? You know I'm gonna cut...</td>\n",
       "      <td>433</td>\n",
       "    </tr>\n",
       "    <tr>\n",
       "      <th>1</th>\n",
       "      <td>then-tell-me</td>\n",
       "      <td>2009</td>\n",
       "      <td>beyonce-knowles</td>\n",
       "      <td>Pop</td>\n",
       "      <td>playin' everything so easy, it's like you seem...</td>\n",
       "      <td>258</td>\n",
       "    </tr>\n",
       "    <tr>\n",
       "      <th>2</th>\n",
       "      <td>honesty</td>\n",
       "      <td>2009</td>\n",
       "      <td>beyonce-knowles</td>\n",
       "      <td>Pop</td>\n",
       "      <td>If you search For tenderness It isn't hard to ...</td>\n",
       "      <td>170</td>\n",
       "    </tr>\n",
       "    <tr>\n",
       "      <th>3</th>\n",
       "      <td>you-are-my-rock</td>\n",
       "      <td>2009</td>\n",
       "      <td>beyonce-knowles</td>\n",
       "      <td>Pop</td>\n",
       "      <td>Oh oh oh I, oh oh oh I [Verse 1:] If I wrote a...</td>\n",
       "      <td>522</td>\n",
       "    </tr>\n",
       "    <tr>\n",
       "      <th>4</th>\n",
       "      <td>black-culture</td>\n",
       "      <td>2009</td>\n",
       "      <td>beyonce-knowles</td>\n",
       "      <td>Pop</td>\n",
       "      <td>Party the people, the people the party it's po...</td>\n",
       "      <td>312</td>\n",
       "    </tr>\n",
       "  </tbody>\n",
       "</table>\n",
       "</div>"
      ],
      "text/plain": [
       "              song  year           artist genre  \\\n",
       "0        ego-remix  2009  beyonce-knowles   Pop   \n",
       "1     then-tell-me  2009  beyonce-knowles   Pop   \n",
       "2          honesty  2009  beyonce-knowles   Pop   \n",
       "3  you-are-my-rock  2009  beyonce-knowles   Pop   \n",
       "4    black-culture  2009  beyonce-knowles   Pop   \n",
       "\n",
       "                                              lyrics  word_count  \n",
       "0  Oh baby, how you doing? You know I'm gonna cut...         433  \n",
       "1  playin' everything so easy, it's like you seem...         258  \n",
       "2  If you search For tenderness It isn't hard to ...         170  \n",
       "3  Oh oh oh I, oh oh oh I [Verse 1:] If I wrote a...         522  \n",
       "4  Party the people, the people the party it's po...         312  "
      ]
     },
     "execution_count": 32,
     "metadata": {},
     "output_type": "execute_result"
    }
   ],
   "source": [
    "# display panda info\n",
    "df.info()\n",
    "# check shape of data frame\n",
    "print(\"# of rows: {}\\n\".format(df.shape[0]))\n",
    "print(\"# of columns: {}\\n\".format(df.shape[1]))\n",
    "# check how data is organized\n",
    "df.head()"
   ]
  },
  {
   "cell_type": "code",
   "execution_count": 33,
   "metadata": {
    "collapsed": false
   },
   "outputs": [
    {
     "data": {
      "text/html": [
       "<div>\n",
       "<table border=\"1\" class=\"dataframe\">\n",
       "  <thead>\n",
       "    <tr style=\"text-align: right;\">\n",
       "      <th></th>\n",
       "      <th>song</th>\n",
       "      <th>year</th>\n",
       "      <th>artist</th>\n",
       "      <th>lyrics</th>\n",
       "      <th>word_count</th>\n",
       "    </tr>\n",
       "    <tr>\n",
       "      <th>genre</th>\n",
       "      <th></th>\n",
       "      <th></th>\n",
       "      <th></th>\n",
       "      <th></th>\n",
       "      <th></th>\n",
       "    </tr>\n",
       "  </thead>\n",
       "  <tbody>\n",
       "    <tr>\n",
       "      <th>Country</th>\n",
       "      <td>14203</td>\n",
       "      <td>14203</td>\n",
       "      <td>14203</td>\n",
       "      <td>14203</td>\n",
       "      <td>14203</td>\n",
       "    </tr>\n",
       "    <tr>\n",
       "      <th>Electronic</th>\n",
       "      <td>6989</td>\n",
       "      <td>6989</td>\n",
       "      <td>6989</td>\n",
       "      <td>6989</td>\n",
       "      <td>6989</td>\n",
       "    </tr>\n",
       "    <tr>\n",
       "      <th>Folk</th>\n",
       "      <td>2016</td>\n",
       "      <td>2016</td>\n",
       "      <td>2016</td>\n",
       "      <td>2016</td>\n",
       "      <td>2016</td>\n",
       "    </tr>\n",
       "    <tr>\n",
       "      <th>Hip-Hop</th>\n",
       "      <td>23735</td>\n",
       "      <td>23735</td>\n",
       "      <td>23735</td>\n",
       "      <td>23735</td>\n",
       "      <td>23735</td>\n",
       "    </tr>\n",
       "    <tr>\n",
       "      <th>Indie</th>\n",
       "      <td>3027</td>\n",
       "      <td>3027</td>\n",
       "      <td>3027</td>\n",
       "      <td>3027</td>\n",
       "      <td>3027</td>\n",
       "    </tr>\n",
       "    <tr>\n",
       "      <th>Jazz</th>\n",
       "      <td>7674</td>\n",
       "      <td>7674</td>\n",
       "      <td>7674</td>\n",
       "      <td>7674</td>\n",
       "      <td>7674</td>\n",
       "    </tr>\n",
       "    <tr>\n",
       "      <th>Metal</th>\n",
       "      <td>21590</td>\n",
       "      <td>21590</td>\n",
       "      <td>21590</td>\n",
       "      <td>21590</td>\n",
       "      <td>21590</td>\n",
       "    </tr>\n",
       "    <tr>\n",
       "      <th>Pop</th>\n",
       "      <td>39595</td>\n",
       "      <td>39595</td>\n",
       "      <td>39595</td>\n",
       "      <td>39595</td>\n",
       "      <td>39595</td>\n",
       "    </tr>\n",
       "    <tr>\n",
       "      <th>R&amp;B</th>\n",
       "      <td>3348</td>\n",
       "      <td>3348</td>\n",
       "      <td>3348</td>\n",
       "      <td>3348</td>\n",
       "      <td>3348</td>\n",
       "    </tr>\n",
       "    <tr>\n",
       "      <th>Rock</th>\n",
       "      <td>104425</td>\n",
       "      <td>104425</td>\n",
       "      <td>104425</td>\n",
       "      <td>104425</td>\n",
       "      <td>104425</td>\n",
       "    </tr>\n",
       "  </tbody>\n",
       "</table>\n",
       "</div>"
      ],
      "text/plain": [
       "              song    year  artist  lyrics  word_count\n",
       "genre                                                 \n",
       "Country      14203   14203   14203   14203       14203\n",
       "Electronic    6989    6989    6989    6989        6989\n",
       "Folk          2016    2016    2016    2016        2016\n",
       "Hip-Hop      23735   23735   23735   23735       23735\n",
       "Indie         3027    3027    3027    3027        3027\n",
       "Jazz          7674    7674    7674    7674        7674\n",
       "Metal        21590   21590   21590   21590       21590\n",
       "Pop          39595   39595   39595   39595       39595\n",
       "R&B           3348    3348    3348    3348        3348\n",
       "Rock        104425  104425  104425  104425      104425"
      ]
     },
     "execution_count": 33,
     "metadata": {},
     "output_type": "execute_result"
    }
   ],
   "source": [
    "genre = df.groupby(['genre']).count()\n",
    "genre"
   ]
  },
  {
   "cell_type": "code",
   "execution_count": 34,
   "metadata": {
    "collapsed": false
   },
   "outputs": [
    {
     "data": {
      "text/html": [
       "<div>\n",
       "<table border=\"1\" class=\"dataframe\">\n",
       "  <thead>\n",
       "    <tr style=\"text-align: right;\">\n",
       "      <th></th>\n",
       "      <th>song</th>\n",
       "      <th>year</th>\n",
       "      <th>genre</th>\n",
       "      <th>lyrics</th>\n",
       "      <th>word_count</th>\n",
       "    </tr>\n",
       "    <tr>\n",
       "      <th>artist</th>\n",
       "      <th></th>\n",
       "      <th></th>\n",
       "      <th></th>\n",
       "      <th></th>\n",
       "      <th></th>\n",
       "    </tr>\n",
       "  </thead>\n",
       "  <tbody>\n",
       "    <tr>\n",
       "      <th>009-sound-system</th>\n",
       "      <td>4</td>\n",
       "      <td>4</td>\n",
       "      <td>4</td>\n",
       "      <td>4</td>\n",
       "      <td>4</td>\n",
       "    </tr>\n",
       "    <tr>\n",
       "      <th>047</th>\n",
       "      <td>1</td>\n",
       "      <td>1</td>\n",
       "      <td>1</td>\n",
       "      <td>1</td>\n",
       "      <td>1</td>\n",
       "    </tr>\n",
       "    <tr>\n",
       "      <th>1-800-zombie</th>\n",
       "      <td>2</td>\n",
       "      <td>2</td>\n",
       "      <td>2</td>\n",
       "      <td>2</td>\n",
       "      <td>2</td>\n",
       "    </tr>\n",
       "    <tr>\n",
       "      <th>10-cc</th>\n",
       "      <td>142</td>\n",
       "      <td>142</td>\n",
       "      <td>142</td>\n",
       "      <td>142</td>\n",
       "      <td>142</td>\n",
       "    </tr>\n",
       "    <tr>\n",
       "      <th>10-years</th>\n",
       "      <td>74</td>\n",
       "      <td>74</td>\n",
       "      <td>74</td>\n",
       "      <td>74</td>\n",
       "      <td>74</td>\n",
       "    </tr>\n",
       "    <tr>\n",
       "      <th>100-demons</th>\n",
       "      <td>1</td>\n",
       "      <td>1</td>\n",
       "      <td>1</td>\n",
       "      <td>1</td>\n",
       "      <td>1</td>\n",
       "    </tr>\n",
       "    <tr>\n",
       "      <th>100-monkeys</th>\n",
       "      <td>30</td>\n",
       "      <td>30</td>\n",
       "      <td>30</td>\n",
       "      <td>30</td>\n",
       "      <td>30</td>\n",
       "    </tr>\n",
       "    <tr>\n",
       "      <th>10000-maniacs</th>\n",
       "      <td>90</td>\n",
       "      <td>90</td>\n",
       "      <td>90</td>\n",
       "      <td>90</td>\n",
       "      <td>90</td>\n",
       "    </tr>\n",
       "    <tr>\n",
       "      <th>1000mods</th>\n",
       "      <td>10</td>\n",
       "      <td>10</td>\n",
       "      <td>10</td>\n",
       "      <td>10</td>\n",
       "      <td>10</td>\n",
       "    </tr>\n",
       "    <tr>\n",
       "      <th>104</th>\n",
       "      <td>1</td>\n",
       "      <td>1</td>\n",
       "      <td>1</td>\n",
       "      <td>1</td>\n",
       "      <td>1</td>\n",
       "    </tr>\n",
       "    <tr>\n",
       "      <th>10cm</th>\n",
       "      <td>1</td>\n",
       "      <td>1</td>\n",
       "      <td>1</td>\n",
       "      <td>1</td>\n",
       "      <td>1</td>\n",
       "    </tr>\n",
       "    <tr>\n",
       "      <th>10digits</th>\n",
       "      <td>1</td>\n",
       "      <td>1</td>\n",
       "      <td>1</td>\n",
       "      <td>1</td>\n",
       "      <td>1</td>\n",
       "    </tr>\n",
       "    <tr>\n",
       "      <th>11-11</th>\n",
       "      <td>1</td>\n",
       "      <td>1</td>\n",
       "      <td>1</td>\n",
       "      <td>1</td>\n",
       "      <td>1</td>\n",
       "    </tr>\n",
       "    <tr>\n",
       "      <th>112</th>\n",
       "      <td>93</td>\n",
       "      <td>93</td>\n",
       "      <td>93</td>\n",
       "      <td>93</td>\n",
       "      <td>93</td>\n",
       "    </tr>\n",
       "    <tr>\n",
       "      <th>11th-hour</th>\n",
       "      <td>3</td>\n",
       "      <td>3</td>\n",
       "      <td>3</td>\n",
       "      <td>3</td>\n",
       "      <td>3</td>\n",
       "    </tr>\n",
       "    <tr>\n",
       "      <th>12-rounds</th>\n",
       "      <td>6</td>\n",
       "      <td>6</td>\n",
       "      <td>6</td>\n",
       "      <td>6</td>\n",
       "      <td>6</td>\n",
       "    </tr>\n",
       "    <tr>\n",
       "      <th>12-stones</th>\n",
       "      <td>53</td>\n",
       "      <td>53</td>\n",
       "      <td>53</td>\n",
       "      <td>53</td>\n",
       "      <td>53</td>\n",
       "    </tr>\n",
       "    <tr>\n",
       "      <th>13-engines</th>\n",
       "      <td>14</td>\n",
       "      <td>14</td>\n",
       "      <td>14</td>\n",
       "      <td>14</td>\n",
       "      <td>14</td>\n",
       "    </tr>\n",
       "    <tr>\n",
       "      <th>13-winters</th>\n",
       "      <td>1</td>\n",
       "      <td>1</td>\n",
       "      <td>1</td>\n",
       "      <td>1</td>\n",
       "      <td>1</td>\n",
       "    </tr>\n",
       "    <tr>\n",
       "      <th>14-bis</th>\n",
       "      <td>44</td>\n",
       "      <td>44</td>\n",
       "      <td>44</td>\n",
       "      <td>44</td>\n",
       "      <td>44</td>\n",
       "    </tr>\n",
       "    <tr>\n",
       "      <th>16-bit</th>\n",
       "      <td>2</td>\n",
       "      <td>2</td>\n",
       "      <td>2</td>\n",
       "      <td>2</td>\n",
       "      <td>2</td>\n",
       "    </tr>\n",
       "    <tr>\n",
       "      <th>16-frames</th>\n",
       "      <td>3</td>\n",
       "      <td>3</td>\n",
       "      <td>3</td>\n",
       "      <td>3</td>\n",
       "      <td>3</td>\n",
       "    </tr>\n",
       "    <tr>\n",
       "      <th>16-horsepower</th>\n",
       "      <td>40</td>\n",
       "      <td>40</td>\n",
       "      <td>40</td>\n",
       "      <td>40</td>\n",
       "      <td>40</td>\n",
       "    </tr>\n",
       "    <tr>\n",
       "      <th>16-stitch</th>\n",
       "      <td>1</td>\n",
       "      <td>1</td>\n",
       "      <td>1</td>\n",
       "      <td>1</td>\n",
       "      <td>1</td>\n",
       "    </tr>\n",
       "    <tr>\n",
       "      <th>16volt</th>\n",
       "      <td>5</td>\n",
       "      <td>5</td>\n",
       "      <td>5</td>\n",
       "      <td>5</td>\n",
       "      <td>5</td>\n",
       "    </tr>\n",
       "    <tr>\n",
       "      <th>1910-fruitgum-company</th>\n",
       "      <td>5</td>\n",
       "      <td>5</td>\n",
       "      <td>5</td>\n",
       "      <td>5</td>\n",
       "      <td>5</td>\n",
       "    </tr>\n",
       "    <tr>\n",
       "      <th>1974-ad</th>\n",
       "      <td>2</td>\n",
       "      <td>2</td>\n",
       "      <td>2</td>\n",
       "      <td>2</td>\n",
       "      <td>2</td>\n",
       "    </tr>\n",
       "    <tr>\n",
       "      <th>1982</th>\n",
       "      <td>4</td>\n",
       "      <td>4</td>\n",
       "      <td>4</td>\n",
       "      <td>4</td>\n",
       "      <td>4</td>\n",
       "    </tr>\n",
       "    <tr>\n",
       "      <th>1982-termanology-and-statik-selektah</th>\n",
       "      <td>1</td>\n",
       "      <td>1</td>\n",
       "      <td>1</td>\n",
       "      <td>1</td>\n",
       "      <td>1</td>\n",
       "    </tr>\n",
       "    <tr>\n",
       "      <th>1984</th>\n",
       "      <td>7</td>\n",
       "      <td>7</td>\n",
       "      <td>7</td>\n",
       "      <td>7</td>\n",
       "      <td>7</td>\n",
       "    </tr>\n",
       "    <tr>\n",
       "      <th>...</th>\n",
       "      <td>...</td>\n",
       "      <td>...</td>\n",
       "      <td>...</td>\n",
       "      <td>...</td>\n",
       "      <td>...</td>\n",
       "    </tr>\n",
       "    <tr>\n",
       "      <th>the-ghost-inside</th>\n",
       "      <td>12</td>\n",
       "      <td>12</td>\n",
       "      <td>12</td>\n",
       "      <td>12</td>\n",
       "      <td>12</td>\n",
       "    </tr>\n",
       "    <tr>\n",
       "      <th>the-ghost-of-a-saber-tooth-tiger</th>\n",
       "      <td>3</td>\n",
       "      <td>3</td>\n",
       "      <td>3</td>\n",
       "      <td>3</td>\n",
       "      <td>3</td>\n",
       "    </tr>\n",
       "    <tr>\n",
       "      <th>the-ghost-of-a-thousand</th>\n",
       "      <td>2</td>\n",
       "      <td>2</td>\n",
       "      <td>2</td>\n",
       "      <td>2</td>\n",
       "      <td>2</td>\n",
       "    </tr>\n",
       "    <tr>\n",
       "      <th>the-gift-of-gab</th>\n",
       "      <td>14</td>\n",
       "      <td>14</td>\n",
       "      <td>14</td>\n",
       "      <td>14</td>\n",
       "      <td>14</td>\n",
       "    </tr>\n",
       "    <tr>\n",
       "      <th>the-gills</th>\n",
       "      <td>10</td>\n",
       "      <td>10</td>\n",
       "      <td>10</td>\n",
       "      <td>10</td>\n",
       "      <td>10</td>\n",
       "    </tr>\n",
       "    <tr>\n",
       "      <th>the-girl-and-the-dreamcatcher</th>\n",
       "      <td>5</td>\n",
       "      <td>5</td>\n",
       "      <td>5</td>\n",
       "      <td>5</td>\n",
       "      <td>5</td>\n",
       "    </tr>\n",
       "    <tr>\n",
       "      <th>the-glitch-mob</th>\n",
       "      <td>4</td>\n",
       "      <td>4</td>\n",
       "      <td>4</td>\n",
       "      <td>4</td>\n",
       "      <td>4</td>\n",
       "    </tr>\n",
       "    <tr>\n",
       "      <th>the-glitter-band</th>\n",
       "      <td>9</td>\n",
       "      <td>9</td>\n",
       "      <td>9</td>\n",
       "      <td>9</td>\n",
       "      <td>9</td>\n",
       "    </tr>\n",
       "    <tr>\n",
       "      <th>the-gloomcatcher</th>\n",
       "      <td>1</td>\n",
       "      <td>1</td>\n",
       "      <td>1</td>\n",
       "      <td>1</td>\n",
       "      <td>1</td>\n",
       "    </tr>\n",
       "    <tr>\n",
       "      <th>the-gloria-record</th>\n",
       "      <td>17</td>\n",
       "      <td>17</td>\n",
       "      <td>17</td>\n",
       "      <td>17</td>\n",
       "      <td>17</td>\n",
       "    </tr>\n",
       "    <tr>\n",
       "      <th>the-glorious-sons</th>\n",
       "      <td>5</td>\n",
       "      <td>5</td>\n",
       "      <td>5</td>\n",
       "      <td>5</td>\n",
       "      <td>5</td>\n",
       "    </tr>\n",
       "    <tr>\n",
       "      <th>the-go-find</th>\n",
       "      <td>1</td>\n",
       "      <td>1</td>\n",
       "      <td>1</td>\n",
       "      <td>1</td>\n",
       "      <td>1</td>\n",
       "    </tr>\n",
       "    <tr>\n",
       "      <th>the-go-go-s</th>\n",
       "      <td>60</td>\n",
       "      <td>60</td>\n",
       "      <td>60</td>\n",
       "      <td>60</td>\n",
       "      <td>60</td>\n",
       "    </tr>\n",
       "    <tr>\n",
       "      <th>the-go-team</th>\n",
       "      <td>16</td>\n",
       "      <td>16</td>\n",
       "      <td>16</td>\n",
       "      <td>16</td>\n",
       "      <td>16</td>\n",
       "    </tr>\n",
       "    <tr>\n",
       "      <th>the-golden-palominos</th>\n",
       "      <td>27</td>\n",
       "      <td>27</td>\n",
       "      <td>27</td>\n",
       "      <td>27</td>\n",
       "      <td>27</td>\n",
       "    </tr>\n",
       "    <tr>\n",
       "      <th>the-golden-sounds</th>\n",
       "      <td>1</td>\n",
       "      <td>1</td>\n",
       "      <td>1</td>\n",
       "      <td>1</td>\n",
       "      <td>1</td>\n",
       "    </tr>\n",
       "    <tr>\n",
       "      <th>the-golliwogs</th>\n",
       "      <td>5</td>\n",
       "      <td>5</td>\n",
       "      <td>5</td>\n",
       "      <td>5</td>\n",
       "      <td>5</td>\n",
       "    </tr>\n",
       "    <tr>\n",
       "      <th>the-gone-jackals</th>\n",
       "      <td>29</td>\n",
       "      <td>29</td>\n",
       "      <td>29</td>\n",
       "      <td>29</td>\n",
       "      <td>29</td>\n",
       "    </tr>\n",
       "    <tr>\n",
       "      <th>the-good-china</th>\n",
       "      <td>4</td>\n",
       "      <td>4</td>\n",
       "      <td>4</td>\n",
       "      <td>4</td>\n",
       "      <td>4</td>\n",
       "    </tr>\n",
       "    <tr>\n",
       "      <th>the-good-life</th>\n",
       "      <td>37</td>\n",
       "      <td>37</td>\n",
       "      <td>37</td>\n",
       "      <td>37</td>\n",
       "      <td>37</td>\n",
       "    </tr>\n",
       "    <tr>\n",
       "      <th>the-good-lovelies</th>\n",
       "      <td>6</td>\n",
       "      <td>6</td>\n",
       "      <td>6</td>\n",
       "      <td>6</td>\n",
       "      <td>6</td>\n",
       "    </tr>\n",
       "    <tr>\n",
       "      <th>the-good-mad</th>\n",
       "      <td>2</td>\n",
       "      <td>2</td>\n",
       "      <td>2</td>\n",
       "      <td>2</td>\n",
       "      <td>2</td>\n",
       "    </tr>\n",
       "    <tr>\n",
       "      <th>the-goodwill</th>\n",
       "      <td>10</td>\n",
       "      <td>10</td>\n",
       "      <td>10</td>\n",
       "      <td>10</td>\n",
       "      <td>10</td>\n",
       "    </tr>\n",
       "    <tr>\n",
       "      <th>the-goonz</th>\n",
       "      <td>6</td>\n",
       "      <td>6</td>\n",
       "      <td>6</td>\n",
       "      <td>6</td>\n",
       "      <td>6</td>\n",
       "    </tr>\n",
       "    <tr>\n",
       "      <th>the-gracious-few</th>\n",
       "      <td>10</td>\n",
       "      <td>10</td>\n",
       "      <td>10</td>\n",
       "      <td>10</td>\n",
       "      <td>10</td>\n",
       "    </tr>\n",
       "    <tr>\n",
       "      <th>the-graham-situation</th>\n",
       "      <td>24</td>\n",
       "      <td>24</td>\n",
       "      <td>24</td>\n",
       "      <td>24</td>\n",
       "      <td>24</td>\n",
       "    </tr>\n",
       "    <tr>\n",
       "      <th>the-grand-magnolias</th>\n",
       "      <td>1</td>\n",
       "      <td>1</td>\n",
       "      <td>1</td>\n",
       "      <td>1</td>\n",
       "      <td>1</td>\n",
       "    </tr>\n",
       "    <tr>\n",
       "      <th>the-grates</th>\n",
       "      <td>4</td>\n",
       "      <td>4</td>\n",
       "      <td>4</td>\n",
       "      <td>4</td>\n",
       "      <td>4</td>\n",
       "    </tr>\n",
       "    <tr>\n",
       "      <th>the-graveyard-boulevard</th>\n",
       "      <td>10</td>\n",
       "      <td>10</td>\n",
       "      <td>10</td>\n",
       "      <td>10</td>\n",
       "      <td>10</td>\n",
       "    </tr>\n",
       "    <tr>\n",
       "      <th>the-great-flood-catastrophe</th>\n",
       "      <td>1</td>\n",
       "      <td>1</td>\n",
       "      <td>1</td>\n",
       "      <td>1</td>\n",
       "      <td>1</td>\n",
       "    </tr>\n",
       "  </tbody>\n",
       "</table>\n",
       "<p>9993 rows × 5 columns</p>\n",
       "</div>"
      ],
      "text/plain": [
       "                                      song  year  genre  lyrics  word_count\n",
       "artist                                                                     \n",
       "009-sound-system                         4     4      4       4           4\n",
       "047                                      1     1      1       1           1\n",
       "1-800-zombie                             2     2      2       2           2\n",
       "10-cc                                  142   142    142     142         142\n",
       "10-years                                74    74     74      74          74\n",
       "100-demons                               1     1      1       1           1\n",
       "100-monkeys                             30    30     30      30          30\n",
       "10000-maniacs                           90    90     90      90          90\n",
       "1000mods                                10    10     10      10          10\n",
       "104                                      1     1      1       1           1\n",
       "10cm                                     1     1      1       1           1\n",
       "10digits                                 1     1      1       1           1\n",
       "11-11                                    1     1      1       1           1\n",
       "112                                     93    93     93      93          93\n",
       "11th-hour                                3     3      3       3           3\n",
       "12-rounds                                6     6      6       6           6\n",
       "12-stones                               53    53     53      53          53\n",
       "13-engines                              14    14     14      14          14\n",
       "13-winters                               1     1      1       1           1\n",
       "14-bis                                  44    44     44      44          44\n",
       "16-bit                                   2     2      2       2           2\n",
       "16-frames                                3     3      3       3           3\n",
       "16-horsepower                           40    40     40      40          40\n",
       "16-stitch                                1     1      1       1           1\n",
       "16volt                                   5     5      5       5           5\n",
       "1910-fruitgum-company                    5     5      5       5           5\n",
       "1974-ad                                  2     2      2       2           2\n",
       "1982                                     4     4      4       4           4\n",
       "1982-termanology-and-statik-selektah     1     1      1       1           1\n",
       "1984                                     7     7      7       7           7\n",
       "...                                    ...   ...    ...     ...         ...\n",
       "the-ghost-inside                        12    12     12      12          12\n",
       "the-ghost-of-a-saber-tooth-tiger         3     3      3       3           3\n",
       "the-ghost-of-a-thousand                  2     2      2       2           2\n",
       "the-gift-of-gab                         14    14     14      14          14\n",
       "the-gills                               10    10     10      10          10\n",
       "the-girl-and-the-dreamcatcher            5     5      5       5           5\n",
       "the-glitch-mob                           4     4      4       4           4\n",
       "the-glitter-band                         9     9      9       9           9\n",
       "the-gloomcatcher                         1     1      1       1           1\n",
       "the-gloria-record                       17    17     17      17          17\n",
       "the-glorious-sons                        5     5      5       5           5\n",
       "the-go-find                              1     1      1       1           1\n",
       "the-go-go-s                             60    60     60      60          60\n",
       "the-go-team                             16    16     16      16          16\n",
       "the-golden-palominos                    27    27     27      27          27\n",
       "the-golden-sounds                        1     1      1       1           1\n",
       "the-golliwogs                            5     5      5       5           5\n",
       "the-gone-jackals                        29    29     29      29          29\n",
       "the-good-china                           4     4      4       4           4\n",
       "the-good-life                           37    37     37      37          37\n",
       "the-good-lovelies                        6     6      6       6           6\n",
       "the-good-mad                             2     2      2       2           2\n",
       "the-goodwill                            10    10     10      10          10\n",
       "the-goonz                                6     6      6       6           6\n",
       "the-gracious-few                        10    10     10      10          10\n",
       "the-graham-situation                    24    24     24      24          24\n",
       "the-grand-magnolias                      1     1      1       1           1\n",
       "the-grates                               4     4      4       4           4\n",
       "the-graveyard-boulevard                 10    10     10      10          10\n",
       "the-great-flood-catastrophe              1     1      1       1           1\n",
       "\n",
       "[9993 rows x 5 columns]"
      ]
     },
     "execution_count": 34,
     "metadata": {},
     "output_type": "execute_result"
    }
   ],
   "source": [
    "artist = df.groupby(['artist']).count()\n",
    "artist"
   ]
  },
  {
   "cell_type": "code",
   "execution_count": null,
   "metadata": {
    "collapsed": true
   },
   "outputs": [],
   "source": []
  },
  {
   "cell_type": "code",
   "execution_count": null,
   "metadata": {
    "collapsed": true
   },
   "outputs": [],
   "source": []
  },
  {
   "cell_type": "code",
   "execution_count": 35,
   "metadata": {
    "collapsed": true
   },
   "outputs": [],
   "source": [
    "from sklearn.model_selection import train_test_split\n",
    "# shuffle and split dataset into training dataset and testing dataset\n",
    "train, test = train_test_split(df, test_size=0.2)"
   ]
  },
  {
   "cell_type": "code",
   "execution_count": 36,
   "metadata": {
    "collapsed": false
   },
   "outputs": [
    {
     "name": "stdout",
     "output_type": "stream",
     "text": [
      "# of rows: 181281\n",
      "\n",
      "# of columns: 6\n",
      "\n"
     ]
    },
    {
     "data": {
      "text/html": [
       "<div>\n",
       "<table border=\"1\" class=\"dataframe\">\n",
       "  <thead>\n",
       "    <tr style=\"text-align: right;\">\n",
       "      <th></th>\n",
       "      <th>song</th>\n",
       "      <th>year</th>\n",
       "      <th>artist</th>\n",
       "      <th>genre</th>\n",
       "      <th>lyrics</th>\n",
       "      <th>word_count</th>\n",
       "    </tr>\n",
       "  </thead>\n",
       "  <tbody>\n",
       "    <tr>\n",
       "      <th>45504</th>\n",
       "      <td>break-the-public-peace</td>\n",
       "      <td>2006</td>\n",
       "      <td>de-heideroosjes</td>\n",
       "      <td>Rock</td>\n",
       "      <td>We've got to break the public peace Force thos...</td>\n",
       "      <td>229</td>\n",
       "    </tr>\n",
       "    <tr>\n",
       "      <th>241171</th>\n",
       "      <td>le-front-cache-sur-tes-genoux</td>\n",
       "      <td>2013</td>\n",
       "      <td>cascile-mclorin-salvant</td>\n",
       "      <td>Pop</td>\n",
       "      <td>Le front cachÃ© sur tes genoux, J'ai sanglotÃ©...</td>\n",
       "      <td>74</td>\n",
       "    </tr>\n",
       "    <tr>\n",
       "      <th>75792</th>\n",
       "      <td>neely-o-hara</td>\n",
       "      <td>2006</td>\n",
       "      <td>bright-eyes</td>\n",
       "      <td>Rock</td>\n",
       "      <td>In the morning When you throw up water And you...</td>\n",
       "      <td>119</td>\n",
       "    </tr>\n",
       "    <tr>\n",
       "      <th>339951</th>\n",
       "      <td>down-thru-durr</td>\n",
       "      <td>2010</td>\n",
       "      <td>chingy</td>\n",
       "      <td>Hip-Hop</td>\n",
       "      <td>Uh uh bounce, yeah Uh uh bounce, yeah I'm a ta...</td>\n",
       "      <td>571</td>\n",
       "    </tr>\n",
       "    <tr>\n",
       "      <th>41020</th>\n",
       "      <td>heidi-hoe</td>\n",
       "      <td>2006</td>\n",
       "      <td>common</td>\n",
       "      <td>Hip-Hop</td>\n",
       "      <td>Whatup bitch? I'm Peavey Wheatstraw And you do...</td>\n",
       "      <td>558</td>\n",
       "    </tr>\n",
       "  </tbody>\n",
       "</table>\n",
       "</div>"
      ],
      "text/plain": [
       "                                 song  year                   artist    genre  \\\n",
       "45504          break-the-public-peace  2006          de-heideroosjes     Rock   \n",
       "241171  le-front-cache-sur-tes-genoux  2013  cascile-mclorin-salvant      Pop   \n",
       "75792                    neely-o-hara  2006              bright-eyes     Rock   \n",
       "339951                 down-thru-durr  2010                   chingy  Hip-Hop   \n",
       "41020                       heidi-hoe  2006                   common  Hip-Hop   \n",
       "\n",
       "                                                   lyrics  word_count  \n",
       "45504   We've got to break the public peace Force thos...         229  \n",
       "241171  Le front cachÃ© sur tes genoux, J'ai sanglotÃ©...          74  \n",
       "75792   In the morning When you throw up water And you...         119  \n",
       "339951  Uh uh bounce, yeah Uh uh bounce, yeah I'm a ta...         571  \n",
       "41020   Whatup bitch? I'm Peavey Wheatstraw And you do...         558  "
      ]
     },
     "execution_count": 36,
     "metadata": {},
     "output_type": "execute_result"
    }
   ],
   "source": [
    "# check shape of train panda\n",
    "print(\"# of rows: {}\\n\".format(train.shape[0]))\n",
    "print(\"# of columns: {}\\n\".format(train.shape[1]))\n",
    "# check how train data is organized\n",
    "train.head()"
   ]
  },
  {
   "cell_type": "code",
   "execution_count": 37,
   "metadata": {
    "colab": {
     "autoexec": {
      "startup": false,
      "wait_interval": 0
     }
    },
    "colab_type": "code",
    "collapsed": false,
    "id": "90-03EV98Cwu"
   },
   "outputs": [
    {
     "name": "stdout",
     "output_type": "stream",
     "text": [
      "# of rows: 45321\n",
      "\n",
      "# of columns: 6\n",
      "\n"
     ]
    },
    {
     "data": {
      "text/html": [
       "<div>\n",
       "<table border=\"1\" class=\"dataframe\">\n",
       "  <thead>\n",
       "    <tr style=\"text-align: right;\">\n",
       "      <th></th>\n",
       "      <th>song</th>\n",
       "      <th>year</th>\n",
       "      <th>artist</th>\n",
       "      <th>genre</th>\n",
       "      <th>lyrics</th>\n",
       "      <th>word_count</th>\n",
       "    </tr>\n",
       "  </thead>\n",
       "  <tbody>\n",
       "    <tr>\n",
       "      <th>69609</th>\n",
       "      <td>returning</td>\n",
       "      <td>2015</td>\n",
       "      <td>black-rebel-motorcycle-club</td>\n",
       "      <td>Rock</td>\n",
       "      <td>A part of you is ending A part of you holds on...</td>\n",
       "      <td>220</td>\n",
       "    </tr>\n",
       "    <tr>\n",
       "      <th>204575</th>\n",
       "      <td>release-me-and-let-me-love-again</td>\n",
       "      <td>2006</td>\n",
       "      <td>engelbert-humperdinck</td>\n",
       "      <td>Pop</td>\n",
       "      <td>Please release me, let me go, For I don't love...</td>\n",
       "      <td>55</td>\n",
       "    </tr>\n",
       "    <tr>\n",
       "      <th>52672</th>\n",
       "      <td>man-is-not-a-bird</td>\n",
       "      <td>2008</td>\n",
       "      <td>broadcast</td>\n",
       "      <td>Pop</td>\n",
       "      <td>The sky is faint, their tears remain In me the...</td>\n",
       "      <td>128</td>\n",
       "    </tr>\n",
       "    <tr>\n",
       "      <th>359603</th>\n",
       "      <td>tell-me-one-more-time</td>\n",
       "      <td>2002</td>\n",
       "      <td>gareth-gates</td>\n",
       "      <td>Pop</td>\n",
       "      <td>Come on and tell me baby Do you believe in lov...</td>\n",
       "      <td>221</td>\n",
       "    </tr>\n",
       "    <tr>\n",
       "      <th>268397</th>\n",
       "      <td>medusa</td>\n",
       "      <td>2007</td>\n",
       "      <td>an-pierle</td>\n",
       "      <td>Rock</td>\n",
       "      <td>Strange, in troubled water I am drowning in a ...</td>\n",
       "      <td>129</td>\n",
       "    </tr>\n",
       "  </tbody>\n",
       "</table>\n",
       "</div>"
      ],
      "text/plain": [
       "                                    song  year                       artist  \\\n",
       "69609                          returning  2015  black-rebel-motorcycle-club   \n",
       "204575  release-me-and-let-me-love-again  2006        engelbert-humperdinck   \n",
       "52672                  man-is-not-a-bird  2008                    broadcast   \n",
       "359603             tell-me-one-more-time  2002                 gareth-gates   \n",
       "268397                            medusa  2007                    an-pierle   \n",
       "\n",
       "       genre                                             lyrics  word_count  \n",
       "69609   Rock  A part of you is ending A part of you holds on...         220  \n",
       "204575   Pop  Please release me, let me go, For I don't love...          55  \n",
       "52672    Pop  The sky is faint, their tears remain In me the...         128  \n",
       "359603   Pop  Come on and tell me baby Do you believe in lov...         221  \n",
       "268397  Rock  Strange, in troubled water I am drowning in a ...         129  "
      ]
     },
     "execution_count": 37,
     "metadata": {},
     "output_type": "execute_result"
    }
   ],
   "source": [
    "# check shape of test panda\n",
    "print(\"# of rows: {}\\n\".format(test.shape[0]))\n",
    "print(\"# of columns: {}\\n\".format(test.shape[1]))\n",
    "# check how test data is organized\n",
    "test.head()"
   ]
  },
  {
   "cell_type": "code",
   "execution_count": null,
   "metadata": {
    "colab": {
     "autoexec": {
      "startup": false,
      "wait_interval": 0
     }
    },
    "colab_type": "code",
    "collapsed": true,
    "id": "FgedqxkEKmY-"
   },
   "outputs": [],
   "source": []
  }
 ],
 "metadata": {
  "colab": {
   "default_view": {},
   "name": "COGS 118B Final Project.ipynb",
   "provenance": [],
   "version": "0.3.2",
   "views": {}
  },
  "kernelspec": {
   "display_name": "Python 3",
   "language": "python",
   "name": "python3"
  },
  "language_info": {
   "codemirror_mode": {
    "name": "ipython",
    "version": 3
   },
   "file_extension": ".py",
   "mimetype": "text/x-python",
   "name": "python",
   "nbconvert_exporter": "python",
   "pygments_lexer": "ipython3",
   "version": "3.6.0"
  }
 },
 "nbformat": 4,
 "nbformat_minor": 1
}
